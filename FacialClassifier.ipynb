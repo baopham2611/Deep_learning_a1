{
 "cells": [
  {
   "cell_type": "markdown",
   "metadata": {},
   "source": [
    "## IMPORT LIBRARES AND PACKAGES"
   ]
  },
  {
   "cell_type": "code",
   "execution_count": 206,
   "metadata": {},
   "outputs": [],
   "source": [
    "import keras\n",
    "import pandas as pd\n",
    "import numpy as np\n",
    "import matplotlib.pyplot as plt\n",
    "import seaborn as sns\n",
    "import os, cv2"
   ]
  },
  {
   "cell_type": "markdown",
   "metadata": {},
   "source": [
    "## [1] DATA PREPARATION"
   ]
  },
  {
   "cell_type": "markdown",
   "metadata": {},
   "source": [
    "Setup data directory"
   ]
  },
  {
   "cell_type": "code",
   "execution_count": 207,
   "metadata": {},
   "outputs": [],
   "source": [
    "IMAGE_DIRECTORY = \"./cohn-kanade-images/\"\n",
    "DATA_LABEL_DIRECTORY = \"./data_labels.csv\""
   ]
  },
  {
   "cell_type": "markdown",
   "metadata": {},
   "source": [
    "#### Load Label Dataset"
   ]
  },
  {
   "cell_type": "code",
   "execution_count": 208,
   "metadata": {},
   "outputs": [],
   "source": [
    "df = pd.read_csv(DATA_LABEL_DIRECTORY)"
   ]
  },
  {
   "cell_type": "markdown",
   "metadata": {},
   "source": [
    "Explore head"
   ]
  },
  {
   "cell_type": "code",
   "execution_count": 209,
   "metadata": {},
   "outputs": [
    {
     "data": {
      "text/html": [
       "<div>\n",
       "<style scoped>\n",
       "    .dataframe tbody tr th:only-of-type {\n",
       "        vertical-align: middle;\n",
       "    }\n",
       "\n",
       "    .dataframe tbody tr th {\n",
       "        vertical-align: top;\n",
       "    }\n",
       "\n",
       "    .dataframe thead th {\n",
       "        text-align: right;\n",
       "    }\n",
       "</style>\n",
       "<table border=\"1\" class=\"dataframe\">\n",
       "  <thead>\n",
       "    <tr style=\"text-align: right;\">\n",
       "      <th></th>\n",
       "      <th>subject</th>\n",
       "      <th>sequence</th>\n",
       "      <th>image_index</th>\n",
       "      <th>filepath</th>\n",
       "      <th>file_prefix</th>\n",
       "      <th>AU17</th>\n",
       "      <th>AU1</th>\n",
       "      <th>AU2</th>\n",
       "      <th>AU25</th>\n",
       "      <th>AU27</th>\n",
       "      <th>...</th>\n",
       "      <th>AU7</th>\n",
       "      <th>AU23</th>\n",
       "      <th>AU24</th>\n",
       "      <th>AU6</th>\n",
       "      <th>AU12</th>\n",
       "      <th>AU15</th>\n",
       "      <th>AU14</th>\n",
       "      <th>AU11</th>\n",
       "      <th>AU26</th>\n",
       "      <th>high_level_emotion</th>\n",
       "    </tr>\n",
       "  </thead>\n",
       "  <tbody>\n",
       "    <tr>\n",
       "      <th>0</th>\n",
       "      <td>S005</td>\n",
       "      <td>1</td>\n",
       "      <td>11</td>\n",
       "      <td>./cohn-kanade-images/S005/001/S005_001_0000001...</td>\n",
       "      <td>S005_001_00000011</td>\n",
       "      <td>1</td>\n",
       "      <td>0</td>\n",
       "      <td>0</td>\n",
       "      <td>0</td>\n",
       "      <td>0</td>\n",
       "      <td>...</td>\n",
       "      <td>0</td>\n",
       "      <td>0</td>\n",
       "      <td>0</td>\n",
       "      <td>0</td>\n",
       "      <td>0</td>\n",
       "      <td>0</td>\n",
       "      <td>0</td>\n",
       "      <td>0</td>\n",
       "      <td>0</td>\n",
       "      <td>negative</td>\n",
       "    </tr>\n",
       "    <tr>\n",
       "      <th>1</th>\n",
       "      <td>S010</td>\n",
       "      <td>1</td>\n",
       "      <td>14</td>\n",
       "      <td>./cohn-kanade-images/S010/001/S010_001_0000001...</td>\n",
       "      <td>S010_001_00000014</td>\n",
       "      <td>0</td>\n",
       "      <td>1</td>\n",
       "      <td>1</td>\n",
       "      <td>1</td>\n",
       "      <td>0</td>\n",
       "      <td>...</td>\n",
       "      <td>0</td>\n",
       "      <td>0</td>\n",
       "      <td>0</td>\n",
       "      <td>0</td>\n",
       "      <td>0</td>\n",
       "      <td>0</td>\n",
       "      <td>0</td>\n",
       "      <td>0</td>\n",
       "      <td>0</td>\n",
       "      <td>negative</td>\n",
       "    </tr>\n",
       "    <tr>\n",
       "      <th>2</th>\n",
       "      <td>S010</td>\n",
       "      <td>2</td>\n",
       "      <td>14</td>\n",
       "      <td>./cohn-kanade-images/S010/002/S010_002_0000001...</td>\n",
       "      <td>S010_002_00000014</td>\n",
       "      <td>0</td>\n",
       "      <td>1</td>\n",
       "      <td>1</td>\n",
       "      <td>1</td>\n",
       "      <td>1</td>\n",
       "      <td>...</td>\n",
       "      <td>0</td>\n",
       "      <td>0</td>\n",
       "      <td>0</td>\n",
       "      <td>0</td>\n",
       "      <td>0</td>\n",
       "      <td>0</td>\n",
       "      <td>0</td>\n",
       "      <td>0</td>\n",
       "      <td>0</td>\n",
       "      <td>surprise</td>\n",
       "    </tr>\n",
       "    <tr>\n",
       "      <th>3</th>\n",
       "      <td>S010</td>\n",
       "      <td>3</td>\n",
       "      <td>18</td>\n",
       "      <td>./cohn-kanade-images/S010/003/S010_003_0000001...</td>\n",
       "      <td>S010_003_00000018</td>\n",
       "      <td>1</td>\n",
       "      <td>0</td>\n",
       "      <td>0</td>\n",
       "      <td>0</td>\n",
       "      <td>0</td>\n",
       "      <td>...</td>\n",
       "      <td>0</td>\n",
       "      <td>0</td>\n",
       "      <td>0</td>\n",
       "      <td>0</td>\n",
       "      <td>0</td>\n",
       "      <td>0</td>\n",
       "      <td>0</td>\n",
       "      <td>0</td>\n",
       "      <td>0</td>\n",
       "      <td>negative</td>\n",
       "    </tr>\n",
       "    <tr>\n",
       "      <th>4</th>\n",
       "      <td>S010</td>\n",
       "      <td>4</td>\n",
       "      <td>19</td>\n",
       "      <td>./cohn-kanade-images/S010/004/S010_004_0000001...</td>\n",
       "      <td>S010_004_00000019</td>\n",
       "      <td>1</td>\n",
       "      <td>0</td>\n",
       "      <td>0</td>\n",
       "      <td>0</td>\n",
       "      <td>0</td>\n",
       "      <td>...</td>\n",
       "      <td>1</td>\n",
       "      <td>1</td>\n",
       "      <td>1</td>\n",
       "      <td>0</td>\n",
       "      <td>0</td>\n",
       "      <td>0</td>\n",
       "      <td>0</td>\n",
       "      <td>0</td>\n",
       "      <td>0</td>\n",
       "      <td>negative</td>\n",
       "    </tr>\n",
       "  </tbody>\n",
       "</table>\n",
       "<p>5 rows × 21 columns</p>\n",
       "</div>"
      ],
      "text/plain": [
       "  subject  sequence  image_index  \\\n",
       "0    S005         1           11   \n",
       "1    S010         1           14   \n",
       "2    S010         2           14   \n",
       "3    S010         3           18   \n",
       "4    S010         4           19   \n",
       "\n",
       "                                            filepath        file_prefix  AU17  \\\n",
       "0  ./cohn-kanade-images/S005/001/S005_001_0000001...  S005_001_00000011     1   \n",
       "1  ./cohn-kanade-images/S010/001/S010_001_0000001...  S010_001_00000014     0   \n",
       "2  ./cohn-kanade-images/S010/002/S010_002_0000001...  S010_002_00000014     0   \n",
       "3  ./cohn-kanade-images/S010/003/S010_003_0000001...  S010_003_00000018     1   \n",
       "4  ./cohn-kanade-images/S010/004/S010_004_0000001...  S010_004_00000019     1   \n",
       "\n",
       "   AU1  AU2  AU25  AU27  ...  AU7  AU23  AU24  AU6  AU12  AU15  AU14  AU11  \\\n",
       "0    0    0     0     0  ...    0     0     0    0     0     0     0     0   \n",
       "1    1    1     1     0  ...    0     0     0    0     0     0     0     0   \n",
       "2    1    1     1     1  ...    0     0     0    0     0     0     0     0   \n",
       "3    0    0     0     0  ...    0     0     0    0     0     0     0     0   \n",
       "4    0    0     0     0  ...    1     1     1    0     0     0     0     0   \n",
       "\n",
       "   AU26  high_level_emotion  \n",
       "0     0            negative  \n",
       "1     0            negative  \n",
       "2     0            surprise  \n",
       "3     0            negative  \n",
       "4     0            negative  \n",
       "\n",
       "[5 rows x 21 columns]"
      ]
     },
     "execution_count": 209,
     "metadata": {},
     "output_type": "execute_result"
    }
   ],
   "source": [
    "df.head(5)"
   ]
  },
  {
   "cell_type": "markdown",
   "metadata": {},
   "source": [
    "Explore Tail"
   ]
  },
  {
   "cell_type": "code",
   "execution_count": 210,
   "metadata": {},
   "outputs": [
    {
     "data": {
      "text/html": [
       "<div>\n",
       "<style scoped>\n",
       "    .dataframe tbody tr th:only-of-type {\n",
       "        vertical-align: middle;\n",
       "    }\n",
       "\n",
       "    .dataframe tbody tr th {\n",
       "        vertical-align: top;\n",
       "    }\n",
       "\n",
       "    .dataframe thead th {\n",
       "        text-align: right;\n",
       "    }\n",
       "</style>\n",
       "<table border=\"1\" class=\"dataframe\">\n",
       "  <thead>\n",
       "    <tr style=\"text-align: right;\">\n",
       "      <th></th>\n",
       "      <th>subject</th>\n",
       "      <th>sequence</th>\n",
       "      <th>image_index</th>\n",
       "      <th>filepath</th>\n",
       "      <th>file_prefix</th>\n",
       "      <th>AU17</th>\n",
       "      <th>AU1</th>\n",
       "      <th>AU2</th>\n",
       "      <th>AU25</th>\n",
       "      <th>AU27</th>\n",
       "      <th>...</th>\n",
       "      <th>AU7</th>\n",
       "      <th>AU23</th>\n",
       "      <th>AU24</th>\n",
       "      <th>AU6</th>\n",
       "      <th>AU12</th>\n",
       "      <th>AU15</th>\n",
       "      <th>AU14</th>\n",
       "      <th>AU11</th>\n",
       "      <th>AU26</th>\n",
       "      <th>high_level_emotion</th>\n",
       "    </tr>\n",
       "  </thead>\n",
       "  <tbody>\n",
       "    <tr>\n",
       "      <th>555</th>\n",
       "      <td>S506</td>\n",
       "      <td>4</td>\n",
       "      <td>38</td>\n",
       "      <td>./cohn-kanade-images/S506/004/S506_004_0000003...</td>\n",
       "      <td>S506_004_00000038</td>\n",
       "      <td>0</td>\n",
       "      <td>1</td>\n",
       "      <td>1</td>\n",
       "      <td>1</td>\n",
       "      <td>0</td>\n",
       "      <td>...</td>\n",
       "      <td>0</td>\n",
       "      <td>0</td>\n",
       "      <td>0</td>\n",
       "      <td>0</td>\n",
       "      <td>0</td>\n",
       "      <td>0</td>\n",
       "      <td>0</td>\n",
       "      <td>0</td>\n",
       "      <td>0</td>\n",
       "      <td>negative</td>\n",
       "    </tr>\n",
       "    <tr>\n",
       "      <th>556</th>\n",
       "      <td>S506</td>\n",
       "      <td>6</td>\n",
       "      <td>42</td>\n",
       "      <td>./cohn-kanade-images/S506/006/S506_006_0000004...</td>\n",
       "      <td>S506_006_00000042</td>\n",
       "      <td>1</td>\n",
       "      <td>1</td>\n",
       "      <td>1</td>\n",
       "      <td>0</td>\n",
       "      <td>0</td>\n",
       "      <td>...</td>\n",
       "      <td>0</td>\n",
       "      <td>0</td>\n",
       "      <td>0</td>\n",
       "      <td>0</td>\n",
       "      <td>0</td>\n",
       "      <td>1</td>\n",
       "      <td>0</td>\n",
       "      <td>0</td>\n",
       "      <td>1</td>\n",
       "      <td>negative</td>\n",
       "    </tr>\n",
       "    <tr>\n",
       "      <th>557</th>\n",
       "      <td>S895</td>\n",
       "      <td>2</td>\n",
       "      <td>7</td>\n",
       "      <td>./cohn-kanade-images/S895/002/S895_002_0000000...</td>\n",
       "      <td>S895_002_00000007</td>\n",
       "      <td>0</td>\n",
       "      <td>0</td>\n",
       "      <td>0</td>\n",
       "      <td>0</td>\n",
       "      <td>0</td>\n",
       "      <td>...</td>\n",
       "      <td>0</td>\n",
       "      <td>0</td>\n",
       "      <td>0</td>\n",
       "      <td>0</td>\n",
       "      <td>0</td>\n",
       "      <td>0</td>\n",
       "      <td>1</td>\n",
       "      <td>0</td>\n",
       "      <td>0</td>\n",
       "      <td>negative</td>\n",
       "    </tr>\n",
       "    <tr>\n",
       "      <th>558</th>\n",
       "      <td>S999</td>\n",
       "      <td>1</td>\n",
       "      <td>18</td>\n",
       "      <td>./cohn-kanade-images/S999/001/S999_001_0000001...</td>\n",
       "      <td>S999_001_00000018</td>\n",
       "      <td>1</td>\n",
       "      <td>0</td>\n",
       "      <td>0</td>\n",
       "      <td>0</td>\n",
       "      <td>0</td>\n",
       "      <td>...</td>\n",
       "      <td>0</td>\n",
       "      <td>1</td>\n",
       "      <td>0</td>\n",
       "      <td>0</td>\n",
       "      <td>0</td>\n",
       "      <td>0</td>\n",
       "      <td>0</td>\n",
       "      <td>0</td>\n",
       "      <td>0</td>\n",
       "      <td>negative</td>\n",
       "    </tr>\n",
       "    <tr>\n",
       "      <th>559</th>\n",
       "      <td>S999</td>\n",
       "      <td>3</td>\n",
       "      <td>55</td>\n",
       "      <td>./cohn-kanade-images/S999/003/S999_003_0000005...</td>\n",
       "      <td>S999_003_00000055</td>\n",
       "      <td>0</td>\n",
       "      <td>1</td>\n",
       "      <td>1</td>\n",
       "      <td>1</td>\n",
       "      <td>0</td>\n",
       "      <td>...</td>\n",
       "      <td>0</td>\n",
       "      <td>0</td>\n",
       "      <td>0</td>\n",
       "      <td>0</td>\n",
       "      <td>0</td>\n",
       "      <td>0</td>\n",
       "      <td>1</td>\n",
       "      <td>0</td>\n",
       "      <td>0</td>\n",
       "      <td>negative</td>\n",
       "    </tr>\n",
       "  </tbody>\n",
       "</table>\n",
       "<p>5 rows × 21 columns</p>\n",
       "</div>"
      ],
      "text/plain": [
       "    subject  sequence  image_index  \\\n",
       "555    S506         4           38   \n",
       "556    S506         6           42   \n",
       "557    S895         2            7   \n",
       "558    S999         1           18   \n",
       "559    S999         3           55   \n",
       "\n",
       "                                              filepath        file_prefix  \\\n",
       "555  ./cohn-kanade-images/S506/004/S506_004_0000003...  S506_004_00000038   \n",
       "556  ./cohn-kanade-images/S506/006/S506_006_0000004...  S506_006_00000042   \n",
       "557  ./cohn-kanade-images/S895/002/S895_002_0000000...  S895_002_00000007   \n",
       "558  ./cohn-kanade-images/S999/001/S999_001_0000001...  S999_001_00000018   \n",
       "559  ./cohn-kanade-images/S999/003/S999_003_0000005...  S999_003_00000055   \n",
       "\n",
       "     AU17  AU1  AU2  AU25  AU27  ...  AU7  AU23  AU24  AU6  AU12  AU15  AU14  \\\n",
       "555     0    1    1     1     0  ...    0     0     0    0     0     0     0   \n",
       "556     1    1    1     0     0  ...    0     0     0    0     0     1     0   \n",
       "557     0    0    0     0     0  ...    0     0     0    0     0     0     1   \n",
       "558     1    0    0     0     0  ...    0     1     0    0     0     0     0   \n",
       "559     0    1    1     1     0  ...    0     0     0    0     0     0     1   \n",
       "\n",
       "     AU11  AU26  high_level_emotion  \n",
       "555     0     0            negative  \n",
       "556     0     1            negative  \n",
       "557     0     0            negative  \n",
       "558     0     0            negative  \n",
       "559     0     0            negative  \n",
       "\n",
       "[5 rows x 21 columns]"
      ]
     },
     "execution_count": 210,
     "metadata": {},
     "output_type": "execute_result"
    }
   ],
   "source": [
    "df.tail(5)"
   ]
  },
  {
   "cell_type": "markdown",
   "metadata": {},
   "source": [
    "#### [1.2] DATA INTEGRITY CHECKING"
   ]
  },
  {
   "cell_type": "markdown",
   "metadata": {},
   "source": [
    "Check Duplicate"
   ]
  },
  {
   "cell_type": "code",
   "execution_count": 211,
   "metadata": {},
   "outputs": [
    {
     "name": "stdout",
     "output_type": "stream",
     "text": [
      "Number of duplicated rows: 0\n"
     ]
    }
   ],
   "source": [
    "print('Number of duplicated rows:', df.duplicated().sum())"
   ]
  },
  {
   "cell_type": "markdown",
   "metadata": {},
   "source": [
    "Check Nan Value"
   ]
  },
  {
   "cell_type": "code",
   "execution_count": 212,
   "metadata": {},
   "outputs": [
    {
     "name": "stdout",
     "output_type": "stream",
     "text": [
      "Number of Nan value rows:\n",
      " subject               0\n",
      "sequence              0\n",
      "image_index           0\n",
      "filepath              0\n",
      "file_prefix           0\n",
      "AU17                  0\n",
      "AU1                   0\n",
      "AU2                   0\n",
      "AU25                  0\n",
      "AU27                  0\n",
      "AU4                   0\n",
      "AU7                   0\n",
      "AU23                  0\n",
      "AU24                  0\n",
      "AU6                   0\n",
      "AU12                  0\n",
      "AU15                  0\n",
      "AU14                  0\n",
      "AU11                  0\n",
      "AU26                  0\n",
      "high_level_emotion    0\n",
      "dtype: int64\n"
     ]
    }
   ],
   "source": [
    "print('Number of Nan value rows:\\n', df.isnull().sum())"
   ]
  },
  {
   "cell_type": "markdown",
   "metadata": {},
   "source": [
    "Check Data Overall "
   ]
  },
  {
   "cell_type": "code",
   "execution_count": 213,
   "metadata": {},
   "outputs": [
    {
     "name": "stdout",
     "output_type": "stream",
     "text": [
      "<class 'pandas.core.frame.DataFrame'>\n",
      "RangeIndex: 560 entries, 0 to 559\n",
      "Data columns (total 21 columns):\n",
      " #   Column              Non-Null Count  Dtype \n",
      "---  ------              --------------  ----- \n",
      " 0   subject             560 non-null    object\n",
      " 1   sequence            560 non-null    int64 \n",
      " 2   image_index         560 non-null    int64 \n",
      " 3   filepath            560 non-null    object\n",
      " 4   file_prefix         560 non-null    object\n",
      " 5   AU17                560 non-null    int64 \n",
      " 6   AU1                 560 non-null    int64 \n",
      " 7   AU2                 560 non-null    int64 \n",
      " 8   AU25                560 non-null    int64 \n",
      " 9   AU27                560 non-null    int64 \n",
      " 10  AU4                 560 non-null    int64 \n",
      " 11  AU7                 560 non-null    int64 \n",
      " 12  AU23                560 non-null    int64 \n",
      " 13  AU24                560 non-null    int64 \n",
      " 14  AU6                 560 non-null    int64 \n",
      " 15  AU12                560 non-null    int64 \n",
      " 16  AU15                560 non-null    int64 \n",
      " 17  AU14                560 non-null    int64 \n",
      " 18  AU11                560 non-null    int64 \n",
      " 19  AU26                560 non-null    int64 \n",
      " 20  high_level_emotion  560 non-null    object\n",
      "dtypes: int64(17), object(4)\n",
      "memory usage: 92.0+ KB\n"
     ]
    }
   ],
   "source": [
    "df.info()"
   ]
  },
  {
   "cell_type": "markdown",
   "metadata": {},
   "source": [
    "## [2] EXPLORATORY DATA ANALYSIS"
   ]
  },
  {
   "cell_type": "markdown",
   "metadata": {},
   "source": [
    "Check Label Count"
   ]
  },
  {
   "cell_type": "code",
   "execution_count": 214,
   "metadata": {},
   "outputs": [
    {
     "name": "stderr",
     "output_type": "stream",
     "text": [
      "/var/folders/fw/d2x7nnxd3f90qrnsdxzvsjqw0000gn/T/ipykernel_37991/92275530.py:5: FutureWarning: \n",
      "\n",
      "Passing `palette` without assigning `hue` is deprecated and will be removed in v0.14.0. Assign the `x` variable to `hue` and set `legend=False` for the same effect.\n",
      "\n",
      "  ax = sns.barplot(x=target_value_counts.index, y=target_value_counts.values, palette='hls')\n"
     ]
    },
    {
     "data": {
      "image/png": "[encoded data removed]",
      "text/plain": [
       "<Figure size 640x480 with 1 Axes>"
      ]
     },
     "metadata": {},
     "output_type": "display_data"
    }
   ],
   "source": [
    "# Get the counts of each target value\n",
    "target_value_counts = df['high_level_emotion'].value_counts()\n",
    "\n",
    "# Create a bar plot\n",
    "ax = sns.barplot(x=target_value_counts.index, y=target_value_counts.values, palette='hls')\n",
    "\n",
    "# Show the number of observations inside each bar\n",
    "for container in ax.containers:\n",
    "    ax.bar_label(container, fmt='%d')\n",
    "\n",
    "plt.xlabel('Target Value')\n",
    "plt.ylabel('Count')\n",
    "plt.title('Distribution of Emotion Values')\n",
    "plt.show()"
   ]
  },
  {
   "cell_type": "markdown",
   "metadata": {},
   "source": [
    "**Observation**\n",
    "\n",
    "It seems there are unbalanced count of negative comparing to other label"
   ]
  },
  {
   "cell_type": "markdown",
   "metadata": {},
   "source": [
    "## [3] SETUP AND EXTRACT ESSENTIAL DATA "
   ]
  },
  {
   "cell_type": "markdown",
   "metadata": {},
   "source": [
    "#### Load Image Dataset"
   ]
  },
  {
   "cell_type": "code",
   "execution_count": 215,
   "metadata": {},
   "outputs": [
    {
     "data": {
      "text/plain": [
       "(560, 48, 48, 1)"
      ]
     },
     "execution_count": 215,
     "metadata": {},
     "output_type": "execute_result"
    }
   ],
   "source": [
    "# Initialize an empty list to store processed images\n",
    "img_data_list = []\n",
    "\n",
    "# Get a list of image file paths from the 'filepath' column in the DataFrame\n",
    "img_file_list = df['filepath'].tolist()\n",
    "\n",
    "# Iterate through each image file path\n",
    "for img in img_file_list:\n",
    "    input_img = cv2.imread(img)\n",
    "\n",
    "    ### GrayScale ?\n",
    "    grayscaled_image = cv2.cvtColor(input_img, cv2.COLOR_BGR2GRAY)\n",
    "\n",
    "    # Resize the image to a fixed size of 48x48 pixels\n",
    "    input_img_resize=cv2.resize(grayscaled_image,(48,48))\n",
    "\n",
    "    # Normalize the image pixel values to lie between 0 and 1\n",
    "    normalized_image = input_img_resize / 255.0\n",
    "\n",
    "    ### Expanded ? \n",
    "    expanded_image = np.expand_dims(normalized_image, axis=-1)\n",
    "\n",
    "    img_data_list.append(expanded_image)\n",
    "\n",
    "# Convert the list of resized images to a NumPy array\n",
    "img_data = np.array(img_data_list)\n",
    "# Convert the data type of pixel values to 'float32'\n",
    "img_data = img_data.astype('float32')\n",
    "\n",
    "# Check Shape\n",
    "# 560 images.\n",
    "# 48 pixels in height.\n",
    "# 48 pixels in width.\n",
    "# 1 since the image are grayscaled.\n",
    "img_data.shape"
   ]
  },
  {
   "cell_type": "markdown",
   "metadata": {},
   "source": [
    "#### Load Label"
   ]
  },
  {
   "cell_type": "code",
   "execution_count": 216,
   "metadata": {},
   "outputs": [
    {
     "data": {
      "text/plain": [
       "560"
      ]
     },
     "execution_count": 216,
     "metadata": {},
     "output_type": "execute_result"
    }
   ],
   "source": [
    "# Define mapping conversion\n",
    "target_mapping = {'negative': 0, 'positive': 1, 'surprise': 2}\n",
    "df['high_level_emotion_num'] = df['high_level_emotion'].map(target_mapping)\n",
    "labels = df['high_level_emotion_num'].to_list()\n",
    "len(labels)"
   ]
  },
  {
   "cell_type": "markdown",
   "metadata": {},
   "source": [
    "#### Load FACS CODE"
   ]
  },
  {
   "cell_type": "code",
   "execution_count": 217,
   "metadata": {},
   "outputs": [
    {
     "data": {
      "text/plain": [
       "560"
      ]
     },
     "execution_count": 217,
     "metadata": {},
     "output_type": "execute_result"
    }
   ],
   "source": [
    "facs_code_list = []\n",
    "for i in range(df.shape[0]):\n",
    "    facs_code_row = df.iloc[i, 5:20].tolist()\n",
    "    facs_code_list.append(facs_code_row)\n",
    "len(facs_code_list)"
   ]
  },
  {
   "cell_type": "markdown",
   "metadata": {},
   "source": [
    "### [3.1] FEATURE EXTRACTION"
   ]
  },
  {
   "cell_type": "code",
   "execution_count": 218,
   "metadata": {},
   "outputs": [],
   "source": [
    "from keras.utils import to_categorical\n",
    "from sklearn.utils import shuffle\n",
    "from sklearn.model_selection import train_test_split"
   ]
  },
  {
   "cell_type": "code",
   "execution_count": 219,
   "metadata": {},
   "outputs": [],
   "source": [
    "names = ['negative','positive','surprise']\n",
    "\n",
    "def getLabel(id):\n",
    "    return ['negative','positive','surprise'][id]"
   ]
  },
  {
   "cell_type": "markdown",
   "metadata": {},
   "source": [
    "Extract indices "
   ]
  },
  {
   "cell_type": "code",
   "execution_count": 220,
   "metadata": {},
   "outputs": [],
   "source": [
    "num_classes = 3\n",
    "Y = to_categorical(labels, num_classes=num_classes)\n",
    "# x,y = shuffle(img_data, Y, random_state=2)\n",
    "# x.shape, y.shape"
   ]
  }
 ],
 "metadata": {
  "kernelspec": {
   "display_name": "Python 3",
   "language": "python",
   "name": "python3"
  },
  "language_info": {
   "codemirror_mode": {
    "name": "ipython",
    "version": 3
   },
   "file_extension": ".py",
   "mimetype": "text/x-python",
   "name": "python",
   "nbconvert_exporter": "python",
   "pygments_lexer": "ipython3",
   "version": "3.8.17"
  }
 },
 "nbformat": 4,
 "nbformat_minor": 2
}
