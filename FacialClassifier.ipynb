{
 "cells": [
  {
   "cell_type": "markdown",
   "metadata": {},
   "source": [
    "## IMPORT LIBRARES AND PACKAGES"
   ]
  },
  {
   "cell_type": "code",
   "execution_count": 28,
   "metadata": {},
   "outputs": [],
   "source": [
    "import keras\n",
    "import pandas as pd\n",
    "import numpy as np\n",
    "import matplotlib.pyplot as plt\n",
    "import seaborn as sns\n",
    "import os, cv2\n",
    "\n",
    "from PIL import Image\n",
    "from scipy import stats\n",
    "\n",
    "from keras.utils import to_categorical"
   ]
  },
  {
   "cell_type": "markdown",
   "metadata": {},
   "source": [
    "## [1] DATA PREPARATION"
   ]
  },
  {
   "cell_type": "markdown",
   "metadata": {},
   "source": [
    "Setup data directory"
   ]
  },
  {
   "cell_type": "code",
   "execution_count": 29,
   "metadata": {},
   "outputs": [],
   "source": [
    "IMAGE_DIRECTORY = \"./data-1/cohn-kanade-images/\"\n",
    "DATA_LABEL_DIRECTORY = \"./data-1/data_labels.csv\""
   ]
  },
  {
   "cell_type": "markdown",
   "metadata": {},
   "source": [
    "#### Load Label Dataset"
   ]
  },
  {
   "cell_type": "code",
   "execution_count": 30,
   "metadata": {},
   "outputs": [],
   "source": [
    "df = pd.read_csv(DATA_LABEL_DIRECTORY)"
   ]
  },
  {
   "cell_type": "markdown",
   "metadata": {},
   "source": [
    "Explore head"
   ]
  },
  {
   "cell_type": "code",
   "execution_count": 31,
   "metadata": {},
   "outputs": [
    {
     "data": {
      "text/html": [
       "<div>\n",
       "<style scoped>\n",
       "    .dataframe tbody tr th:only-of-type {\n",
       "        vertical-align: middle;\n",
       "    }\n",
       "\n",
       "    .dataframe tbody tr th {\n",
       "        vertical-align: top;\n",
       "    }\n",
       "\n",
       "    .dataframe thead th {\n",
       "        text-align: right;\n",
       "    }\n",
       "</style>\n",
       "<table border=\"1\" class=\"dataframe\">\n",
       "  <thead>\n",
       "    <tr style=\"text-align: right;\">\n",
       "      <th></th>\n",
       "      <th>subject</th>\n",
       "      <th>sequence</th>\n",
       "      <th>image_index</th>\n",
       "      <th>filepath</th>\n",
       "      <th>file_prefix</th>\n",
       "      <th>AU17</th>\n",
       "      <th>AU1</th>\n",
       "      <th>AU2</th>\n",
       "      <th>AU25</th>\n",
       "      <th>AU27</th>\n",
       "      <th>AU4</th>\n",
       "      <th>AU7</th>\n",
       "      <th>AU23</th>\n",
       "      <th>AU24</th>\n",
       "      <th>AU6</th>\n",
       "      <th>AU12</th>\n",
       "      <th>AU15</th>\n",
       "      <th>AU14</th>\n",
       "      <th>AU11</th>\n",
       "      <th>AU26</th>\n",
       "      <th>high_level_emotion</th>\n",
       "    </tr>\n",
       "  </thead>\n",
       "  <tbody>\n",
       "    <tr>\n",
       "      <th>0</th>\n",
       "      <td>S005</td>\n",
       "      <td>1</td>\n",
       "      <td>11</td>\n",
       "      <td>./cohn-kanade-images/S005/001/S005_001_0000001...</td>\n",
       "      <td>S005_001_00000011</td>\n",
       "      <td>1</td>\n",
       "      <td>0</td>\n",
       "      <td>0</td>\n",
       "      <td>0</td>\n",
       "      <td>0</td>\n",
       "      <td>0</td>\n",
       "      <td>0</td>\n",
       "      <td>0</td>\n",
       "      <td>0</td>\n",
       "      <td>0</td>\n",
       "      <td>0</td>\n",
       "      <td>0</td>\n",
       "      <td>0</td>\n",
       "      <td>0</td>\n",
       "      <td>0</td>\n",
       "      <td>negative</td>\n",
       "    </tr>\n",
       "    <tr>\n",
       "      <th>1</th>\n",
       "      <td>S010</td>\n",
       "      <td>1</td>\n",
       "      <td>14</td>\n",
       "      <td>./cohn-kanade-images/S010/001/S010_001_0000001...</td>\n",
       "      <td>S010_001_00000014</td>\n",
       "      <td>0</td>\n",
       "      <td>1</td>\n",
       "      <td>1</td>\n",
       "      <td>1</td>\n",
       "      <td>0</td>\n",
       "      <td>0</td>\n",
       "      <td>0</td>\n",
       "      <td>0</td>\n",
       "      <td>0</td>\n",
       "      <td>0</td>\n",
       "      <td>0</td>\n",
       "      <td>0</td>\n",
       "      <td>0</td>\n",
       "      <td>0</td>\n",
       "      <td>0</td>\n",
       "      <td>negative</td>\n",
       "    </tr>\n",
       "    <tr>\n",
       "      <th>2</th>\n",
       "      <td>S010</td>\n",
       "      <td>2</td>\n",
       "      <td>14</td>\n",
       "      <td>./cohn-kanade-images/S010/002/S010_002_0000001...</td>\n",
       "      <td>S010_002_00000014</td>\n",
       "      <td>0</td>\n",
       "      <td>1</td>\n",
       "      <td>1</td>\n",
       "      <td>1</td>\n",
       "      <td>1</td>\n",
       "      <td>0</td>\n",
       "      <td>0</td>\n",
       "      <td>0</td>\n",
       "      <td>0</td>\n",
       "      <td>0</td>\n",
       "      <td>0</td>\n",
       "      <td>0</td>\n",
       "      <td>0</td>\n",
       "      <td>0</td>\n",
       "      <td>0</td>\n",
       "      <td>surprise</td>\n",
       "    </tr>\n",
       "    <tr>\n",
       "      <th>3</th>\n",
       "      <td>S010</td>\n",
       "      <td>3</td>\n",
       "      <td>18</td>\n",
       "      <td>./cohn-kanade-images/S010/003/S010_003_0000001...</td>\n",
       "      <td>S010_003_00000018</td>\n",
       "      <td>1</td>\n",
       "      <td>0</td>\n",
       "      <td>0</td>\n",
       "      <td>0</td>\n",
       "      <td>0</td>\n",
       "      <td>1</td>\n",
       "      <td>0</td>\n",
       "      <td>0</td>\n",
       "      <td>0</td>\n",
       "      <td>0</td>\n",
       "      <td>0</td>\n",
       "      <td>0</td>\n",
       "      <td>0</td>\n",
       "      <td>0</td>\n",
       "      <td>0</td>\n",
       "      <td>negative</td>\n",
       "    </tr>\n",
       "    <tr>\n",
       "      <th>4</th>\n",
       "      <td>S010</td>\n",
       "      <td>4</td>\n",
       "      <td>19</td>\n",
       "      <td>./cohn-kanade-images/S010/004/S010_004_0000001...</td>\n",
       "      <td>S010_004_00000019</td>\n",
       "      <td>1</td>\n",
       "      <td>0</td>\n",
       "      <td>0</td>\n",
       "      <td>0</td>\n",
       "      <td>0</td>\n",
       "      <td>1</td>\n",
       "      <td>1</td>\n",
       "      <td>1</td>\n",
       "      <td>1</td>\n",
       "      <td>0</td>\n",
       "      <td>0</td>\n",
       "      <td>0</td>\n",
       "      <td>0</td>\n",
       "      <td>0</td>\n",
       "      <td>0</td>\n",
       "      <td>negative</td>\n",
       "    </tr>\n",
       "  </tbody>\n",
       "</table>\n",
       "</div>"
      ],
      "text/plain": [
       "  subject  sequence  image_index  ... AU11 AU26  high_level_emotion\n",
       "0    S005         1           11  ...    0    0            negative\n",
       "1    S010         1           14  ...    0    0            negative\n",
       "2    S010         2           14  ...    0    0            surprise\n",
       "3    S010         3           18  ...    0    0            negative\n",
       "4    S010         4           19  ...    0    0            negative\n",
       "\n",
       "[5 rows x 21 columns]"
      ]
     },
     "execution_count": 31,
     "metadata": {},
     "output_type": "execute_result"
    }
   ],
   "source": [
    "df.head(5)"
   ]
  },
  {
   "cell_type": "markdown",
   "metadata": {},
   "source": [
    "Explore Tail"
   ]
  },
  {
   "cell_type": "code",
   "execution_count": 32,
   "metadata": {},
   "outputs": [
    {
     "data": {
      "text/html": [
       "<div>\n",
       "<style scoped>\n",
       "    .dataframe tbody tr th:only-of-type {\n",
       "        vertical-align: middle;\n",
       "    }\n",
       "\n",
       "    .dataframe tbody tr th {\n",
       "        vertical-align: top;\n",
       "    }\n",
       "\n",
       "    .dataframe thead th {\n",
       "        text-align: right;\n",
       "    }\n",
       "</style>\n",
       "<table border=\"1\" class=\"dataframe\">\n",
       "  <thead>\n",
       "    <tr style=\"text-align: right;\">\n",
       "      <th></th>\n",
       "      <th>subject</th>\n",
       "      <th>sequence</th>\n",
       "      <th>image_index</th>\n",
       "      <th>filepath</th>\n",
       "      <th>file_prefix</th>\n",
       "      <th>AU17</th>\n",
       "      <th>AU1</th>\n",
       "      <th>AU2</th>\n",
       "      <th>AU25</th>\n",
       "      <th>AU27</th>\n",
       "      <th>AU4</th>\n",
       "      <th>AU7</th>\n",
       "      <th>AU23</th>\n",
       "      <th>AU24</th>\n",
       "      <th>AU6</th>\n",
       "      <th>AU12</th>\n",
       "      <th>AU15</th>\n",
       "      <th>AU14</th>\n",
       "      <th>AU11</th>\n",
       "      <th>AU26</th>\n",
       "      <th>high_level_emotion</th>\n",
       "    </tr>\n",
       "  </thead>\n",
       "  <tbody>\n",
       "    <tr>\n",
       "      <th>555</th>\n",
       "      <td>S506</td>\n",
       "      <td>4</td>\n",
       "      <td>38</td>\n",
       "      <td>./cohn-kanade-images/S506/004/S506_004_0000003...</td>\n",
       "      <td>S506_004_00000038</td>\n",
       "      <td>0</td>\n",
       "      <td>1</td>\n",
       "      <td>1</td>\n",
       "      <td>1</td>\n",
       "      <td>0</td>\n",
       "      <td>1</td>\n",
       "      <td>0</td>\n",
       "      <td>0</td>\n",
       "      <td>0</td>\n",
       "      <td>0</td>\n",
       "      <td>0</td>\n",
       "      <td>0</td>\n",
       "      <td>0</td>\n",
       "      <td>0</td>\n",
       "      <td>0</td>\n",
       "      <td>negative</td>\n",
       "    </tr>\n",
       "    <tr>\n",
       "      <th>556</th>\n",
       "      <td>S506</td>\n",
       "      <td>6</td>\n",
       "      <td>42</td>\n",
       "      <td>./cohn-kanade-images/S506/006/S506_006_0000004...</td>\n",
       "      <td>S506_006_00000042</td>\n",
       "      <td>1</td>\n",
       "      <td>1</td>\n",
       "      <td>1</td>\n",
       "      <td>0</td>\n",
       "      <td>0</td>\n",
       "      <td>1</td>\n",
       "      <td>0</td>\n",
       "      <td>0</td>\n",
       "      <td>0</td>\n",
       "      <td>0</td>\n",
       "      <td>0</td>\n",
       "      <td>1</td>\n",
       "      <td>0</td>\n",
       "      <td>0</td>\n",
       "      <td>1</td>\n",
       "      <td>negative</td>\n",
       "    </tr>\n",
       "    <tr>\n",
       "      <th>557</th>\n",
       "      <td>S895</td>\n",
       "      <td>2</td>\n",
       "      <td>7</td>\n",
       "      <td>./cohn-kanade-images/S895/002/S895_002_0000000...</td>\n",
       "      <td>S895_002_00000007</td>\n",
       "      <td>0</td>\n",
       "      <td>0</td>\n",
       "      <td>0</td>\n",
       "      <td>0</td>\n",
       "      <td>0</td>\n",
       "      <td>0</td>\n",
       "      <td>0</td>\n",
       "      <td>0</td>\n",
       "      <td>0</td>\n",
       "      <td>0</td>\n",
       "      <td>0</td>\n",
       "      <td>0</td>\n",
       "      <td>1</td>\n",
       "      <td>0</td>\n",
       "      <td>0</td>\n",
       "      <td>negative</td>\n",
       "    </tr>\n",
       "    <tr>\n",
       "      <th>558</th>\n",
       "      <td>S999</td>\n",
       "      <td>1</td>\n",
       "      <td>18</td>\n",
       "      <td>./cohn-kanade-images/S999/001/S999_001_0000001...</td>\n",
       "      <td>S999_001_00000018</td>\n",
       "      <td>1</td>\n",
       "      <td>0</td>\n",
       "      <td>0</td>\n",
       "      <td>0</td>\n",
       "      <td>0</td>\n",
       "      <td>1</td>\n",
       "      <td>0</td>\n",
       "      <td>1</td>\n",
       "      <td>0</td>\n",
       "      <td>0</td>\n",
       "      <td>0</td>\n",
       "      <td>0</td>\n",
       "      <td>0</td>\n",
       "      <td>0</td>\n",
       "      <td>0</td>\n",
       "      <td>negative</td>\n",
       "    </tr>\n",
       "    <tr>\n",
       "      <th>559</th>\n",
       "      <td>S999</td>\n",
       "      <td>3</td>\n",
       "      <td>55</td>\n",
       "      <td>./cohn-kanade-images/S999/003/S999_003_0000005...</td>\n",
       "      <td>S999_003_00000055</td>\n",
       "      <td>0</td>\n",
       "      <td>1</td>\n",
       "      <td>1</td>\n",
       "      <td>1</td>\n",
       "      <td>0</td>\n",
       "      <td>1</td>\n",
       "      <td>0</td>\n",
       "      <td>0</td>\n",
       "      <td>0</td>\n",
       "      <td>0</td>\n",
       "      <td>0</td>\n",
       "      <td>0</td>\n",
       "      <td>1</td>\n",
       "      <td>0</td>\n",
       "      <td>0</td>\n",
       "      <td>negative</td>\n",
       "    </tr>\n",
       "  </tbody>\n",
       "</table>\n",
       "</div>"
      ],
      "text/plain": [
       "    subject  sequence  image_index  ... AU11 AU26  high_level_emotion\n",
       "555    S506         4           38  ...    0    0            negative\n",
       "556    S506         6           42  ...    0    1            negative\n",
       "557    S895         2            7  ...    0    0            negative\n",
       "558    S999         1           18  ...    0    0            negative\n",
       "559    S999         3           55  ...    0    0            negative\n",
       "\n",
       "[5 rows x 21 columns]"
      ]
     },
     "execution_count": 32,
     "metadata": {},
     "output_type": "execute_result"
    }
   ],
   "source": [
    "df.tail(5)"
   ]
  },
  {
   "cell_type": "markdown",
   "metadata": {},
   "source": [
    "#### 1.1 DATA INTEGRITY CHECKING"
   ]
  },
  {
   "cell_type": "markdown",
   "metadata": {},
   "source": [
    "Check Duplicate"
   ]
  },
  {
   "cell_type": "code",
   "execution_count": 33,
   "metadata": {},
   "outputs": [
    {
     "name": "stdout",
     "output_type": "stream",
     "text": [
      "Number of duplicated rows: 0\n"
     ]
    }
   ],
   "source": [
    "print('Number of duplicated rows:', df.duplicated().sum())"
   ]
  },
  {
   "cell_type": "markdown",
   "metadata": {},
   "source": [
    "Check Nan Value"
   ]
  },
  {
   "cell_type": "code",
   "execution_count": 34,
   "metadata": {},
   "outputs": [
    {
     "name": "stdout",
     "output_type": "stream",
     "text": [
      "Number of Nan value rows:\n",
      " subject               0\n",
      "sequence              0\n",
      "image_index           0\n",
      "filepath              0\n",
      "file_prefix           0\n",
      "AU17                  0\n",
      "AU1                   0\n",
      "AU2                   0\n",
      "AU25                  0\n",
      "AU27                  0\n",
      "AU4                   0\n",
      "AU7                   0\n",
      "AU23                  0\n",
      "AU24                  0\n",
      "AU6                   0\n",
      "AU12                  0\n",
      "AU15                  0\n",
      "AU14                  0\n",
      "AU11                  0\n",
      "AU26                  0\n",
      "high_level_emotion    0\n",
      "dtype: int64\n"
     ]
    }
   ],
   "source": [
    "print('Number of Nan value rows:\\n', df.isnull().sum())"
   ]
  },
  {
   "cell_type": "markdown",
   "metadata": {},
   "source": [
    "Check Data Overall "
   ]
  },
  {
   "cell_type": "code",
   "execution_count": 35,
   "metadata": {},
   "outputs": [
    {
     "name": "stdout",
     "output_type": "stream",
     "text": [
      "<class 'pandas.core.frame.DataFrame'>\n",
      "RangeIndex: 560 entries, 0 to 559\n",
      "Data columns (total 21 columns):\n",
      " #   Column              Non-Null Count  Dtype \n",
      "---  ------              --------------  ----- \n",
      " 0   subject             560 non-null    object\n",
      " 1   sequence            560 non-null    int64 \n",
      " 2   image_index         560 non-null    int64 \n",
      " 3   filepath            560 non-null    object\n",
      " 4   file_prefix         560 non-null    object\n",
      " 5   AU17                560 non-null    int64 \n",
      " 6   AU1                 560 non-null    int64 \n",
      " 7   AU2                 560 non-null    int64 \n",
      " 8   AU25                560 non-null    int64 \n",
      " 9   AU27                560 non-null    int64 \n",
      " 10  AU4                 560 non-null    int64 \n",
      " 11  AU7                 560 non-null    int64 \n",
      " 12  AU23                560 non-null    int64 \n",
      " 13  AU24                560 non-null    int64 \n",
      " 14  AU6                 560 non-null    int64 \n",
      " 15  AU12                560 non-null    int64 \n",
      " 16  AU15                560 non-null    int64 \n",
      " 17  AU14                560 non-null    int64 \n",
      " 18  AU11                560 non-null    int64 \n",
      " 19  AU26                560 non-null    int64 \n",
      " 20  high_level_emotion  560 non-null    object\n",
      "dtypes: int64(17), object(4)\n",
      "memory usage: 92.0+ KB\n"
     ]
    }
   ],
   "source": [
    "df.info()"
   ]
  },
  {
   "cell_type": "markdown",
   "metadata": {},
   "source": [
    "## [2] EXPLORATORY DATA ANALYSIS"
   ]
  },
  {
   "cell_type": "markdown",
   "metadata": {},
   "source": [
    "2.1 Check Label Count"
   ]
  },
  {
   "cell_type": "code",
   "execution_count": 36,
   "metadata": {},
   "outputs": [
    {
     "name": "stderr",
     "output_type": "stream",
     "text": [
      "/var/folders/fw/d2x7nnxd3f90qrnsdxzvsjqw0000gn/T/ipykernel_54009/2055809110.py:5: FutureWarning: \n",
      "\n",
      "Passing `palette` without assigning `hue` is deprecated and will be removed in v0.14.0. Assign the `x` variable to `hue` and set `legend=False` for the same effect.\n",
      "\n",
      "  ax = sns.barplot(x=target_value_counts.index, y=target_value_counts.values, palette='hls',)\n"
     ]
    },
    {
     "data": {
      "image/png": "[encoded data removed]",
      "text/plain": [
       "<Figure size 640x480 with 1 Axes>"
      ]
     },
     "metadata": {},
     "output_type": "display_data"
    }
   ],
   "source": [
    "# Get the counts of each target value\n",
    "target_value_counts = df['high_level_emotion'].value_counts()\n",
    "\n",
    "# Create a bar plot\n",
    "ax = sns.barplot(x=target_value_counts.index, y=target_value_counts.values, palette='hls',)\n",
    "\n",
    "# Show the number of observations inside each bar\n",
    "for container in ax.containers:\n",
    "    ax.bar_label(container, fmt='%d')\n",
    "\n",
    "plt.xlabel('Target Value')\n",
    "plt.ylabel('Count')\n",
    "plt.title('Distribution of Emotion Values')\n",
    "plt.show()"
   ]
  },
  {
   "cell_type": "markdown",
   "metadata": {},
   "source": [
    "**Observation**\n",
    "\n",
    "It seems there are unbalanced count of negative comparing to other label"
   ]
  },
  {
   "cell_type": "markdown",
   "metadata": {},
   "source": [
    "2.2 Visual Inspectation"
   ]
  },
  {
   "cell_type": "code",
   "execution_count": 37,
   "metadata": {},
   "outputs": [
    {
     "data": {
      "image/png": "[encoded data removed]",
      "text/plain": [
       "<Figure size 1500x300 with 1 Axes>"
      ]
     },
     "metadata": {},
     "output_type": "display_data"
    }
   ],
   "source": [
    "# For simplicity, let's just take the first subject and its first sequence\n",
    "subject_sequence = df[(df['subject'] == 'S005') & (df['sequence'] == 1)]\n",
    "sequence_files = subject_sequence['filepath'].tolist()\n",
    "\n",
    "# Ensure that axes is always iterable\n",
    "fig, axes = plt.subplots(1, len(sequence_files), figsize=(15, 3))\n",
    "if len(sequence_files) == 1:\n",
    "    axes = [axes]  # Make it a list so it's iterable\n",
    "\n",
    "for ax, file in zip(axes, sequence_files):\n",
    "    # Correct the file path by stripping the redundant part\n",
    "    corrected_file_path = file.replace('./cohn-kanade-images/', '')\n",
    "    img_path = os.path.join(IMAGE_DIRECTORY, corrected_file_path)\n",
    "    try:\n",
    "        img = Image.open(img_path)\n",
    "        ax.imshow(img)\n",
    "        ax.axis('on')\n",
    "    except IOError:\n",
    "        print(f\"Error opening image: {img_path}\")\n",
    "\n",
    "plt.show()"
   ]
  },
  {
   "cell_type": "code",
   "execution_count": 38,
   "metadata": {},
   "outputs": [],
   "source": [
    "# Define an empty list to hold image sizes\n",
    "image_sizes = []\n",
    "\n",
    "# Define lists to hold mean and standard deviation of pixel values\n",
    "mean_pixel_values = []\n",
    "std_pixel_values = []\n",
    "\n",
    "# Define a list to hold paths of corrupt images\n",
    "corrupt_images = []\n",
    "\n",
    "img_path_list = []\n",
    "# Loop through the file paths in your DataFrame\n",
    "for file_path in df['filepath']:\n",
    "    corrected_file_path = file_path.replace('./cohn-kanade-images/', '')\n",
    "    img_path = os.path.join(IMAGE_DIRECTORY, corrected_file_path)\n",
    "    img_path_list.append(img_path)\n",
    "    try:\n",
    "        # Open the image and convert it to RGB (in case some are grayscale)\n",
    "        img = cv2.imread(img_path, cv2.IMREAD_COLOR)\n",
    "        img = cv2.cvtColor(img, cv2.COLOR_BGR2RGB)\n",
    "        \n",
    "        # Check if the image is read correctly\n",
    "        if img is not None:\n",
    "            # Append the image size\n",
    "            image_sizes.append(img.shape)\n",
    "            \n",
    "            # Calculate and store the mean and standard deviation of pixel values\n",
    "            mean_pixel_values.append(np.mean(img))\n",
    "            std_pixel_values.append(np.std(img))\n",
    "        else:\n",
    "            # If img is None, the image is corrupt\n",
    "            corrupt_images.append(img_path)\n",
    "            \n",
    "    except Exception as e:\n",
    "        # If an exception is raised, the image is likely corrupt\n",
    "        corrupt_images.append(img_path)"
   ]
  },
  {
   "cell_type": "code",
   "execution_count": 39,
   "metadata": {},
   "outputs": [
    {
     "name": "stdout",
     "output_type": "stream",
     "text": [
      "Unique image sizes: [[480 640   3]\n",
      " [480 720   3]\n",
      " [490 640   3]]\n"
     ]
    }
   ],
   "source": [
    "# Now let's analyze the image sizes\n",
    "image_sizes = np.array(image_sizes)\n",
    "unique_sizes = np.unique(image_sizes, axis=0)\n",
    "\n",
    "# We can print out or plot the unique sizes to decide on a common size\n",
    "print(f\"Unique image sizes: {unique_sizes}\")"
   ]
  },
  {
   "cell_type": "code",
   "execution_count": 40,
   "metadata": {},
   "outputs": [
    {
     "name": "stdout",
     "output_type": "stream",
     "text": [
      "Overall mean pixel value: 99.93890188972647\n",
      "Overall standard deviation of pixel values: 9.063075756547514\n",
      "No corrupt images found.\n"
     ]
    }
   ],
   "source": [
    "# Calculate the overall mean and standard deviation for the pixel values\n",
    "overall_mean = np.mean(mean_pixel_values)\n",
    "overall_std = np.std(std_pixel_values)\n",
    "\n",
    "print(f\"Overall mean pixel value: {overall_mean}\")\n",
    "print(f\"Overall standard deviation of pixel values: {overall_std}\")\n",
    "\n",
    "# Print out corrupt images, if any\n",
    "if corrupt_images:\n",
    "    print(\"Found corrupt images:\")\n",
    "    for corrupt_img in corrupt_images:\n",
    "        print(corrupt_img)\n",
    "else:\n",
    "    print(\"No corrupt images found.\")"
   ]
  },
  {
   "cell_type": "code",
   "execution_count": 41,
   "metadata": {},
   "outputs": [
    {
     "name": "stderr",
     "output_type": "stream",
     "text": [
      "/var/folders/fw/d2x7nnxd3f90qrnsdxzvsjqw0000gn/T/ipykernel_54009/63240558.py:7: FutureWarning: Unlike other reduction functions (e.g. `skew`, `kurtosis`), the default behavior of `mode` typically preserves the axis it acts along. In SciPy 1.11.0, this behavior will change: the default value of `keepdims` will become False, the `axis` over which the statistic is taken will be eliminated, and the value None will no longer be accepted. Set `keepdims` to True or False to avoid this warning.\n",
      "  mode = stats.mode(border_pixels)  # Find the mode of the border pixels\n"
     ]
    }
   ],
   "source": [
    "# Background Consistency Check\n",
    "background_modes = []\n",
    "\n",
    "for img_path in img_path_list:\n",
    "    img = cv2.imread(img_path, cv2.IMREAD_GRAYSCALE)  # Grayscale simplifies the analysis\n",
    "    border_pixels = np.concatenate([img[0, :], img[-1, :], img[:, 0], img[:, -1]])  # Extract border pixels\n",
    "    mode = stats.mode(border_pixels)  # Find the mode of the border pixels\n",
    "    background_modes.append(mode)\n",
    "\n",
    "# Now you can analyze the background_modes list to check for consistency"
   ]
  },
  {
   "cell_type": "code",
   "execution_count": 42,
   "metadata": {},
   "outputs": [
    {
     "name": "stdout",
     "output_type": "stream",
     "text": [
      "Mean mode value: 11.378571428571428\n",
      "Standard deviation of mode values: 47.69470887951871\n"
     ]
    },
    {
     "data": {
      "image/png": "[encoded data removed]",
      "text/plain": [
       "<Figure size 640x480 with 1 Axes>"
      ]
     },
     "metadata": {},
     "output_type": "display_data"
    },
    {
     "data": {
      "image/png": "[encoded data removed]",
      "text/plain": [
       "<Figure size 640x480 with 1 Axes>"
      ]
     },
     "metadata": {},
     "output_type": "display_data"
    }
   ],
   "source": [
    "\n",
    "# Extract the mode values and counts\n",
    "mode_values = [mode.mode[0] for mode in background_modes]\n",
    "mode_counts = [mode.count[0] for mode in background_modes]\n",
    "\n",
    "# Calculate basic statistics\n",
    "mean_mode = np.mean(mode_values)\n",
    "std_dev_mode = np.std(mode_values)\n",
    "\n",
    "print(f\"Mean mode value: {mean_mode}\")\n",
    "print(f\"Standard deviation of mode values: {std_dev_mode}\")\n",
    "\n",
    "# Visualize the distribution of mode values\n",
    "plt.hist(mode_values, bins=30, alpha=0.7, color='blue', edgecolor='black')\n",
    "plt.title('Histogram of Background Modes')\n",
    "plt.xlabel('Mode Value')\n",
    "plt.ylabel('Frequency')\n",
    "plt.show()\n",
    "\n",
    "# Box plot for detecting outliers\n",
    "plt.boxplot(mode_values, vert=False)\n",
    "plt.title('Box plot of Background Modes')\n",
    "plt.xlabel('Mode Value')\n",
    "plt.show()"
   ]
  },
  {
   "cell_type": "markdown",
   "metadata": {},
   "source": [
    "## [3] SETUP AND EXTRACT ESSENTIAL DATA "
   ]
  },
  {
   "cell_type": "markdown",
   "metadata": {},
   "source": [
    "#### 3.1 Load and Prepare Image Dataset"
   ]
  },
  {
   "cell_type": "code",
   "execution_count": 43,
   "metadata": {},
   "outputs": [
    {
     "data": {
      "text/plain": [
       "(560, 48, 48, 1)"
      ]
     },
     "execution_count": 43,
     "metadata": {},
     "output_type": "execute_result"
    }
   ],
   "source": [
    "# Initialize an empty list to store processed images\n",
    "img_data_list = []\n",
    "\n",
    "# Get a list of image file paths from the 'filepath' column in the DataFrame\n",
    "img_file_list = df['filepath'].tolist()\n",
    "\n",
    "# Iterate through each image file path\n",
    "for img in img_file_list:\n",
    "    corrected_file_path = img.replace('./cohn-kanade-images/', '')\n",
    "    img_path = os.path.join(IMAGE_DIRECTORY, corrected_file_path)\n",
    "    input_img = cv2.imread(img_path)\n",
    "\n",
    "    ### GrayScale ?\n",
    "    grayscaled_image = cv2.cvtColor(input_img, cv2.COLOR_BGR2GRAY)\n",
    "\n",
    "    # Resize the image to a fixed size of 48x48 pixels\n",
    "    input_img_resize=cv2.resize(grayscaled_image,(48,48))\n",
    "\n",
    "    # Normalize the image pixel values to lie between 0 and 1\n",
    "    normalized_image = input_img_resize / 255.0\n",
    "\n",
    "    ### Expanded ? \n",
    "    expanded_image = np.expand_dims(normalized_image, axis=-1)\n",
    "\n",
    "    img_data_list.append(expanded_image)\n",
    "\n",
    "# Convert the list of resized images to a NumPy array\n",
    "img_data = np.array(img_data_list)\n",
    "# Convert the data type of pixel values to 'float32'\n",
    "img_data = img_data.astype('float32')\n",
    "\n",
    "# Check Shape\n",
    "# 560 images.\n",
    "# 48 pixels in height.\n",
    "# 48 pixels in width.\n",
    "# 1 since the image are grayscaled.\n",
    "img_data.shape"
   ]
  },
  {
   "cell_type": "markdown",
   "metadata": {},
   "source": [
    "#### 3.2 Load and Prepare Label"
   ]
  },
  {
   "cell_type": "code",
   "execution_count": 44,
   "metadata": {},
   "outputs": [],
   "source": [
    "# Define mapping conversion\n",
    "target_mapping = {'negative': 0, 'positive': 1, 'surprise': 2}\n",
    "df['high_level_emotion_num'] = df['high_level_emotion'].map(target_mapping)\n",
    "labels = df['high_level_emotion_num'].to_list()\n",
    "num_classes = 3\n",
    "emotions_label = to_categorical(labels, num_classes=num_classes)"
   ]
  },
  {
   "cell_type": "markdown",
   "metadata": {},
   "source": [
    "#### 3.3 Load and Prepare FACS CODE"
   ]
  },
  {
   "cell_type": "code",
   "execution_count": 45,
   "metadata": {},
   "outputs": [
    {
     "data": {
      "text/html": [
       "<div>\n",
       "<style scoped>\n",
       "    .dataframe tbody tr th:only-of-type {\n",
       "        vertical-align: middle;\n",
       "    }\n",
       "\n",
       "    .dataframe tbody tr th {\n",
       "        vertical-align: top;\n",
       "    }\n",
       "\n",
       "    .dataframe thead th {\n",
       "        text-align: right;\n",
       "    }\n",
       "</style>\n",
       "<table border=\"1\" class=\"dataframe\">\n",
       "  <thead>\n",
       "    <tr style=\"text-align: right;\">\n",
       "      <th></th>\n",
       "      <th>AU17</th>\n",
       "      <th>AU1</th>\n",
       "      <th>AU2</th>\n",
       "      <th>AU25</th>\n",
       "      <th>AU27</th>\n",
       "      <th>AU4</th>\n",
       "      <th>AU7</th>\n",
       "      <th>AU23</th>\n",
       "      <th>AU24</th>\n",
       "      <th>AU6</th>\n",
       "      <th>AU12</th>\n",
       "      <th>AU15</th>\n",
       "      <th>AU14</th>\n",
       "      <th>AU11</th>\n",
       "      <th>AU26</th>\n",
       "    </tr>\n",
       "  </thead>\n",
       "  <tbody>\n",
       "    <tr>\n",
       "      <th>0</th>\n",
       "      <td>1</td>\n",
       "      <td>0</td>\n",
       "      <td>0</td>\n",
       "      <td>0</td>\n",
       "      <td>0</td>\n",
       "      <td>0</td>\n",
       "      <td>0</td>\n",
       "      <td>0</td>\n",
       "      <td>0</td>\n",
       "      <td>0</td>\n",
       "      <td>0</td>\n",
       "      <td>0</td>\n",
       "      <td>0</td>\n",
       "      <td>0</td>\n",
       "      <td>0</td>\n",
       "    </tr>\n",
       "    <tr>\n",
       "      <th>1</th>\n",
       "      <td>0</td>\n",
       "      <td>1</td>\n",
       "      <td>1</td>\n",
       "      <td>1</td>\n",
       "      <td>0</td>\n",
       "      <td>0</td>\n",
       "      <td>0</td>\n",
       "      <td>0</td>\n",
       "      <td>0</td>\n",
       "      <td>0</td>\n",
       "      <td>0</td>\n",
       "      <td>0</td>\n",
       "      <td>0</td>\n",
       "      <td>0</td>\n",
       "      <td>0</td>\n",
       "    </tr>\n",
       "    <tr>\n",
       "      <th>2</th>\n",
       "      <td>0</td>\n",
       "      <td>1</td>\n",
       "      <td>1</td>\n",
       "      <td>1</td>\n",
       "      <td>1</td>\n",
       "      <td>0</td>\n",
       "      <td>0</td>\n",
       "      <td>0</td>\n",
       "      <td>0</td>\n",
       "      <td>0</td>\n",
       "      <td>0</td>\n",
       "      <td>0</td>\n",
       "      <td>0</td>\n",
       "      <td>0</td>\n",
       "      <td>0</td>\n",
       "    </tr>\n",
       "    <tr>\n",
       "      <th>3</th>\n",
       "      <td>1</td>\n",
       "      <td>0</td>\n",
       "      <td>0</td>\n",
       "      <td>0</td>\n",
       "      <td>0</td>\n",
       "      <td>1</td>\n",
       "      <td>0</td>\n",
       "      <td>0</td>\n",
       "      <td>0</td>\n",
       "      <td>0</td>\n",
       "      <td>0</td>\n",
       "      <td>0</td>\n",
       "      <td>0</td>\n",
       "      <td>0</td>\n",
       "      <td>0</td>\n",
       "    </tr>\n",
       "    <tr>\n",
       "      <th>4</th>\n",
       "      <td>1</td>\n",
       "      <td>0</td>\n",
       "      <td>0</td>\n",
       "      <td>0</td>\n",
       "      <td>0</td>\n",
       "      <td>1</td>\n",
       "      <td>1</td>\n",
       "      <td>1</td>\n",
       "      <td>1</td>\n",
       "      <td>0</td>\n",
       "      <td>0</td>\n",
       "      <td>0</td>\n",
       "      <td>0</td>\n",
       "      <td>0</td>\n",
       "      <td>0</td>\n",
       "    </tr>\n",
       "    <tr>\n",
       "      <th>...</th>\n",
       "      <td>...</td>\n",
       "      <td>...</td>\n",
       "      <td>...</td>\n",
       "      <td>...</td>\n",
       "      <td>...</td>\n",
       "      <td>...</td>\n",
       "      <td>...</td>\n",
       "      <td>...</td>\n",
       "      <td>...</td>\n",
       "      <td>...</td>\n",
       "      <td>...</td>\n",
       "      <td>...</td>\n",
       "      <td>...</td>\n",
       "      <td>...</td>\n",
       "      <td>...</td>\n",
       "    </tr>\n",
       "    <tr>\n",
       "      <th>555</th>\n",
       "      <td>0</td>\n",
       "      <td>1</td>\n",
       "      <td>1</td>\n",
       "      <td>1</td>\n",
       "      <td>0</td>\n",
       "      <td>1</td>\n",
       "      <td>0</td>\n",
       "      <td>0</td>\n",
       "      <td>0</td>\n",
       "      <td>0</td>\n",
       "      <td>0</td>\n",
       "      <td>0</td>\n",
       "      <td>0</td>\n",
       "      <td>0</td>\n",
       "      <td>0</td>\n",
       "    </tr>\n",
       "    <tr>\n",
       "      <th>556</th>\n",
       "      <td>1</td>\n",
       "      <td>1</td>\n",
       "      <td>1</td>\n",
       "      <td>0</td>\n",
       "      <td>0</td>\n",
       "      <td>1</td>\n",
       "      <td>0</td>\n",
       "      <td>0</td>\n",
       "      <td>0</td>\n",
       "      <td>0</td>\n",
       "      <td>0</td>\n",
       "      <td>1</td>\n",
       "      <td>0</td>\n",
       "      <td>0</td>\n",
       "      <td>1</td>\n",
       "    </tr>\n",
       "    <tr>\n",
       "      <th>557</th>\n",
       "      <td>0</td>\n",
       "      <td>0</td>\n",
       "      <td>0</td>\n",
       "      <td>0</td>\n",
       "      <td>0</td>\n",
       "      <td>0</td>\n",
       "      <td>0</td>\n",
       "      <td>0</td>\n",
       "      <td>0</td>\n",
       "      <td>0</td>\n",
       "      <td>0</td>\n",
       "      <td>0</td>\n",
       "      <td>1</td>\n",
       "      <td>0</td>\n",
       "      <td>0</td>\n",
       "    </tr>\n",
       "    <tr>\n",
       "      <th>558</th>\n",
       "      <td>1</td>\n",
       "      <td>0</td>\n",
       "      <td>0</td>\n",
       "      <td>0</td>\n",
       "      <td>0</td>\n",
       "      <td>1</td>\n",
       "      <td>0</td>\n",
       "      <td>1</td>\n",
       "      <td>0</td>\n",
       "      <td>0</td>\n",
       "      <td>0</td>\n",
       "      <td>0</td>\n",
       "      <td>0</td>\n",
       "      <td>0</td>\n",
       "      <td>0</td>\n",
       "    </tr>\n",
       "    <tr>\n",
       "      <th>559</th>\n",
       "      <td>0</td>\n",
       "      <td>1</td>\n",
       "      <td>1</td>\n",
       "      <td>1</td>\n",
       "      <td>0</td>\n",
       "      <td>1</td>\n",
       "      <td>0</td>\n",
       "      <td>0</td>\n",
       "      <td>0</td>\n",
       "      <td>0</td>\n",
       "      <td>0</td>\n",
       "      <td>0</td>\n",
       "      <td>1</td>\n",
       "      <td>0</td>\n",
       "      <td>0</td>\n",
       "    </tr>\n",
       "  </tbody>\n",
       "</table>\n",
       "<p>560 rows × 15 columns</p>\n",
       "</div>"
      ],
      "text/plain": [
       "     AU17  AU1  AU2  AU25  AU27  AU4  ...  AU6  AU12  AU15  AU14  AU11  AU26\n",
       "0       1    0    0     0     0    0  ...    0     0     0     0     0     0\n",
       "1       0    1    1     1     0    0  ...    0     0     0     0     0     0\n",
       "2       0    1    1     1     1    0  ...    0     0     0     0     0     0\n",
       "3       1    0    0     0     0    1  ...    0     0     0     0     0     0\n",
       "4       1    0    0     0     0    1  ...    0     0     0     0     0     0\n",
       "..    ...  ...  ...   ...   ...  ...  ...  ...   ...   ...   ...   ...   ...\n",
       "555     0    1    1     1     0    1  ...    0     0     0     0     0     0\n",
       "556     1    1    1     0     0    1  ...    0     0     1     0     0     1\n",
       "557     0    0    0     0     0    0  ...    0     0     0     1     0     0\n",
       "558     1    0    0     0     0    1  ...    0     0     0     0     0     0\n",
       "559     0    1    1     1     0    1  ...    0     0     0     1     0     0\n",
       "\n",
       "[560 rows x 15 columns]"
      ]
     },
     "execution_count": 45,
     "metadata": {},
     "output_type": "execute_result"
    }
   ],
   "source": [
    "facs_code_list = []\n",
    "facs_code_df = df[df.columns[5:20]]\n",
    "for i in range(df.shape[0]):\n",
    "    facs_code_row = df.iloc[i, 5:20].tolist()\n",
    "    facs_code_list.append(facs_code_row)\n",
    "facs_list = np.array(facs_code_list)\n",
    "facs_code_df"
   ]
  },
  {
   "cell_type": "markdown",
   "metadata": {},
   "source": [
    "## [4] TRAIN TEST SPLIT"
   ]
  },
  {
   "cell_type": "code",
   "execution_count": 46,
   "metadata": {},
   "outputs": [],
   "source": [
    "from sklearn.model_selection import train_test_split\n",
    "from tensorflow.keras.preprocessing.image import ImageDataGenerator"
   ]
  },
  {
   "cell_type": "markdown",
   "metadata": {},
   "source": [
    "MIGHT RESAMPLE"
   ]
  },
  {
   "cell_type": "markdown",
   "metadata": {},
   "source": [
    "SPLIT TRAIN, VAL, TEST SET"
   ]
  },
  {
   "cell_type": "code",
   "execution_count": 47,
   "metadata": {},
   "outputs": [
    {
     "name": "stdout",
     "output_type": "stream",
     "text": [
      "Train\n",
      "392 392 392 \n",
      "\n",
      "Val\n",
      "84 84 84 \n",
      "\n",
      "Test\n",
      "84 84 84\n"
     ]
    }
   ],
   "source": [
    "# Split data into training, validation, and test sets\n",
    "X_train, X_temp, y_train_facs, y_temp_facs, y_train_emotion, y_temp_emotion = train_test_split(img_data, facs_list, emotions_label, test_size=0.3)\n",
    "X_val, X_test, y_val_facs, y_test_facs, y_val_emotion, y_test_emotion = train_test_split(X_temp, y_temp_facs, y_temp_emotion, test_size=0.5)\n",
    "\n",
    "# TRAIN (70)\n",
    "print(\"Train\")\n",
    "print(len(X_train), len(y_train_facs), len(y_train_emotion), \"\\n\")\n",
    "\n",
    "# VAl (15)\n",
    "print(\"Val\")\n",
    "print(len(X_val),  len(y_val_facs), len(y_val_emotion), \"\\n\")\n",
    "\n",
    "# TEST (15)\n",
    "print(\"Test\")\n",
    "print(len(X_test), len(y_test_facs), len(y_test_emotion))"
   ]
  },
  {
   "cell_type": "markdown",
   "metadata": {},
   "source": [
    "DATA AUGMENTATION"
   ]
  },
  {
   "cell_type": "code",
   "execution_count": 48,
   "metadata": {},
   "outputs": [],
   "source": [
    "# Initialize the ImageDataGenerator with your augmentation parameters\n",
    "data_gen = ImageDataGenerator(\n",
    "    rotation_range=20,\n",
    "    width_shift_range=0.2,\n",
    "    height_shift_range=0.2,\n",
    "    shear_range=0.2,\n",
    "    zoom_range=0.2,\n",
    "    horizontal_flip=True,\n",
    "    fill_mode='nearest'\n",
    ")\n",
    "\n",
    "# Custom generator\n",
    "def custom_generator(X_train, y_facs_code, y_emotion_label, batch_size=32):\n",
    "    gen = data_gen.flow(X_train, batch_size=batch_size, shuffle=False)\n",
    "    while True:\n",
    "        X_batch = next(gen)\n",
    "        idx = (gen.batch_index - 1) * batch_size\n",
    "        idx = idx if idx < X_train.shape[0] else X_train.shape[0] - batch_size\n",
    "        y_batch_facs = y_facs_code[idx: idx + batch_size]\n",
    "        y_batch_emotion = y_emotion_label[idx: idx + batch_size]\n",
    "        yield X_batch, {'facs_output': y_batch_facs, 'emotion_output': y_batch_emotion}\n",
    "\n",
    "train_generator = custom_generator(X_train, y_train_facs, y_train_emotion)"
   ]
  },
  {
   "cell_type": "markdown",
   "metadata": {},
   "source": [
    "## [5] GET BASELINE MODEL"
   ]
  },
  {
   "cell_type": "code",
   "execution_count": 49,
   "metadata": {},
   "outputs": [],
   "source": [
    "from tensorflow.keras.models import Model\n",
    "from tensorflow.keras.layers import Input, Conv2D, MaxPooling2D, Flatten, Dense, BatchNormalization, Dropout"
   ]
  },
  {
   "cell_type": "markdown",
   "metadata": {},
   "source": [
    "5.1 Design Model Structure"
   ]
  },
  {
   "cell_type": "code",
   "execution_count": 50,
   "metadata": {},
   "outputs": [],
   "source": [
    "input_layer = Input(shape=(48, 48, 1)) # INPUT WILL BE IMAGE WITH DESIGNED DIMENSIONS\n",
    "# Example CNN layers\n",
    "x = Conv2D(32, (3, 3), activation='relu')(input_layer)\n",
    "# x = BatchNormalization()(x)  # Adding batch normalization\n",
    "x = MaxPooling2D((2, 2))(x)\n",
    "# x = Dropout(0.5)(x)  # Adding dropout\n",
    "x = Flatten()(x)\n",
    "\n",
    "# FACS codes output\n",
    "facs_output = Dense(15, activation='sigmoid', name='facs_output')(x) # 15 FACS codes\n",
    "\n",
    "# Emotion label output\n",
    "emotion_output = Dense(3, activation='softmax', name='emotion_output')(x) # 3 emotion labels\n",
    "\n",
    "# Create the model\n",
    "model = Model(inputs=input_layer, outputs=[facs_output, emotion_output])\n",
    "\n",
    "model.compile(optimizer='adam', \n",
    "              loss={'facs_output': 'binary_crossentropy', 'emotion_output': 'categorical_crossentropy'}, \n",
    "              metrics=['accuracy'])"
   ]
  },
  {
   "cell_type": "code",
   "execution_count": 60,
   "metadata": {},
   "outputs": [
    {
     "data": {
      "image/png": "[encoded data removed]",
      "text/plain": [
       "<IPython.core.display.Image object>"
      ]
     },
     "execution_count": 60,
     "metadata": {},
     "output_type": "execute_result"
    }
   ],
   "source": [
    "from tensorflow.keras.utils import plot_model\n",
    "plot_model(model)"
   ]
  },
  {
   "cell_type": "code",
   "execution_count": 52,
   "metadata": {},
   "outputs": [
    {
     "name": "stdout",
     "output_type": "stream",
     "text": [
      "Model: \"model_1\"\n",
      "__________________________________________________________________________________________________\n",
      " Layer (type)                Output Shape                 Param #   Connected to                  \n",
      "==================================================================================================\n",
      " input_2 (InputLayer)        [(None, 48, 48, 1)]          0         []                            \n",
      "                                                                                                  \n",
      " conv2d_1 (Conv2D)           (None, 46, 46, 32)           320       ['input_2[0][0]']             \n",
      "                                                                                                  \n",
      " max_pooling2d_1 (MaxPoolin  (None, 23, 23, 32)           0         ['conv2d_1[0][0]']            \n",
      " g2D)                                                                                             \n",
      "                                                                                                  \n",
      " flatten_1 (Flatten)         (None, 16928)                0         ['max_pooling2d_1[0][0]']     \n",
      "                                                                                                  \n",
      " facs_output (Dense)         (None, 15)                   253935    ['flatten_1[0][0]']           \n",
      "                                                                                                  \n",
      " emotion_output (Dense)      (None, 3)                    50787     ['flatten_1[0][0]']           \n",
      "                                                                                                  \n",
      "==================================================================================================\n",
      "Total params: 305042 (1.16 MB)\n",
      "Trainable params: 305042 (1.16 MB)\n",
      "Non-trainable params: 0 (0.00 Byte)\n",
      "__________________________________________________________________________________________________\n"
     ]
    }
   ],
   "source": [
    "model.summary()"
   ]
  },
  {
   "cell_type": "code",
   "execution_count": 53,
   "metadata": {},
   "outputs": [
    {
     "name": "stdout",
     "output_type": "stream",
     "text": [
      "Epoch 1/100\n"
     ]
    },
    {
     "name": "stderr",
     "output_type": "stream",
     "text": [
      "2023-11-15 21:03:51.512201: I tensorflow/core/grappler/optimizers/custom_graph_optimizer_registry.cc:114] Plugin optimizer for device_type GPU is enabled.\n"
     ]
    },
    {
     "name": "stdout",
     "output_type": "stream",
     "text": [
      "13/13 [==============================] - ETA: 0s - loss: 1.5271 - facs_output_loss: 0.5150 - emotion_output_loss: 1.0121 - facs_output_accuracy: 0.2526 - emotion_output_accuracy: 0.5612"
     ]
    },
    {
     "name": "stderr",
     "output_type": "stream",
     "text": [
      "2023-11-15 21:03:56.525636: I tensorflow/core/grappler/optimizers/custom_graph_optimizer_registry.cc:114] Plugin optimizer for device_type GPU is enabled.\n"
     ]
    },
    {
     "name": "stdout",
     "output_type": "stream",
     "text": [
      "13/13 [==============================] - 7s 387ms/step - loss: 1.5271 - facs_output_loss: 0.5150 - emotion_output_loss: 1.0121 - facs_output_accuracy: 0.2526 - emotion_output_accuracy: 0.5612 - val_loss: 1.5579 - val_facs_output_loss: 0.4867 - val_emotion_output_loss: 1.0712 - val_facs_output_accuracy: 0.2857 - val_emotion_output_accuracy: 0.5833\n",
      "Epoch 2/100\n",
      "13/13 [==============================] - 1s 69ms/step - loss: 1.4457 - facs_output_loss: 0.4724 - emotion_output_loss: 0.9733 - facs_output_accuracy: 0.3214 - emotion_output_accuracy: 0.5893 - val_loss: 1.4541 - val_facs_output_loss: 0.4805 - val_emotion_output_loss: 0.9735 - val_facs_output_accuracy: 0.2024 - val_emotion_output_accuracy: 0.5833\n",
      "Epoch 3/100\n",
      "13/13 [==============================] - 1s 67ms/step - loss: 1.3917 - facs_output_loss: 0.4613 - emotion_output_loss: 0.9304 - facs_output_accuracy: 0.2908 - emotion_output_accuracy: 0.5918 - val_loss: 1.4560 - val_facs_output_loss: 0.4752 - val_emotion_output_loss: 0.9808 - val_facs_output_accuracy: 0.2024 - val_emotion_output_accuracy: 0.5833\n",
      "Epoch 4/100\n",
      "13/13 [==============================] - 1s 67ms/step - loss: 1.3387 - facs_output_loss: 0.4474 - emotion_output_loss: 0.8913 - facs_output_accuracy: 0.2908 - emotion_output_accuracy: 0.5918 - val_loss: 1.4470 - val_facs_output_loss: 0.4692 - val_emotion_output_loss: 0.9778 - val_facs_output_accuracy: 0.2024 - val_emotion_output_accuracy: 0.5952\n",
      "Epoch 5/100\n",
      "13/13 [==============================] - 1s 66ms/step - loss: 1.2963 - facs_output_loss: 0.4344 - emotion_output_loss: 0.8619 - facs_output_accuracy: 0.2959 - emotion_output_accuracy: 0.6122 - val_loss: 1.4475 - val_facs_output_loss: 0.4701 - val_emotion_output_loss: 0.9775 - val_facs_output_accuracy: 0.2619 - val_emotion_output_accuracy: 0.5833\n",
      "Epoch 6/100\n",
      "13/13 [==============================] - 1s 65ms/step - loss: 1.2520 - facs_output_loss: 0.4262 - emotion_output_loss: 0.8258 - facs_output_accuracy: 0.3367 - emotion_output_accuracy: 0.6071 - val_loss: 1.4533 - val_facs_output_loss: 0.4708 - val_emotion_output_loss: 0.9825 - val_facs_output_accuracy: 0.1905 - val_emotion_output_accuracy: 0.6310\n",
      "Epoch 7/100\n",
      "13/13 [==============================] - 1s 69ms/step - loss: 1.1865 - facs_output_loss: 0.4117 - emotion_output_loss: 0.7748 - facs_output_accuracy: 0.3316 - emotion_output_accuracy: 0.6531 - val_loss: 1.4734 - val_facs_output_loss: 0.4747 - val_emotion_output_loss: 0.9987 - val_facs_output_accuracy: 0.2024 - val_emotion_output_accuracy: 0.5833\n",
      "Epoch 8/100\n",
      "13/13 [==============================] - 1s 71ms/step - loss: 1.1502 - facs_output_loss: 0.4008 - emotion_output_loss: 0.7494 - facs_output_accuracy: 0.3316 - emotion_output_accuracy: 0.6913 - val_loss: 1.4521 - val_facs_output_loss: 0.4744 - val_emotion_output_loss: 0.9777 - val_facs_output_accuracy: 0.2024 - val_emotion_output_accuracy: 0.5952\n",
      "Epoch 9/100\n",
      "13/13 [==============================] - 1s 67ms/step - loss: 1.1059 - facs_output_loss: 0.3893 - emotion_output_loss: 0.7167 - facs_output_accuracy: 0.3648 - emotion_output_accuracy: 0.6786 - val_loss: 1.4262 - val_facs_output_loss: 0.4694 - val_emotion_output_loss: 0.9568 - val_facs_output_accuracy: 0.1905 - val_emotion_output_accuracy: 0.6190\n",
      "Epoch 10/100\n",
      "13/13 [==============================] - 1s 68ms/step - loss: 1.0642 - facs_output_loss: 0.3757 - emotion_output_loss: 0.6884 - facs_output_accuracy: 0.3878 - emotion_output_accuracy: 0.6964 - val_loss: 1.4570 - val_facs_output_loss: 0.4683 - val_emotion_output_loss: 0.9888 - val_facs_output_accuracy: 0.2381 - val_emotion_output_accuracy: 0.5595\n",
      "Epoch 11/100\n",
      "13/13 [==============================] - 1s 69ms/step - loss: 1.0125 - facs_output_loss: 0.3631 - emotion_output_loss: 0.6495 - facs_output_accuracy: 0.4209 - emotion_output_accuracy: 0.7449 - val_loss: 1.4289 - val_facs_output_loss: 0.4738 - val_emotion_output_loss: 0.9551 - val_facs_output_accuracy: 0.2024 - val_emotion_output_accuracy: 0.5595\n",
      "Epoch 12/100\n",
      "13/13 [==============================] - 1s 67ms/step - loss: 0.9791 - facs_output_loss: 0.3518 - emotion_output_loss: 0.6273 - facs_output_accuracy: 0.4949 - emotion_output_accuracy: 0.7806 - val_loss: 1.4633 - val_facs_output_loss: 0.4704 - val_emotion_output_loss: 0.9929 - val_facs_output_accuracy: 0.1429 - val_emotion_output_accuracy: 0.5000\n",
      "Epoch 13/100\n",
      "13/13 [==============================] - 1s 73ms/step - loss: 0.9366 - facs_output_loss: 0.3402 - emotion_output_loss: 0.5964 - facs_output_accuracy: 0.4260 - emotion_output_accuracy: 0.7730 - val_loss: 1.3960 - val_facs_output_loss: 0.4650 - val_emotion_output_loss: 0.9310 - val_facs_output_accuracy: 0.2381 - val_emotion_output_accuracy: 0.6786\n",
      "Epoch 14/100\n",
      "13/13 [==============================] - 1s 69ms/step - loss: 0.8821 - facs_output_loss: 0.3283 - emotion_output_loss: 0.5537 - facs_output_accuracy: 0.4974 - emotion_output_accuracy: 0.7934 - val_loss: 1.4214 - val_facs_output_loss: 0.4769 - val_emotion_output_loss: 0.9445 - val_facs_output_accuracy: 0.1310 - val_emotion_output_accuracy: 0.5952\n",
      "Epoch 15/100\n",
      "13/13 [==============================] - 1s 68ms/step - loss: 0.8801 - facs_output_loss: 0.3235 - emotion_output_loss: 0.5566 - facs_output_accuracy: 0.4362 - emotion_output_accuracy: 0.7857 - val_loss: 1.4162 - val_facs_output_loss: 0.4686 - val_emotion_output_loss: 0.9475 - val_facs_output_accuracy: 0.2976 - val_emotion_output_accuracy: 0.5595\n",
      "Epoch 16/100\n",
      "13/13 [==============================] - 1s 68ms/step - loss: 0.8387 - facs_output_loss: 0.3106 - emotion_output_loss: 0.5281 - facs_output_accuracy: 0.4643 - emotion_output_accuracy: 0.7781 - val_loss: 1.4381 - val_facs_output_loss: 0.4663 - val_emotion_output_loss: 0.9718 - val_facs_output_accuracy: 0.1667 - val_emotion_output_accuracy: 0.5595\n",
      "Epoch 17/100\n",
      "13/13 [==============================] - 1s 66ms/step - loss: 0.7985 - facs_output_loss: 0.3011 - emotion_output_loss: 0.4973 - facs_output_accuracy: 0.5051 - emotion_output_accuracy: 0.8061 - val_loss: 1.4468 - val_facs_output_loss: 0.4766 - val_emotion_output_loss: 0.9701 - val_facs_output_accuracy: 0.1548 - val_emotion_output_accuracy: 0.5714\n",
      "Epoch 18/100\n",
      "13/13 [==============================] - 1s 67ms/step - loss: 0.7483 - facs_output_loss: 0.2890 - emotion_output_loss: 0.4593 - facs_output_accuracy: 0.4949 - emotion_output_accuracy: 0.8495 - val_loss: 1.4813 - val_facs_output_loss: 0.4757 - val_emotion_output_loss: 1.0056 - val_facs_output_accuracy: 0.1905 - val_emotion_output_accuracy: 0.5119\n",
      "Epoch 19/100\n",
      "13/13 [==============================] - 1s 69ms/step - loss: 0.7584 - facs_output_loss: 0.2837 - emotion_output_loss: 0.4747 - facs_output_accuracy: 0.4821 - emotion_output_accuracy: 0.8265 - val_loss: 1.4290 - val_facs_output_loss: 0.4860 - val_emotion_output_loss: 0.9430 - val_facs_output_accuracy: 0.1548 - val_emotion_output_accuracy: 0.5595\n",
      "Epoch 20/100\n",
      "13/13 [==============================] - 1s 69ms/step - loss: 0.6795 - facs_output_loss: 0.2716 - emotion_output_loss: 0.4079 - facs_output_accuracy: 0.4898 - emotion_output_accuracy: 0.8699 - val_loss: 1.3785 - val_facs_output_loss: 0.4704 - val_emotion_output_loss: 0.9081 - val_facs_output_accuracy: 0.1905 - val_emotion_output_accuracy: 0.6190\n",
      "Epoch 21/100\n",
      "13/13 [==============================] - 1s 68ms/step - loss: 0.6665 - facs_output_loss: 0.2648 - emotion_output_loss: 0.4017 - facs_output_accuracy: 0.5179 - emotion_output_accuracy: 0.8750 - val_loss: 1.3997 - val_facs_output_loss: 0.4715 - val_emotion_output_loss: 0.9282 - val_facs_output_accuracy: 0.2619 - val_emotion_output_accuracy: 0.6310\n",
      "Epoch 22/100\n",
      "13/13 [==============================] - 1s 69ms/step - loss: 0.6195 - facs_output_loss: 0.2523 - emotion_output_loss: 0.3672 - facs_output_accuracy: 0.4872 - emotion_output_accuracy: 0.9107 - val_loss: 1.4059 - val_facs_output_loss: 0.4731 - val_emotion_output_loss: 0.9328 - val_facs_output_accuracy: 0.2500 - val_emotion_output_accuracy: 0.6310\n",
      "Epoch 23/100\n",
      "13/13 [==============================] - 1s 66ms/step - loss: 0.6046 - facs_output_loss: 0.2481 - emotion_output_loss: 0.3566 - facs_output_accuracy: 0.5026 - emotion_output_accuracy: 0.8903 - val_loss: 1.3814 - val_facs_output_loss: 0.4760 - val_emotion_output_loss: 0.9054 - val_facs_output_accuracy: 0.2381 - val_emotion_output_accuracy: 0.6310\n",
      "Epoch 24/100\n",
      "13/13 [==============================] - 1s 68ms/step - loss: 0.5730 - facs_output_loss: 0.2378 - emotion_output_loss: 0.3352 - facs_output_accuracy: 0.4974 - emotion_output_accuracy: 0.9056 - val_loss: 1.3920 - val_facs_output_loss: 0.4791 - val_emotion_output_loss: 0.9129 - val_facs_output_accuracy: 0.2619 - val_emotion_output_accuracy: 0.6429\n",
      "Epoch 25/100\n",
      "13/13 [==============================] - 1s 68ms/step - loss: 0.5507 - facs_output_loss: 0.2300 - emotion_output_loss: 0.3206 - facs_output_accuracy: 0.5000 - emotion_output_accuracy: 0.9235 - val_loss: 1.4209 - val_facs_output_loss: 0.4728 - val_emotion_output_loss: 0.9481 - val_facs_output_accuracy: 0.2619 - val_emotion_output_accuracy: 0.6786\n",
      "Epoch 26/100\n",
      "13/13 [==============================] - 1s 73ms/step - loss: 0.5349 - facs_output_loss: 0.2242 - emotion_output_loss: 0.3107 - facs_output_accuracy: 0.4745 - emotion_output_accuracy: 0.9235 - val_loss: 1.3986 - val_facs_output_loss: 0.4909 - val_emotion_output_loss: 0.9077 - val_facs_output_accuracy: 0.2738 - val_emotion_output_accuracy: 0.6548\n",
      "Epoch 27/100\n",
      "13/13 [==============================] - 1s 68ms/step - loss: 0.5052 - facs_output_loss: 0.2198 - emotion_output_loss: 0.2853 - facs_output_accuracy: 0.5357 - emotion_output_accuracy: 0.9413 - val_loss: 1.3958 - val_facs_output_loss: 0.4847 - val_emotion_output_loss: 0.9111 - val_facs_output_accuracy: 0.1429 - val_emotion_output_accuracy: 0.6548\n",
      "Epoch 28/100\n",
      "13/13 [==============================] - 1s 64ms/step - loss: 0.5035 - facs_output_loss: 0.2134 - emotion_output_loss: 0.2901 - facs_output_accuracy: 0.5051 - emotion_output_accuracy: 0.9388 - val_loss: 1.4633 - val_facs_output_loss: 0.4813 - val_emotion_output_loss: 0.9820 - val_facs_output_accuracy: 0.1786 - val_emotion_output_accuracy: 0.6667\n",
      "Epoch 29/100\n",
      "13/13 [==============================] - 1s 65ms/step - loss: 0.5040 - facs_output_loss: 0.2053 - emotion_output_loss: 0.2988 - facs_output_accuracy: 0.4668 - emotion_output_accuracy: 0.9133 - val_loss: 1.4195 - val_facs_output_loss: 0.4812 - val_emotion_output_loss: 0.9383 - val_facs_output_accuracy: 0.3333 - val_emotion_output_accuracy: 0.6548\n",
      "Epoch 30/100\n",
      "13/13 [==============================] - 1s 63ms/step - loss: 0.4622 - facs_output_loss: 0.1980 - emotion_output_loss: 0.2643 - facs_output_accuracy: 0.4847 - emotion_output_accuracy: 0.9413 - val_loss: 1.4218 - val_facs_output_loss: 0.4839 - val_emotion_output_loss: 0.9378 - val_facs_output_accuracy: 0.1786 - val_emotion_output_accuracy: 0.6548\n",
      "Epoch 31/100\n",
      "13/13 [==============================] - 1s 67ms/step - loss: 0.4429 - facs_output_loss: 0.1931 - emotion_output_loss: 0.2498 - facs_output_accuracy: 0.5102 - emotion_output_accuracy: 0.9490 - val_loss: 1.4137 - val_facs_output_loss: 0.4837 - val_emotion_output_loss: 0.9300 - val_facs_output_accuracy: 0.2738 - val_emotion_output_accuracy: 0.6190\n",
      "Epoch 32/100\n",
      "13/13 [==============================] - 1s 67ms/step - loss: 0.4192 - facs_output_loss: 0.1853 - emotion_output_loss: 0.2338 - facs_output_accuracy: 0.5204 - emotion_output_accuracy: 0.9515 - val_loss: 1.4732 - val_facs_output_loss: 0.4928 - val_emotion_output_loss: 0.9804 - val_facs_output_accuracy: 0.2738 - val_emotion_output_accuracy: 0.6429\n",
      "Epoch 33/100\n",
      "13/13 [==============================] - 1s 65ms/step - loss: 0.4059 - facs_output_loss: 0.1845 - emotion_output_loss: 0.2214 - facs_output_accuracy: 0.4949 - emotion_output_accuracy: 0.9694 - val_loss: 1.5130 - val_facs_output_loss: 0.4969 - val_emotion_output_loss: 1.0161 - val_facs_output_accuracy: 0.1786 - val_emotion_output_accuracy: 0.6548\n",
      "Epoch 34/100\n",
      "13/13 [==============================] - 1s 65ms/step - loss: 0.4012 - facs_output_loss: 0.1772 - emotion_output_loss: 0.2239 - facs_output_accuracy: 0.5536 - emotion_output_accuracy: 0.9566 - val_loss: 1.4901 - val_facs_output_loss: 0.4976 - val_emotion_output_loss: 0.9925 - val_facs_output_accuracy: 0.1667 - val_emotion_output_accuracy: 0.6310\n",
      "Epoch 35/100\n",
      "13/13 [==============================] - 1s 64ms/step - loss: 0.3829 - facs_output_loss: 0.1697 - emotion_output_loss: 0.2132 - facs_output_accuracy: 0.5510 - emotion_output_accuracy: 0.9541 - val_loss: 1.4377 - val_facs_output_loss: 0.4947 - val_emotion_output_loss: 0.9430 - val_facs_output_accuracy: 0.1905 - val_emotion_output_accuracy: 0.6429\n",
      "Epoch 36/100\n",
      "13/13 [==============================] - 1s 63ms/step - loss: 0.3740 - facs_output_loss: 0.1708 - emotion_output_loss: 0.2032 - facs_output_accuracy: 0.5077 - emotion_output_accuracy: 0.9719 - val_loss: 1.4379 - val_facs_output_loss: 0.4948 - val_emotion_output_loss: 0.9431 - val_facs_output_accuracy: 0.3095 - val_emotion_output_accuracy: 0.6905\n",
      "Epoch 37/100\n",
      "13/13 [==============================] - 1s 65ms/step - loss: 0.3430 - facs_output_loss: 0.1617 - emotion_output_loss: 0.1814 - facs_output_accuracy: 0.5459 - emotion_output_accuracy: 0.9821 - val_loss: 1.4541 - val_facs_output_loss: 0.4963 - val_emotion_output_loss: 0.9578 - val_facs_output_accuracy: 0.2976 - val_emotion_output_accuracy: 0.6548\n",
      "Epoch 38/100\n",
      "13/13 [==============================] - 1s 64ms/step - loss: 0.3309 - facs_output_loss: 0.1545 - emotion_output_loss: 0.1764 - facs_output_accuracy: 0.5102 - emotion_output_accuracy: 0.9770 - val_loss: 1.4862 - val_facs_output_loss: 0.4965 - val_emotion_output_loss: 0.9897 - val_facs_output_accuracy: 0.2619 - val_emotion_output_accuracy: 0.6429\n",
      "Epoch 39/100\n",
      "13/13 [==============================] - 1s 65ms/step - loss: 0.3197 - facs_output_loss: 0.1493 - emotion_output_loss: 0.1703 - facs_output_accuracy: 0.5102 - emotion_output_accuracy: 0.9770 - val_loss: 1.4573 - val_facs_output_loss: 0.4947 - val_emotion_output_loss: 0.9626 - val_facs_output_accuracy: 0.2857 - val_emotion_output_accuracy: 0.6429\n",
      "Epoch 40/100\n",
      "13/13 [==============================] - 1s 68ms/step - loss: 0.3062 - facs_output_loss: 0.1484 - emotion_output_loss: 0.1578 - facs_output_accuracy: 0.5383 - emotion_output_accuracy: 0.9847 - val_loss: 1.4873 - val_facs_output_loss: 0.5136 - val_emotion_output_loss: 0.9737 - val_facs_output_accuracy: 0.2262 - val_emotion_output_accuracy: 0.6667\n",
      "Epoch 41/100\n",
      "13/13 [==============================] - 1s 66ms/step - loss: 0.3041 - facs_output_loss: 0.1430 - emotion_output_loss: 0.1611 - facs_output_accuracy: 0.5281 - emotion_output_accuracy: 0.9796 - val_loss: 1.5162 - val_facs_output_loss: 0.5103 - val_emotion_output_loss: 1.0059 - val_facs_output_accuracy: 0.2262 - val_emotion_output_accuracy: 0.6429\n",
      "Epoch 42/100\n",
      "13/13 [==============================] - 1s 65ms/step - loss: 0.2884 - facs_output_loss: 0.1396 - emotion_output_loss: 0.1488 - facs_output_accuracy: 0.5051 - emotion_output_accuracy: 0.9898 - val_loss: 1.4948 - val_facs_output_loss: 0.5110 - val_emotion_output_loss: 0.9837 - val_facs_output_accuracy: 0.1667 - val_emotion_output_accuracy: 0.6905\n",
      "Epoch 43/100\n",
      "13/13 [==============================] - 1s 69ms/step - loss: 0.2751 - facs_output_loss: 0.1344 - emotion_output_loss: 0.1407 - facs_output_accuracy: 0.5128 - emotion_output_accuracy: 0.9821 - val_loss: 1.5109 - val_facs_output_loss: 0.5104 - val_emotion_output_loss: 1.0005 - val_facs_output_accuracy: 0.3452 - val_emotion_output_accuracy: 0.6548\n",
      "Epoch 44/100\n",
      "13/13 [==============================] - 1s 68ms/step - loss: 0.2604 - facs_output_loss: 0.1309 - emotion_output_loss: 0.1294 - facs_output_accuracy: 0.5179 - emotion_output_accuracy: 0.9847 - val_loss: 1.5190 - val_facs_output_loss: 0.5164 - val_emotion_output_loss: 1.0026 - val_facs_output_accuracy: 0.2381 - val_emotion_output_accuracy: 0.6548\n",
      "Epoch 45/100\n",
      "13/13 [==============================] - 1s 65ms/step - loss: 0.2577 - facs_output_loss: 0.1280 - emotion_output_loss: 0.1297 - facs_output_accuracy: 0.5281 - emotion_output_accuracy: 0.9923 - val_loss: 1.5148 - val_facs_output_loss: 0.5158 - val_emotion_output_loss: 0.9990 - val_facs_output_accuracy: 0.3095 - val_emotion_output_accuracy: 0.6786\n",
      "Epoch 46/100\n",
      "13/13 [==============================] - 1s 66ms/step - loss: 0.2490 - facs_output_loss: 0.1249 - emotion_output_loss: 0.1241 - facs_output_accuracy: 0.5536 - emotion_output_accuracy: 0.9898 - val_loss: 1.5433 - val_facs_output_loss: 0.5145 - val_emotion_output_loss: 1.0287 - val_facs_output_accuracy: 0.2024 - val_emotion_output_accuracy: 0.6429\n",
      "Epoch 47/100\n",
      "13/13 [==============================] - 1s 66ms/step - loss: 0.2456 - facs_output_loss: 0.1236 - emotion_output_loss: 0.1219 - facs_output_accuracy: 0.5281 - emotion_output_accuracy: 0.9949 - val_loss: 1.5263 - val_facs_output_loss: 0.5149 - val_emotion_output_loss: 1.0114 - val_facs_output_accuracy: 0.2976 - val_emotion_output_accuracy: 0.6667\n",
      "Epoch 48/100\n",
      "13/13 [==============================] - 1s 65ms/step - loss: 0.2248 - facs_output_loss: 0.1172 - emotion_output_loss: 0.1076 - facs_output_accuracy: 0.5383 - emotion_output_accuracy: 0.9923 - val_loss: 1.5528 - val_facs_output_loss: 0.5265 - val_emotion_output_loss: 1.0263 - val_facs_output_accuracy: 0.2262 - val_emotion_output_accuracy: 0.6667\n",
      "Epoch 49/100\n",
      "13/13 [==============================] - 1s 67ms/step - loss: 0.2192 - facs_output_loss: 0.1131 - emotion_output_loss: 0.1061 - facs_output_accuracy: 0.5408 - emotion_output_accuracy: 0.9949 - val_loss: 1.5762 - val_facs_output_loss: 0.5457 - val_emotion_output_loss: 1.0305 - val_facs_output_accuracy: 0.1429 - val_emotion_output_accuracy: 0.6548\n",
      "Epoch 50/100\n",
      "13/13 [==============================] - 1s 65ms/step - loss: 0.2381 - facs_output_loss: 0.1153 - emotion_output_loss: 0.1228 - facs_output_accuracy: 0.5332 - emotion_output_accuracy: 0.9847 - val_loss: 1.6104 - val_facs_output_loss: 0.5286 - val_emotion_output_loss: 1.0818 - val_facs_output_accuracy: 0.1786 - val_emotion_output_accuracy: 0.6190\n",
      "Epoch 51/100\n",
      "13/13 [==============================] - 1s 65ms/step - loss: 0.2400 - facs_output_loss: 0.1124 - emotion_output_loss: 0.1276 - facs_output_accuracy: 0.4847 - emotion_output_accuracy: 0.9821 - val_loss: 1.5727 - val_facs_output_loss: 0.5246 - val_emotion_output_loss: 1.0481 - val_facs_output_accuracy: 0.2976 - val_emotion_output_accuracy: 0.6548\n",
      "Epoch 52/100\n",
      "13/13 [==============================] - 1s 64ms/step - loss: 0.2113 - facs_output_loss: 0.1063 - emotion_output_loss: 0.1050 - facs_output_accuracy: 0.4949 - emotion_output_accuracy: 0.9949 - val_loss: 1.5766 - val_facs_output_loss: 0.5337 - val_emotion_output_loss: 1.0429 - val_facs_output_accuracy: 0.2976 - val_emotion_output_accuracy: 0.6548\n",
      "Epoch 53/100\n",
      "13/13 [==============================] - 1s 65ms/step - loss: 0.2075 - facs_output_loss: 0.1033 - emotion_output_loss: 0.1042 - facs_output_accuracy: 0.5357 - emotion_output_accuracy: 0.9949 - val_loss: 1.5742 - val_facs_output_loss: 0.5330 - val_emotion_output_loss: 1.0412 - val_facs_output_accuracy: 0.2262 - val_emotion_output_accuracy: 0.6667\n",
      "Epoch 54/100\n",
      "13/13 [==============================] - 1s 64ms/step - loss: 0.1868 - facs_output_loss: 0.1008 - emotion_output_loss: 0.0860 - facs_output_accuracy: 0.5204 - emotion_output_accuracy: 0.9974 - val_loss: 1.6508 - val_facs_output_loss: 0.5403 - val_emotion_output_loss: 1.1105 - val_facs_output_accuracy: 0.2738 - val_emotion_output_accuracy: 0.6548\n",
      "Epoch 55/100\n",
      "13/13 [==============================] - 1s 64ms/step - loss: 0.1866 - facs_output_loss: 0.0991 - emotion_output_loss: 0.0875 - facs_output_accuracy: 0.5383 - emotion_output_accuracy: 0.9949 - val_loss: 1.6273 - val_facs_output_loss: 0.5552 - val_emotion_output_loss: 1.0721 - val_facs_output_accuracy: 0.2024 - val_emotion_output_accuracy: 0.6548\n",
      "Epoch 56/100\n",
      "13/13 [==============================] - 1s 65ms/step - loss: 0.1802 - facs_output_loss: 0.0988 - emotion_output_loss: 0.0813 - facs_output_accuracy: 0.5485 - emotion_output_accuracy: 0.9974 - val_loss: 1.6131 - val_facs_output_loss: 0.5482 - val_emotion_output_loss: 1.0649 - val_facs_output_accuracy: 0.2143 - val_emotion_output_accuracy: 0.6429\n",
      "Epoch 57/100\n",
      "13/13 [==============================] - 1s 65ms/step - loss: 0.1677 - facs_output_loss: 0.0938 - emotion_output_loss: 0.0739 - facs_output_accuracy: 0.5102 - emotion_output_accuracy: 0.9974 - val_loss: 1.6216 - val_facs_output_loss: 0.5482 - val_emotion_output_loss: 1.0734 - val_facs_output_accuracy: 0.2857 - val_emotion_output_accuracy: 0.6786\n",
      "Epoch 58/100\n",
      "13/13 [==============================] - 1s 63ms/step - loss: 0.1631 - facs_output_loss: 0.0912 - emotion_output_loss: 0.0719 - facs_output_accuracy: 0.5255 - emotion_output_accuracy: 0.9974 - val_loss: 1.6471 - val_facs_output_loss: 0.5651 - val_emotion_output_loss: 1.0819 - val_facs_output_accuracy: 0.2381 - val_emotion_output_accuracy: 0.6310\n",
      "Epoch 59/100\n",
      "13/13 [==============================] - 1s 65ms/step - loss: 0.1625 - facs_output_loss: 0.0895 - emotion_output_loss: 0.0730 - facs_output_accuracy: 0.5357 - emotion_output_accuracy: 0.9974 - val_loss: 1.6566 - val_facs_output_loss: 0.5606 - val_emotion_output_loss: 1.0960 - val_facs_output_accuracy: 0.2738 - val_emotion_output_accuracy: 0.6310\n",
      "Epoch 60/100\n",
      "13/13 [==============================] - 1s 64ms/step - loss: 0.1593 - facs_output_loss: 0.0881 - emotion_output_loss: 0.0712 - facs_output_accuracy: 0.5179 - emotion_output_accuracy: 0.9974 - val_loss: 1.6690 - val_facs_output_loss: 0.5660 - val_emotion_output_loss: 1.1030 - val_facs_output_accuracy: 0.3095 - val_emotion_output_accuracy: 0.6548\n",
      "Epoch 61/100\n",
      "13/13 [==============================] - 1s 64ms/step - loss: 0.1479 - facs_output_loss: 0.0844 - emotion_output_loss: 0.0635 - facs_output_accuracy: 0.5077 - emotion_output_accuracy: 0.9974 - val_loss: 1.6665 - val_facs_output_loss: 0.5769 - val_emotion_output_loss: 1.0897 - val_facs_output_accuracy: 0.2262 - val_emotion_output_accuracy: 0.6548\n",
      "Epoch 62/100\n",
      "13/13 [==============================] - 1s 64ms/step - loss: 0.1431 - facs_output_loss: 0.0824 - emotion_output_loss: 0.0607 - facs_output_accuracy: 0.5102 - emotion_output_accuracy: 1.0000 - val_loss: 1.6923 - val_facs_output_loss: 0.5677 - val_emotion_output_loss: 1.1246 - val_facs_output_accuracy: 0.2619 - val_emotion_output_accuracy: 0.6786\n",
      "Epoch 63/100\n",
      "13/13 [==============================] - 1s 63ms/step - loss: 0.1435 - facs_output_loss: 0.0824 - emotion_output_loss: 0.0611 - facs_output_accuracy: 0.5179 - emotion_output_accuracy: 1.0000 - val_loss: 1.7295 - val_facs_output_loss: 0.5706 - val_emotion_output_loss: 1.1589 - val_facs_output_accuracy: 0.2857 - val_emotion_output_accuracy: 0.6786\n",
      "Epoch 64/100\n",
      "13/13 [==============================] - 1s 65ms/step - loss: 0.1399 - facs_output_loss: 0.0792 - emotion_output_loss: 0.0607 - facs_output_accuracy: 0.5230 - emotion_output_accuracy: 1.0000 - val_loss: 1.6942 - val_facs_output_loss: 0.5722 - val_emotion_output_loss: 1.1220 - val_facs_output_accuracy: 0.2738 - val_emotion_output_accuracy: 0.6667\n",
      "Epoch 65/100\n",
      "13/13 [==============================] - 1s 65ms/step - loss: 0.1345 - facs_output_loss: 0.0779 - emotion_output_loss: 0.0566 - facs_output_accuracy: 0.5026 - emotion_output_accuracy: 1.0000 - val_loss: 1.7157 - val_facs_output_loss: 0.5864 - val_emotion_output_loss: 1.1293 - val_facs_output_accuracy: 0.2857 - val_emotion_output_accuracy: 0.6548\n",
      "Epoch 66/100\n",
      "13/13 [==============================] - 1s 63ms/step - loss: 0.1291 - facs_output_loss: 0.0759 - emotion_output_loss: 0.0533 - facs_output_accuracy: 0.5077 - emotion_output_accuracy: 1.0000 - val_loss: 1.7162 - val_facs_output_loss: 0.5868 - val_emotion_output_loss: 1.1293 - val_facs_output_accuracy: 0.2381 - val_emotion_output_accuracy: 0.6429\n",
      "Epoch 67/100\n",
      "13/13 [==============================] - 1s 64ms/step - loss: 0.1278 - facs_output_loss: 0.0746 - emotion_output_loss: 0.0532 - facs_output_accuracy: 0.5383 - emotion_output_accuracy: 1.0000 - val_loss: 1.7396 - val_facs_output_loss: 0.5908 - val_emotion_output_loss: 1.1489 - val_facs_output_accuracy: 0.2143 - val_emotion_output_accuracy: 0.6310\n",
      "Epoch 68/100\n",
      "13/13 [==============================] - 1s 66ms/step - loss: 0.1220 - facs_output_loss: 0.0733 - emotion_output_loss: 0.0487 - facs_output_accuracy: 0.5357 - emotion_output_accuracy: 1.0000 - val_loss: 1.7220 - val_facs_output_loss: 0.5737 - val_emotion_output_loss: 1.1483 - val_facs_output_accuracy: 0.2619 - val_emotion_output_accuracy: 0.6905\n",
      "Epoch 69/100\n",
      "13/13 [==============================] - 1s 67ms/step - loss: 0.1189 - facs_output_loss: 0.0719 - emotion_output_loss: 0.0470 - facs_output_accuracy: 0.4949 - emotion_output_accuracy: 1.0000 - val_loss: 1.7797 - val_facs_output_loss: 0.5823 - val_emotion_output_loss: 1.1975 - val_facs_output_accuracy: 0.3333 - val_emotion_output_accuracy: 0.6786\n",
      "Epoch 70/100\n",
      "13/13 [==============================] - 1s 66ms/step - loss: 0.1243 - facs_output_loss: 0.0734 - emotion_output_loss: 0.0509 - facs_output_accuracy: 0.4847 - emotion_output_accuracy: 1.0000 - val_loss: 1.8335 - val_facs_output_loss: 0.5924 - val_emotion_output_loss: 1.2411 - val_facs_output_accuracy: 0.3095 - val_emotion_output_accuracy: 0.6667\n",
      "Epoch 71/100\n",
      "13/13 [==============================] - 1s 65ms/step - loss: 0.1239 - facs_output_loss: 0.0723 - emotion_output_loss: 0.0516 - facs_output_accuracy: 0.5561 - emotion_output_accuracy: 1.0000 - val_loss: 1.7628 - val_facs_output_loss: 0.5902 - val_emotion_output_loss: 1.1725 - val_facs_output_accuracy: 0.2619 - val_emotion_output_accuracy: 0.6786\n",
      "Epoch 72/100\n",
      "13/13 [==============================] - 1s 63ms/step - loss: 0.1102 - facs_output_loss: 0.0671 - emotion_output_loss: 0.0432 - facs_output_accuracy: 0.5153 - emotion_output_accuracy: 1.0000 - val_loss: 1.7516 - val_facs_output_loss: 0.5909 - val_emotion_output_loss: 1.1607 - val_facs_output_accuracy: 0.2381 - val_emotion_output_accuracy: 0.6429\n",
      "Epoch 73/100\n",
      "13/13 [==============================] - 1s 64ms/step - loss: 0.1057 - facs_output_loss: 0.0643 - emotion_output_loss: 0.0414 - facs_output_accuracy: 0.4872 - emotion_output_accuracy: 1.0000 - val_loss: 1.7848 - val_facs_output_loss: 0.6058 - val_emotion_output_loss: 1.1790 - val_facs_output_accuracy: 0.1905 - val_emotion_output_accuracy: 0.6786\n",
      "Epoch 74/100\n",
      "13/13 [==============================] - 1s 63ms/step - loss: 0.1038 - facs_output_loss: 0.0622 - emotion_output_loss: 0.0416 - facs_output_accuracy: 0.5306 - emotion_output_accuracy: 1.0000 - val_loss: 1.7541 - val_facs_output_loss: 0.6012 - val_emotion_output_loss: 1.1529 - val_facs_output_accuracy: 0.1905 - val_emotion_output_accuracy: 0.6786\n",
      "Epoch 75/100\n",
      "13/13 [==============================] - 1s 63ms/step - loss: 0.1024 - facs_output_loss: 0.0610 - emotion_output_loss: 0.0414 - facs_output_accuracy: 0.5153 - emotion_output_accuracy: 1.0000 - val_loss: 1.7859 - val_facs_output_loss: 0.6086 - val_emotion_output_loss: 1.1773 - val_facs_output_accuracy: 0.3452 - val_emotion_output_accuracy: 0.6429\n",
      "Epoch 76/100\n",
      "13/13 [==============================] - 1s 64ms/step - loss: 0.0969 - facs_output_loss: 0.0595 - emotion_output_loss: 0.0374 - facs_output_accuracy: 0.5077 - emotion_output_accuracy: 1.0000 - val_loss: 1.7981 - val_facs_output_loss: 0.5979 - val_emotion_output_loss: 1.2002 - val_facs_output_accuracy: 0.3214 - val_emotion_output_accuracy: 0.6786\n",
      "Epoch 77/100\n",
      "13/13 [==============================] - 1s 69ms/step - loss: 0.0968 - facs_output_loss: 0.0592 - emotion_output_loss: 0.0376 - facs_output_accuracy: 0.5000 - emotion_output_accuracy: 1.0000 - val_loss: 1.7938 - val_facs_output_loss: 0.6016 - val_emotion_output_loss: 1.1923 - val_facs_output_accuracy: 0.3214 - val_emotion_output_accuracy: 0.6667\n",
      "Epoch 78/100\n",
      "13/13 [==============================] - 1s 64ms/step - loss: 0.0927 - facs_output_loss: 0.0581 - emotion_output_loss: 0.0346 - facs_output_accuracy: 0.5153 - emotion_output_accuracy: 1.0000 - val_loss: 1.8240 - val_facs_output_loss: 0.6149 - val_emotion_output_loss: 1.2091 - val_facs_output_accuracy: 0.2619 - val_emotion_output_accuracy: 0.6548\n",
      "Epoch 79/100\n",
      "13/13 [==============================] - 1s 63ms/step - loss: 0.0905 - facs_output_loss: 0.0558 - emotion_output_loss: 0.0347 - facs_output_accuracy: 0.5332 - emotion_output_accuracy: 1.0000 - val_loss: 1.8271 - val_facs_output_loss: 0.6196 - val_emotion_output_loss: 1.2075 - val_facs_output_accuracy: 0.2143 - val_emotion_output_accuracy: 0.6310\n",
      "Epoch 80/100\n",
      "13/13 [==============================] - 1s 64ms/step - loss: 0.0900 - facs_output_loss: 0.0553 - emotion_output_loss: 0.0347 - facs_output_accuracy: 0.5306 - emotion_output_accuracy: 1.0000 - val_loss: 1.8080 - val_facs_output_loss: 0.6202 - val_emotion_output_loss: 1.1878 - val_facs_output_accuracy: 0.2024 - val_emotion_output_accuracy: 0.6429\n",
      "Epoch 81/100\n",
      "13/13 [==============================] - 1s 62ms/step - loss: 0.0853 - facs_output_loss: 0.0533 - emotion_output_loss: 0.0320 - facs_output_accuracy: 0.4923 - emotion_output_accuracy: 1.0000 - val_loss: 1.8326 - val_facs_output_loss: 0.6096 - val_emotion_output_loss: 1.2231 - val_facs_output_accuracy: 0.2857 - val_emotion_output_accuracy: 0.6429\n",
      "Epoch 82/100\n",
      "13/13 [==============================] - 1s 62ms/step - loss: 0.0827 - facs_output_loss: 0.0517 - emotion_output_loss: 0.0310 - facs_output_accuracy: 0.5051 - emotion_output_accuracy: 1.0000 - val_loss: 1.8370 - val_facs_output_loss: 0.6305 - val_emotion_output_loss: 1.2066 - val_facs_output_accuracy: 0.2500 - val_emotion_output_accuracy: 0.6548\n",
      "Epoch 83/100\n",
      "13/13 [==============================] - 1s 62ms/step - loss: 0.0828 - facs_output_loss: 0.0524 - emotion_output_loss: 0.0304 - facs_output_accuracy: 0.4923 - emotion_output_accuracy: 1.0000 - val_loss: 1.8375 - val_facs_output_loss: 0.6289 - val_emotion_output_loss: 1.2086 - val_facs_output_accuracy: 0.2857 - val_emotion_output_accuracy: 0.6548\n",
      "Epoch 84/100\n",
      "13/13 [==============================] - 1s 63ms/step - loss: 0.0806 - facs_output_loss: 0.0496 - emotion_output_loss: 0.0310 - facs_output_accuracy: 0.5102 - emotion_output_accuracy: 1.0000 - val_loss: 1.8886 - val_facs_output_loss: 0.6323 - val_emotion_output_loss: 1.2562 - val_facs_output_accuracy: 0.2500 - val_emotion_output_accuracy: 0.6667\n",
      "Epoch 85/100\n",
      "13/13 [==============================] - 1s 66ms/step - loss: 0.0771 - facs_output_loss: 0.0485 - emotion_output_loss: 0.0286 - facs_output_accuracy: 0.4949 - emotion_output_accuracy: 1.0000 - val_loss: 1.8803 - val_facs_output_loss: 0.6292 - val_emotion_output_loss: 1.2511 - val_facs_output_accuracy: 0.2619 - val_emotion_output_accuracy: 0.6429\n",
      "Epoch 86/100\n",
      "13/13 [==============================] - 1s 62ms/step - loss: 0.0799 - facs_output_loss: 0.0506 - emotion_output_loss: 0.0293 - facs_output_accuracy: 0.5179 - emotion_output_accuracy: 1.0000 - val_loss: 1.8619 - val_facs_output_loss: 0.6320 - val_emotion_output_loss: 1.2299 - val_facs_output_accuracy: 0.1905 - val_emotion_output_accuracy: 0.6548\n",
      "Epoch 87/100\n",
      "13/13 [==============================] - 1s 64ms/step - loss: 0.0793 - facs_output_loss: 0.0512 - emotion_output_loss: 0.0281 - facs_output_accuracy: 0.5281 - emotion_output_accuracy: 1.0000 - val_loss: 1.8678 - val_facs_output_loss: 0.6363 - val_emotion_output_loss: 1.2315 - val_facs_output_accuracy: 0.2381 - val_emotion_output_accuracy: 0.6310\n",
      "Epoch 88/100\n",
      "13/13 [==============================] - 1s 62ms/step - loss: 0.0736 - facs_output_loss: 0.0468 - emotion_output_loss: 0.0268 - facs_output_accuracy: 0.5281 - emotion_output_accuracy: 1.0000 - val_loss: 1.8837 - val_facs_output_loss: 0.6416 - val_emotion_output_loss: 1.2421 - val_facs_output_accuracy: 0.2857 - val_emotion_output_accuracy: 0.6429\n",
      "Epoch 89/100\n",
      "13/13 [==============================] - 1s 63ms/step - loss: 0.0709 - facs_output_loss: 0.0460 - emotion_output_loss: 0.0249 - facs_output_accuracy: 0.5051 - emotion_output_accuracy: 1.0000 - val_loss: 1.9059 - val_facs_output_loss: 0.6475 - val_emotion_output_loss: 1.2585 - val_facs_output_accuracy: 0.2381 - val_emotion_output_accuracy: 0.6548\n",
      "Epoch 90/100\n",
      "13/13 [==============================] - 1s 62ms/step - loss: 0.0690 - facs_output_loss: 0.0443 - emotion_output_loss: 0.0247 - facs_output_accuracy: 0.4872 - emotion_output_accuracy: 1.0000 - val_loss: 1.9093 - val_facs_output_loss: 0.6378 - val_emotion_output_loss: 1.2714 - val_facs_output_accuracy: 0.2976 - val_emotion_output_accuracy: 0.6429\n",
      "Epoch 91/100\n",
      "13/13 [==============================] - 1s 62ms/step - loss: 0.0705 - facs_output_loss: 0.0451 - emotion_output_loss: 0.0254 - facs_output_accuracy: 0.5026 - emotion_output_accuracy: 1.0000 - val_loss: 1.9121 - val_facs_output_loss: 0.6416 - val_emotion_output_loss: 1.2705 - val_facs_output_accuracy: 0.3452 - val_emotion_output_accuracy: 0.6667\n",
      "Epoch 92/100\n",
      "13/13 [==============================] - 1s 62ms/step - loss: 0.0702 - facs_output_loss: 0.0451 - emotion_output_loss: 0.0251 - facs_output_accuracy: 0.5102 - emotion_output_accuracy: 1.0000 - val_loss: 1.9318 - val_facs_output_loss: 0.6521 - val_emotion_output_loss: 1.2797 - val_facs_output_accuracy: 0.2857 - val_emotion_output_accuracy: 0.6429\n",
      "Epoch 93/100\n",
      "13/13 [==============================] - 1s 63ms/step - loss: 0.0646 - facs_output_loss: 0.0414 - emotion_output_loss: 0.0232 - facs_output_accuracy: 0.5153 - emotion_output_accuracy: 1.0000 - val_loss: 1.8955 - val_facs_output_loss: 0.6501 - val_emotion_output_loss: 1.2455 - val_facs_output_accuracy: 0.2738 - val_emotion_output_accuracy: 0.6429\n",
      "Epoch 94/100\n",
      "13/13 [==============================] - 1s 63ms/step - loss: 0.0622 - facs_output_loss: 0.0398 - emotion_output_loss: 0.0223 - facs_output_accuracy: 0.5179 - emotion_output_accuracy: 1.0000 - val_loss: 1.9588 - val_facs_output_loss: 0.6510 - val_emotion_output_loss: 1.3077 - val_facs_output_accuracy: 0.2857 - val_emotion_output_accuracy: 0.6667\n",
      "Epoch 95/100\n",
      "13/13 [==============================] - 1s 62ms/step - loss: 0.0617 - facs_output_loss: 0.0399 - emotion_output_loss: 0.0219 - facs_output_accuracy: 0.5230 - emotion_output_accuracy: 1.0000 - val_loss: 1.9430 - val_facs_output_loss: 0.6558 - val_emotion_output_loss: 1.2872 - val_facs_output_accuracy: 0.2619 - val_emotion_output_accuracy: 0.6548\n",
      "Epoch 96/100\n",
      "13/13 [==============================] - 1s 63ms/step - loss: 0.0593 - facs_output_loss: 0.0391 - emotion_output_loss: 0.0202 - facs_output_accuracy: 0.5128 - emotion_output_accuracy: 1.0000 - val_loss: 1.9550 - val_facs_output_loss: 0.6777 - val_emotion_output_loss: 1.2774 - val_facs_output_accuracy: 0.1905 - val_emotion_output_accuracy: 0.6548\n",
      "Epoch 97/100\n",
      "13/13 [==============================] - 1s 64ms/step - loss: 0.0591 - facs_output_loss: 0.0392 - emotion_output_loss: 0.0198 - facs_output_accuracy: 0.5026 - emotion_output_accuracy: 1.0000 - val_loss: 1.9519 - val_facs_output_loss: 0.6721 - val_emotion_output_loss: 1.2797 - val_facs_output_accuracy: 0.2024 - val_emotion_output_accuracy: 0.6310\n",
      "Epoch 98/100\n",
      "13/13 [==============================] - 1s 63ms/step - loss: 0.0600 - facs_output_loss: 0.0385 - emotion_output_loss: 0.0215 - facs_output_accuracy: 0.5077 - emotion_output_accuracy: 1.0000 - val_loss: 2.0157 - val_facs_output_loss: 0.6684 - val_emotion_output_loss: 1.3473 - val_facs_output_accuracy: 0.2738 - val_emotion_output_accuracy: 0.6905\n",
      "Epoch 99/100\n",
      "13/13 [==============================] - 1s 63ms/step - loss: 0.0590 - facs_output_loss: 0.0375 - emotion_output_loss: 0.0215 - facs_output_accuracy: 0.4745 - emotion_output_accuracy: 1.0000 - val_loss: 1.9931 - val_facs_output_loss: 0.6642 - val_emotion_output_loss: 1.3289 - val_facs_output_accuracy: 0.2738 - val_emotion_output_accuracy: 0.6786\n",
      "Epoch 100/100\n",
      "13/13 [==============================] - 1s 63ms/step - loss: 0.0546 - facs_output_loss: 0.0357 - emotion_output_loss: 0.0189 - facs_output_accuracy: 0.4898 - emotion_output_accuracy: 1.0000 - val_loss: 2.0153 - val_facs_output_loss: 0.6761 - val_emotion_output_loss: 1.3392 - val_facs_output_accuracy: 0.2381 - val_emotion_output_accuracy: 0.6786\n"
     ]
    }
   ],
   "source": [
    "history = model.fit(X_train, {'facs_output': y_train_facs, 'emotion_output': y_train_emotion}, \n",
    "                    validation_data=(X_val, {'facs_output': y_val_facs, 'emotion_output': y_val_emotion}), \n",
    "                    epochs=100, batch_size=32)\n",
    "\n",
    "# history = model.fit(train_generator, \n",
    "#                     validation_data=(X_val, {'facs_output': y_val_facs, 'emotion_output': y_val_emotion}), \n",
    "#                     epochs=100, batch_size=32)"
   ]
  },
  {
   "cell_type": "code",
   "execution_count": 54,
   "metadata": {},
   "outputs": [
    {
     "name": "stdout",
     "output_type": "stream",
     "text": [
      "3/3 [==============================] - 0s 48ms/step - loss: 1.8240 - facs_output_loss: 0.6122 - emotion_output_loss: 1.2119 - facs_output_accuracy: 0.2381 - emotion_output_accuracy: 0.6310\n"
     ]
    }
   ],
   "source": [
    "# Evaluate the model on the test set\n",
    "evaluation = model.evaluate(X_test, {'facs_output': y_test_facs, 'emotion_output': y_test_emotion})\n",
    "\n",
    "# Unpacking the evaluation results\n",
    "total_loss = evaluation[0] # Total loss\n",
    "loss_facs = evaluation[1] # Loss for FACS output\n",
    "loss_emotion = evaluation[2] # Loss for emotion output\n",
    "accuracy_facs = evaluation[3] # Accuracy for FACS output\n",
    "accuracy_emotion = evaluation[4] # Accuracy for emotion output"
   ]
  },
  {
   "cell_type": "code",
   "execution_count": 55,
   "metadata": {},
   "outputs": [
    {
     "name": "stdout",
     "output_type": "stream",
     "text": [
      "1/3 [=========>....................] - ETA: 0s"
     ]
    },
    {
     "name": "stderr",
     "output_type": "stream",
     "text": [
      "2023-11-15 21:05:22.233756: I tensorflow/core/grappler/optimizers/custom_graph_optimizer_registry.cc:114] Plugin optimizer for device_type GPU is enabled.\n"
     ]
    },
    {
     "name": "stdout",
     "output_type": "stream",
     "text": [
      "3/3 [==============================] - 0s 73ms/step\n"
     ]
    }
   ],
   "source": [
    "predictions = model.predict(X_test)"
   ]
  },
  {
   "cell_type": "code",
   "execution_count": 56,
   "metadata": {},
   "outputs": [],
   "source": [
    "facs_predictions, emotion_predictions = predictions\n",
    "# Processing FACS predictions: Convert probabilities to binary values\n",
    "facs_pred_binary = (facs_predictions > 0.5).astype(int)\n",
    "\n",
    "# Processing Emotion predictions: Convert probabilities to class labels\n",
    "emotion_pred_labels = np.argmax(emotion_predictions, axis=1)"
   ]
  },
  {
   "cell_type": "code",
   "execution_count": 57,
   "metadata": {},
   "outputs": [
    {
     "data": {
      "text/plain": [
       "array([[0, 0, 0, ..., 0, 0, 0],\n",
       "       [0, 1, 1, ..., 0, 0, 0],\n",
       "       [0, 0, 0, ..., 0, 0, 0],\n",
       "       ...,\n",
       "       [0, 0, 0, ..., 0, 0, 0],\n",
       "       [0, 1, 1, ..., 0, 0, 0],\n",
       "       [0, 0, 0, ..., 0, 0, 0]])"
      ]
     },
     "execution_count": 57,
     "metadata": {},
     "output_type": "execute_result"
    }
   ],
   "source": [
    "facs_pred_binary"
   ]
  },
  {
   "cell_type": "code",
   "execution_count": 58,
   "metadata": {},
   "outputs": [
    {
     "data": {
      "text/plain": [
       "array([1, 2, 2, 0, 1, 2, 0, 0, 0, 0, 0, 2, 2, 0, 2, 0, 0, 1, 0, 1, 2, 0,\n",
       "       0, 2, 0, 2, 0, 2, 0, 1, 1, 0, 0, 0, 0, 2, 0, 0, 0, 2, 0, 0, 1, 0,\n",
       "       0, 0, 1, 0, 1, 0, 1, 1, 1, 1, 0, 0, 2, 0, 2, 0, 1, 0, 0, 0, 0, 0,\n",
       "       0, 0, 0, 2, 0, 0, 2, 1, 1, 0, 1, 0, 0, 0, 0, 0, 2, 2])"
      ]
     },
     "execution_count": 58,
     "metadata": {},
     "output_type": "execute_result"
    }
   ],
   "source": [
    "emotion_pred_labels"
   ]
  },
  {
   "cell_type": "markdown",
   "metadata": {},
   "source": [
    "## [6] HYPER TUNING"
   ]
  },
  {
   "cell_type": "code",
   "execution_count": 59,
   "metadata": {},
   "outputs": [],
   "source": [
    "names = ['negative','positive','surprise']\n",
    "\n",
    "def getLabel(id):\n",
    "    return ['negative','positive','surprise'][id]"
   ]
  },
  {
   "cell_type": "code",
   "execution_count": null,
   "metadata": {},
   "outputs": [],
   "source": [
    "# Tune note\n",
    "    # Optimizer (Learning Rate, etc...)\n",
    "    # Image Augumentation\n",
    "    # Adjust Epoch\n"
   ]
  }
 ],
 "metadata": {
  "kernelspec": {
   "display_name": "Python 3",
   "language": "python",
   "name": "python3"
  },
  "language_info": {
   "codemirror_mode": {
    "name": "ipython",
    "version": 3
   },
   "file_extension": ".py",
   "mimetype": "text/x-python",
   "name": "python",
   "nbconvert_exporter": "python",
   "pygments_lexer": "ipython3",
   "version": "3.8.17"
  }
 },
 "nbformat": 4,
 "nbformat_minor": 2
}
