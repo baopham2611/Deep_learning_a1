{
 "cells": [
  {
   "cell_type": "markdown",
   "metadata": {},
   "source": [
    "## IMPORT LIBRARES AND PACKAGES"
   ]
  },
  {
   "cell_type": "code",
   "execution_count": 584,
   "metadata": {},
   "outputs": [],
   "source": [
    "import keras\n",
    "import pandas as pd\n",
    "import numpy as np\n",
    "import matplotlib.pyplot as plt\n",
    "import seaborn as sns\n",
    "import os, cv2\n",
    "\n",
    "from PIL import Image\n",
    "from scipy import stats\n",
    "\n",
    "from keras.utils import to_categorical"
   ]
  },
  {
   "cell_type": "markdown",
   "metadata": {},
   "source": [
    "## [1] DATA PREPARATION"
   ]
  },
  {
   "cell_type": "markdown",
   "metadata": {},
   "source": [
    "Setup data directory"
   ]
  },
  {
   "cell_type": "code",
   "execution_count": 585,
   "metadata": {},
   "outputs": [],
   "source": [
    "IMAGE_DIRECTORY = \"./data-1/cohn-kanade-images/\"\n",
    "DATA_LABEL_DIRECTORY = \"./data-1/data_labels.csv\""
   ]
  },
  {
   "cell_type": "markdown",
   "metadata": {},
   "source": [
    "#### Load Label Dataset"
   ]
  },
  {
   "cell_type": "code",
   "execution_count": 586,
   "metadata": {},
   "outputs": [],
   "source": [
    "df = pd.read_csv(DATA_LABEL_DIRECTORY)"
   ]
  },
  {
   "cell_type": "markdown",
   "metadata": {},
   "source": [
    "Explore head"
   ]
  },
  {
   "cell_type": "code",
   "execution_count": 587,
   "metadata": {},
   "outputs": [
    {
     "data": {
      "text/html": [
       "<div>\n",
       "<style scoped>\n",
       "    .dataframe tbody tr th:only-of-type {\n",
       "        vertical-align: middle;\n",
       "    }\n",
       "\n",
       "    .dataframe tbody tr th {\n",
       "        vertical-align: top;\n",
       "    }\n",
       "\n",
       "    .dataframe thead th {\n",
       "        text-align: right;\n",
       "    }\n",
       "</style>\n",
       "<table border=\"1\" class=\"dataframe\">\n",
       "  <thead>\n",
       "    <tr style=\"text-align: right;\">\n",
       "      <th></th>\n",
       "      <th>subject</th>\n",
       "      <th>sequence</th>\n",
       "      <th>image_index</th>\n",
       "      <th>filepath</th>\n",
       "      <th>file_prefix</th>\n",
       "      <th>AU17</th>\n",
       "      <th>AU1</th>\n",
       "      <th>AU2</th>\n",
       "      <th>AU25</th>\n",
       "      <th>AU27</th>\n",
       "      <th>AU4</th>\n",
       "      <th>AU7</th>\n",
       "      <th>AU23</th>\n",
       "      <th>AU24</th>\n",
       "      <th>AU6</th>\n",
       "      <th>AU12</th>\n",
       "      <th>AU15</th>\n",
       "      <th>AU14</th>\n",
       "      <th>AU11</th>\n",
       "      <th>AU26</th>\n",
       "      <th>high_level_emotion</th>\n",
       "    </tr>\n",
       "  </thead>\n",
       "  <tbody>\n",
       "    <tr>\n",
       "      <th>0</th>\n",
       "      <td>S005</td>\n",
       "      <td>1</td>\n",
       "      <td>11</td>\n",
       "      <td>./cohn-kanade-images/S005/001/S005_001_0000001...</td>\n",
       "      <td>S005_001_00000011</td>\n",
       "      <td>1</td>\n",
       "      <td>0</td>\n",
       "      <td>0</td>\n",
       "      <td>0</td>\n",
       "      <td>0</td>\n",
       "      <td>0</td>\n",
       "      <td>0</td>\n",
       "      <td>0</td>\n",
       "      <td>0</td>\n",
       "      <td>0</td>\n",
       "      <td>0</td>\n",
       "      <td>0</td>\n",
       "      <td>0</td>\n",
       "      <td>0</td>\n",
       "      <td>0</td>\n",
       "      <td>negative</td>\n",
       "    </tr>\n",
       "    <tr>\n",
       "      <th>1</th>\n",
       "      <td>S010</td>\n",
       "      <td>1</td>\n",
       "      <td>14</td>\n",
       "      <td>./cohn-kanade-images/S010/001/S010_001_0000001...</td>\n",
       "      <td>S010_001_00000014</td>\n",
       "      <td>0</td>\n",
       "      <td>1</td>\n",
       "      <td>1</td>\n",
       "      <td>1</td>\n",
       "      <td>0</td>\n",
       "      <td>0</td>\n",
       "      <td>0</td>\n",
       "      <td>0</td>\n",
       "      <td>0</td>\n",
       "      <td>0</td>\n",
       "      <td>0</td>\n",
       "      <td>0</td>\n",
       "      <td>0</td>\n",
       "      <td>0</td>\n",
       "      <td>0</td>\n",
       "      <td>negative</td>\n",
       "    </tr>\n",
       "    <tr>\n",
       "      <th>2</th>\n",
       "      <td>S010</td>\n",
       "      <td>2</td>\n",
       "      <td>14</td>\n",
       "      <td>./cohn-kanade-images/S010/002/S010_002_0000001...</td>\n",
       "      <td>S010_002_00000014</td>\n",
       "      <td>0</td>\n",
       "      <td>1</td>\n",
       "      <td>1</td>\n",
       "      <td>1</td>\n",
       "      <td>1</td>\n",
       "      <td>0</td>\n",
       "      <td>0</td>\n",
       "      <td>0</td>\n",
       "      <td>0</td>\n",
       "      <td>0</td>\n",
       "      <td>0</td>\n",
       "      <td>0</td>\n",
       "      <td>0</td>\n",
       "      <td>0</td>\n",
       "      <td>0</td>\n",
       "      <td>surprise</td>\n",
       "    </tr>\n",
       "    <tr>\n",
       "      <th>3</th>\n",
       "      <td>S010</td>\n",
       "      <td>3</td>\n",
       "      <td>18</td>\n",
       "      <td>./cohn-kanade-images/S010/003/S010_003_0000001...</td>\n",
       "      <td>S010_003_00000018</td>\n",
       "      <td>1</td>\n",
       "      <td>0</td>\n",
       "      <td>0</td>\n",
       "      <td>0</td>\n",
       "      <td>0</td>\n",
       "      <td>1</td>\n",
       "      <td>0</td>\n",
       "      <td>0</td>\n",
       "      <td>0</td>\n",
       "      <td>0</td>\n",
       "      <td>0</td>\n",
       "      <td>0</td>\n",
       "      <td>0</td>\n",
       "      <td>0</td>\n",
       "      <td>0</td>\n",
       "      <td>negative</td>\n",
       "    </tr>\n",
       "    <tr>\n",
       "      <th>4</th>\n",
       "      <td>S010</td>\n",
       "      <td>4</td>\n",
       "      <td>19</td>\n",
       "      <td>./cohn-kanade-images/S010/004/S010_004_0000001...</td>\n",
       "      <td>S010_004_00000019</td>\n",
       "      <td>1</td>\n",
       "      <td>0</td>\n",
       "      <td>0</td>\n",
       "      <td>0</td>\n",
       "      <td>0</td>\n",
       "      <td>1</td>\n",
       "      <td>1</td>\n",
       "      <td>1</td>\n",
       "      <td>1</td>\n",
       "      <td>0</td>\n",
       "      <td>0</td>\n",
       "      <td>0</td>\n",
       "      <td>0</td>\n",
       "      <td>0</td>\n",
       "      <td>0</td>\n",
       "      <td>negative</td>\n",
       "    </tr>\n",
       "  </tbody>\n",
       "</table>\n",
       "</div>"
      ],
      "text/plain": [
       "  subject  sequence  image_index  ... AU11 AU26  high_level_emotion\n",
       "0    S005         1           11  ...    0    0            negative\n",
       "1    S010         1           14  ...    0    0            negative\n",
       "2    S010         2           14  ...    0    0            surprise\n",
       "3    S010         3           18  ...    0    0            negative\n",
       "4    S010         4           19  ...    0    0            negative\n",
       "\n",
       "[5 rows x 21 columns]"
      ]
     },
     "execution_count": 587,
     "metadata": {},
     "output_type": "execute_result"
    }
   ],
   "source": [
    "df.head(5)"
   ]
  },
  {
   "cell_type": "markdown",
   "metadata": {},
   "source": [
    "Explore Tail"
   ]
  },
  {
   "cell_type": "code",
   "execution_count": 588,
   "metadata": {},
   "outputs": [
    {
     "data": {
      "text/html": [
       "<div>\n",
       "<style scoped>\n",
       "    .dataframe tbody tr th:only-of-type {\n",
       "        vertical-align: middle;\n",
       "    }\n",
       "\n",
       "    .dataframe tbody tr th {\n",
       "        vertical-align: top;\n",
       "    }\n",
       "\n",
       "    .dataframe thead th {\n",
       "        text-align: right;\n",
       "    }\n",
       "</style>\n",
       "<table border=\"1\" class=\"dataframe\">\n",
       "  <thead>\n",
       "    <tr style=\"text-align: right;\">\n",
       "      <th></th>\n",
       "      <th>subject</th>\n",
       "      <th>sequence</th>\n",
       "      <th>image_index</th>\n",
       "      <th>filepath</th>\n",
       "      <th>file_prefix</th>\n",
       "      <th>AU17</th>\n",
       "      <th>AU1</th>\n",
       "      <th>AU2</th>\n",
       "      <th>AU25</th>\n",
       "      <th>AU27</th>\n",
       "      <th>AU4</th>\n",
       "      <th>AU7</th>\n",
       "      <th>AU23</th>\n",
       "      <th>AU24</th>\n",
       "      <th>AU6</th>\n",
       "      <th>AU12</th>\n",
       "      <th>AU15</th>\n",
       "      <th>AU14</th>\n",
       "      <th>AU11</th>\n",
       "      <th>AU26</th>\n",
       "      <th>high_level_emotion</th>\n",
       "    </tr>\n",
       "  </thead>\n",
       "  <tbody>\n",
       "    <tr>\n",
       "      <th>555</th>\n",
       "      <td>S506</td>\n",
       "      <td>4</td>\n",
       "      <td>38</td>\n",
       "      <td>./cohn-kanade-images/S506/004/S506_004_0000003...</td>\n",
       "      <td>S506_004_00000038</td>\n",
       "      <td>0</td>\n",
       "      <td>1</td>\n",
       "      <td>1</td>\n",
       "      <td>1</td>\n",
       "      <td>0</td>\n",
       "      <td>1</td>\n",
       "      <td>0</td>\n",
       "      <td>0</td>\n",
       "      <td>0</td>\n",
       "      <td>0</td>\n",
       "      <td>0</td>\n",
       "      <td>0</td>\n",
       "      <td>0</td>\n",
       "      <td>0</td>\n",
       "      <td>0</td>\n",
       "      <td>negative</td>\n",
       "    </tr>\n",
       "    <tr>\n",
       "      <th>556</th>\n",
       "      <td>S506</td>\n",
       "      <td>6</td>\n",
       "      <td>42</td>\n",
       "      <td>./cohn-kanade-images/S506/006/S506_006_0000004...</td>\n",
       "      <td>S506_006_00000042</td>\n",
       "      <td>1</td>\n",
       "      <td>1</td>\n",
       "      <td>1</td>\n",
       "      <td>0</td>\n",
       "      <td>0</td>\n",
       "      <td>1</td>\n",
       "      <td>0</td>\n",
       "      <td>0</td>\n",
       "      <td>0</td>\n",
       "      <td>0</td>\n",
       "      <td>0</td>\n",
       "      <td>1</td>\n",
       "      <td>0</td>\n",
       "      <td>0</td>\n",
       "      <td>1</td>\n",
       "      <td>negative</td>\n",
       "    </tr>\n",
       "    <tr>\n",
       "      <th>557</th>\n",
       "      <td>S895</td>\n",
       "      <td>2</td>\n",
       "      <td>7</td>\n",
       "      <td>./cohn-kanade-images/S895/002/S895_002_0000000...</td>\n",
       "      <td>S895_002_00000007</td>\n",
       "      <td>0</td>\n",
       "      <td>0</td>\n",
       "      <td>0</td>\n",
       "      <td>0</td>\n",
       "      <td>0</td>\n",
       "      <td>0</td>\n",
       "      <td>0</td>\n",
       "      <td>0</td>\n",
       "      <td>0</td>\n",
       "      <td>0</td>\n",
       "      <td>0</td>\n",
       "      <td>0</td>\n",
       "      <td>1</td>\n",
       "      <td>0</td>\n",
       "      <td>0</td>\n",
       "      <td>negative</td>\n",
       "    </tr>\n",
       "    <tr>\n",
       "      <th>558</th>\n",
       "      <td>S999</td>\n",
       "      <td>1</td>\n",
       "      <td>18</td>\n",
       "      <td>./cohn-kanade-images/S999/001/S999_001_0000001...</td>\n",
       "      <td>S999_001_00000018</td>\n",
       "      <td>1</td>\n",
       "      <td>0</td>\n",
       "      <td>0</td>\n",
       "      <td>0</td>\n",
       "      <td>0</td>\n",
       "      <td>1</td>\n",
       "      <td>0</td>\n",
       "      <td>1</td>\n",
       "      <td>0</td>\n",
       "      <td>0</td>\n",
       "      <td>0</td>\n",
       "      <td>0</td>\n",
       "      <td>0</td>\n",
       "      <td>0</td>\n",
       "      <td>0</td>\n",
       "      <td>negative</td>\n",
       "    </tr>\n",
       "    <tr>\n",
       "      <th>559</th>\n",
       "      <td>S999</td>\n",
       "      <td>3</td>\n",
       "      <td>55</td>\n",
       "      <td>./cohn-kanade-images/S999/003/S999_003_0000005...</td>\n",
       "      <td>S999_003_00000055</td>\n",
       "      <td>0</td>\n",
       "      <td>1</td>\n",
       "      <td>1</td>\n",
       "      <td>1</td>\n",
       "      <td>0</td>\n",
       "      <td>1</td>\n",
       "      <td>0</td>\n",
       "      <td>0</td>\n",
       "      <td>0</td>\n",
       "      <td>0</td>\n",
       "      <td>0</td>\n",
       "      <td>0</td>\n",
       "      <td>1</td>\n",
       "      <td>0</td>\n",
       "      <td>0</td>\n",
       "      <td>negative</td>\n",
       "    </tr>\n",
       "  </tbody>\n",
       "</table>\n",
       "</div>"
      ],
      "text/plain": [
       "    subject  sequence  image_index  ... AU11 AU26  high_level_emotion\n",
       "555    S506         4           38  ...    0    0            negative\n",
       "556    S506         6           42  ...    0    1            negative\n",
       "557    S895         2            7  ...    0    0            negative\n",
       "558    S999         1           18  ...    0    0            negative\n",
       "559    S999         3           55  ...    0    0            negative\n",
       "\n",
       "[5 rows x 21 columns]"
      ]
     },
     "execution_count": 588,
     "metadata": {},
     "output_type": "execute_result"
    }
   ],
   "source": [
    "df.tail(5)"
   ]
  },
  {
   "cell_type": "markdown",
   "metadata": {},
   "source": [
    "#### 1.1 DATA INTEGRITY CHECKING"
   ]
  },
  {
   "cell_type": "markdown",
   "metadata": {},
   "source": [
    "Check Duplicate"
   ]
  },
  {
   "cell_type": "code",
   "execution_count": 589,
   "metadata": {},
   "outputs": [
    {
     "name": "stdout",
     "output_type": "stream",
     "text": [
      "Number of duplicated rows: 0\n"
     ]
    }
   ],
   "source": [
    "print('Number of duplicated rows:', df.duplicated().sum())"
   ]
  },
  {
   "cell_type": "markdown",
   "metadata": {},
   "source": [
    "Check Nan Value"
   ]
  },
  {
   "cell_type": "code",
   "execution_count": 590,
   "metadata": {},
   "outputs": [
    {
     "name": "stdout",
     "output_type": "stream",
     "text": [
      "Number of Nan value rows:\n",
      " subject               0\n",
      "sequence              0\n",
      "image_index           0\n",
      "filepath              0\n",
      "file_prefix           0\n",
      "AU17                  0\n",
      "AU1                   0\n",
      "AU2                   0\n",
      "AU25                  0\n",
      "AU27                  0\n",
      "AU4                   0\n",
      "AU7                   0\n",
      "AU23                  0\n",
      "AU24                  0\n",
      "AU6                   0\n",
      "AU12                  0\n",
      "AU15                  0\n",
      "AU14                  0\n",
      "AU11                  0\n",
      "AU26                  0\n",
      "high_level_emotion    0\n",
      "dtype: int64\n"
     ]
    }
   ],
   "source": [
    "print('Number of Nan value rows:\\n', df.isnull().sum())"
   ]
  },
  {
   "cell_type": "markdown",
   "metadata": {},
   "source": [
    "Check Data Overall "
   ]
  },
  {
   "cell_type": "code",
   "execution_count": 591,
   "metadata": {},
   "outputs": [
    {
     "name": "stdout",
     "output_type": "stream",
     "text": [
      "<class 'pandas.core.frame.DataFrame'>\n",
      "RangeIndex: 560 entries, 0 to 559\n",
      "Data columns (total 21 columns):\n",
      " #   Column              Non-Null Count  Dtype \n",
      "---  ------              --------------  ----- \n",
      " 0   subject             560 non-null    object\n",
      " 1   sequence            560 non-null    int64 \n",
      " 2   image_index         560 non-null    int64 \n",
      " 3   filepath            560 non-null    object\n",
      " 4   file_prefix         560 non-null    object\n",
      " 5   AU17                560 non-null    int64 \n",
      " 6   AU1                 560 non-null    int64 \n",
      " 7   AU2                 560 non-null    int64 \n",
      " 8   AU25                560 non-null    int64 \n",
      " 9   AU27                560 non-null    int64 \n",
      " 10  AU4                 560 non-null    int64 \n",
      " 11  AU7                 560 non-null    int64 \n",
      " 12  AU23                560 non-null    int64 \n",
      " 13  AU24                560 non-null    int64 \n",
      " 14  AU6                 560 non-null    int64 \n",
      " 15  AU12                560 non-null    int64 \n",
      " 16  AU15                560 non-null    int64 \n",
      " 17  AU14                560 non-null    int64 \n",
      " 18  AU11                560 non-null    int64 \n",
      " 19  AU26                560 non-null    int64 \n",
      " 20  high_level_emotion  560 non-null    object\n",
      "dtypes: int64(17), object(4)\n",
      "memory usage: 92.0+ KB\n"
     ]
    }
   ],
   "source": [
    "df.info()"
   ]
  },
  {
   "cell_type": "markdown",
   "metadata": {},
   "source": [
    "## [2] EXPLORATORY DATA ANALYSIS"
   ]
  },
  {
   "cell_type": "markdown",
   "metadata": {},
   "source": [
    "2.1 Check Label Count"
   ]
  },
  {
   "cell_type": "code",
   "execution_count": 592,
   "metadata": {},
   "outputs": [
    {
     "name": "stderr",
     "output_type": "stream",
     "text": [
      "/var/folders/fw/d2x7nnxd3f90qrnsdxzvsjqw0000gn/T/ipykernel_54009/2055809110.py:5: FutureWarning: \n",
      "\n",
      "Passing `palette` without assigning `hue` is deprecated and will be removed in v0.14.0. Assign the `x` variable to `hue` and set `legend=False` for the same effect.\n",
      "\n",
      "  ax = sns.barplot(x=target_value_counts.index, y=target_value_counts.values, palette='hls',)\n"
     ]
    },
    {
     "data": {
      "image/png": "[encoded data removed]",
      "text/plain": [
       "<Figure size 640x480 with 1 Axes>"
      ]
     },
     "metadata": {},
     "output_type": "display_data"
    }
   ],
   "source": [
    "# Get the counts of each target value\n",
    "target_value_counts = df['high_level_emotion'].value_counts()\n",
    "\n",
    "# Create a bar plot\n",
    "ax = sns.barplot(x=target_value_counts.index, y=target_value_counts.values, palette='hls',)\n",
    "\n",
    "# Show the number of observations inside each bar\n",
    "for container in ax.containers:\n",
    "    ax.bar_label(container, fmt='%d')\n",
    "\n",
    "plt.xlabel('Target Value')\n",
    "plt.ylabel('Count')\n",
    "plt.title('Distribution of Emotion Values')\n",
    "plt.show()"
   ]
  },
  {
   "cell_type": "markdown",
   "metadata": {},
   "source": [
    "**Observation**\n",
    "\n",
    "It seems there are unbalanced count of negative comparing to other label"
   ]
  },
  {
   "cell_type": "markdown",
   "metadata": {},
   "source": [
    "2.2 Visual Inspectation"
   ]
  },
  {
   "cell_type": "code",
   "execution_count": 593,
   "metadata": {},
   "outputs": [
    {
     "data": {
      "image/png": "[encoded data removed]",
      "text/plain": [
       "<Figure size 1500x300 with 1 Axes>"
      ]
     },
     "metadata": {},
     "output_type": "display_data"
    }
   ],
   "source": [
    "# For simplicity, let's just take the first subject and its first sequence\n",
    "subject_sequence = df[(df['subject'] == 'S005') & (df['sequence'] == 1)]\n",
    "sequence_files = subject_sequence['filepath'].tolist()\n",
    "\n",
    "# Ensure that axes is always iterable\n",
    "fig, axes = plt.subplots(1, len(sequence_files), figsize=(15, 3))\n",
    "if len(sequence_files) == 1:\n",
    "    axes = [axes]  # Make it a list so it's iterable\n",
    "\n",
    "for ax, file in zip(axes, sequence_files):\n",
    "    # Correct the file path by stripping the redundant part\n",
    "    corrected_file_path = file.replace('./cohn-kanade-images/', '')\n",
    "    img_path = os.path.join(IMAGE_DIRECTORY, corrected_file_path)\n",
    "    try:\n",
    "        img = Image.open(img_path)\n",
    "        ax.imshow(img)\n",
    "        ax.axis('on')\n",
    "    except IOError:\n",
    "        print(f\"Error opening image: {img_path}\")\n",
    "\n",
    "plt.show()"
   ]
  },
  {
   "cell_type": "code",
   "execution_count": 594,
   "metadata": {},
   "outputs": [],
   "source": [
    "# Define an empty list to hold image sizes\n",
    "image_sizes = []\n",
    "\n",
    "# Define lists to hold mean and standard deviation of pixel values\n",
    "mean_pixel_values = []\n",
    "std_pixel_values = []\n",
    "\n",
    "# Define a list to hold paths of corrupt images\n",
    "corrupt_images = []\n",
    "\n",
    "img_path_list = []\n",
    "# Loop through the file paths in your DataFrame\n",
    "for file_path in df['filepath']:\n",
    "    corrected_file_path = file_path.replace('./cohn-kanade-images/', '')\n",
    "    img_path = os.path.join(IMAGE_DIRECTORY, corrected_file_path)\n",
    "    img_path_list.append(img_path)\n",
    "    try:\n",
    "        # Open the image and convert it to RGB (in case some are grayscale)\n",
    "        img = cv2.imread(img_path, cv2.IMREAD_COLOR)\n",
    "        img = cv2.cvtColor(img, cv2.COLOR_BGR2RGB)\n",
    "        \n",
    "        # Check if the image is read correctly\n",
    "        if img is not None:\n",
    "            # Append the image size\n",
    "            image_sizes.append(img.shape)\n",
    "            \n",
    "            # Calculate and store the mean and standard deviation of pixel values\n",
    "            mean_pixel_values.append(np.mean(img))\n",
    "            std_pixel_values.append(np.std(img))\n",
    "        else:\n",
    "            # If img is None, the image is corrupt\n",
    "            corrupt_images.append(img_path)\n",
    "            \n",
    "    except Exception as e:\n",
    "        # If an exception is raised, the image is likely corrupt\n",
    "        corrupt_images.append(img_path)"
   ]
  },
  {
   "cell_type": "code",
   "execution_count": 595,
   "metadata": {},
   "outputs": [
    {
     "name": "stdout",
     "output_type": "stream",
     "text": [
      "Unique image sizes: [[480 640   3]\n",
      " [480 720   3]\n",
      " [490 640   3]]\n"
     ]
    }
   ],
   "source": [
    "# Now let's analyze the image sizes\n",
    "image_sizes = np.array(image_sizes)\n",
    "unique_sizes = np.unique(image_sizes, axis=0)\n",
    "\n",
    "# We can print out or plot the unique sizes to decide on a common size\n",
    "print(f\"Unique image sizes: {unique_sizes}\")"
   ]
  },
  {
   "cell_type": "code",
   "execution_count": 596,
   "metadata": {},
   "outputs": [
    {
     "name": "stdout",
     "output_type": "stream",
     "text": [
      "Overall mean pixel value: 99.93890188972647\n",
      "Overall standard deviation of pixel values: 9.063075756547514\n",
      "No corrupt images found.\n"
     ]
    }
   ],
   "source": [
    "# Calculate the overall mean and standard deviation for the pixel values\n",
    "overall_mean = np.mean(mean_pixel_values)\n",
    "overall_std = np.std(std_pixel_values)\n",
    "\n",
    "print(f\"Overall mean pixel value: {overall_mean}\")\n",
    "print(f\"Overall standard deviation of pixel values: {overall_std}\")\n",
    "\n",
    "# Print out corrupt images, if any\n",
    "if corrupt_images:\n",
    "    print(\"Found corrupt images:\")\n",
    "    for corrupt_img in corrupt_images:\n",
    "        print(corrupt_img)\n",
    "else:\n",
    "    print(\"No corrupt images found.\")"
   ]
  },
  {
   "cell_type": "code",
   "execution_count": 597,
   "metadata": {},
   "outputs": [
    {
     "name": "stderr",
     "output_type": "stream",
     "text": [
      "/var/folders/fw/d2x7nnxd3f90qrnsdxzvsjqw0000gn/T/ipykernel_54009/3067096416.py:7: FutureWarning: Unlike other reduction functions (e.g. `skew`, `kurtosis`), the default behavior of `mode` typically preserves the axis it acts along. In SciPy 1.11.0, this behavior will change: the default value of `keepdims` will become False, the `axis` over which the statistic is taken will be eliminated, and the value None will no longer be accepted. Set `keepdims` to True or False to avoid this warning.\n",
      "  mode = stats.mode(border_pixels)  # Find the mode of the border pixels\n"
     ]
    }
   ],
   "source": [
    "# Background Consistency Check\n",
    "background_modes = []\n",
    "\n",
    "for img_path in img_path_list:\n",
    "    img = cv2.imread(img_path, cv2.IMREAD_GRAYSCALE)  # Grayscale simplifies the analysis\n",
    "    border_pixels = np.concatenate([img[0, :], img[-1, :], img[:, 0], img[:, -1]])  # Extract border pixels\n",
    "    mode = stats.mode(border_pixels)  # Find the mode of the border pixels\n",
    "    background_modes.append(mode)"
   ]
  },
  {
   "cell_type": "code",
   "execution_count": 598,
   "metadata": {},
   "outputs": [
    {
     "name": "stdout",
     "output_type": "stream",
     "text": [
      "Mean mode value: 11.378571428571428\n",
      "Standard deviation of mode values: 47.69470887951871\n"
     ]
    },
    {
     "data": {
      "image/png": "[encoded data removed]",
      "text/plain": [
       "<Figure size 640x480 with 1 Axes>"
      ]
     },
     "metadata": {},
     "output_type": "display_data"
    },
    {
     "data": {
      "image/png": "[encoded data removed]",
      "text/plain": [
       "<Figure size 640x480 with 1 Axes>"
      ]
     },
     "metadata": {},
     "output_type": "display_data"
    }
   ],
   "source": [
    "\n",
    "# Extract the mode values and counts\n",
    "mode_values = [mode.mode[0] for mode in background_modes]\n",
    "mode_counts = [mode.count[0] for mode in background_modes]\n",
    "\n",
    "# Calculate basic statistics\n",
    "mean_mode = np.mean(mode_values)\n",
    "std_dev_mode = np.std(mode_values)\n",
    "\n",
    "print(f\"Mean mode value: {mean_mode}\")\n",
    "print(f\"Standard deviation of mode values: {std_dev_mode}\")\n",
    "\n",
    "# Visualize the distribution of mode values\n",
    "plt.hist(mode_values, bins=30, alpha=0.7, color='blue', edgecolor='black')\n",
    "plt.title('Histogram of Background Modes')\n",
    "plt.xlabel('Mode Value')\n",
    "plt.ylabel('Frequency')\n",
    "plt.show()\n",
    "\n",
    "# Box plot for detecting outliers\n",
    "plt.boxplot(mode_values, vert=False)\n",
    "plt.title('Box plot of Background Modes')\n",
    "plt.xlabel('Mode Value')\n",
    "plt.show()"
   ]
  },
  {
   "cell_type": "markdown",
   "metadata": {},
   "source": [
    "## [3] SETUP AND EXTRACT ESSENTIAL DATA "
   ]
  },
  {
   "cell_type": "markdown",
   "metadata": {},
   "source": [
    "#### 3.1 Load and Prepare Image Dataset"
   ]
  },
  {
   "cell_type": "code",
   "execution_count": 599,
   "metadata": {},
   "outputs": [
    {
     "data": {
      "text/plain": [
       "(560, 48, 48, 1)"
      ]
     },
     "execution_count": 599,
     "metadata": {},
     "output_type": "execute_result"
    }
   ],
   "source": [
    "# Initialize an empty list to store processed images\n",
    "img_data_list = []\n",
    "\n",
    "# Get a list of image file paths from the 'filepath' column in the DataFrame\n",
    "img_file_list = df['filepath'].tolist()\n",
    "\n",
    "# Iterate through each image file path\n",
    "for img in img_file_list:\n",
    "    corrected_file_path = img.replace('./cohn-kanade-images/', '')\n",
    "    img_path = os.path.join(IMAGE_DIRECTORY, corrected_file_path)\n",
    "    input_img = cv2.imread(img_path)\n",
    "\n",
    "    ### GrayScale ?\n",
    "    grayscaled_image = cv2.cvtColor(input_img, cv2.COLOR_BGR2GRAY)\n",
    "\n",
    "    # Resize the image to a fixed size of 48x48 pixels\n",
    "    input_img_resize=cv2.resize(grayscaled_image,(48,48))\n",
    "\n",
    "    # Normalize the image pixel values to lie between 0 and 1\n",
    "    normalized_image = input_img_resize / 255.0\n",
    "\n",
    "    ### Expanded ? \n",
    "    expanded_image = np.expand_dims(normalized_image, axis=-1)\n",
    "\n",
    "    img_data_list.append(expanded_image)\n",
    "\n",
    "# Convert the list of resized images to a NumPy array\n",
    "img_data = np.array(img_data_list)\n",
    "# Convert the data type of pixel values to 'float32'\n",
    "img_data = img_data.astype('float32')\n",
    "\n",
    "# Check Shape\n",
    "# 560 images.\n",
    "# 48 pixels in height.\n",
    "# 48 pixels in width.\n",
    "# 1 since the image are grayscaled.\n",
    "img_data.shape"
   ]
  },
  {
   "cell_type": "markdown",
   "metadata": {},
   "source": [
    "#### 3.2 Load and Prepare Label"
   ]
  },
  {
   "cell_type": "code",
   "execution_count": 600,
   "metadata": {},
   "outputs": [],
   "source": [
    "# Define mapping conversion\n",
    "target_mapping = {'negative': 0, 'positive': 1, 'surprise': 2}\n",
    "df['high_level_emotion_num'] = df['high_level_emotion'].map(target_mapping)\n",
    "labels = df['high_level_emotion_num'].to_list()\n",
    "num_classes = 3\n",
    "emotions_label = to_categorical(labels, num_classes=num_classes)"
   ]
  },
  {
   "cell_type": "markdown",
   "metadata": {},
   "source": [
    "#### 3.3 Load and Prepare FACS CODE"
   ]
  },
  {
   "cell_type": "code",
   "execution_count": 601,
   "metadata": {},
   "outputs": [
    {
     "data": {
      "text/html": [
       "<div>\n",
       "<style scoped>\n",
       "    .dataframe tbody tr th:only-of-type {\n",
       "        vertical-align: middle;\n",
       "    }\n",
       "\n",
       "    .dataframe tbody tr th {\n",
       "        vertical-align: top;\n",
       "    }\n",
       "\n",
       "    .dataframe thead th {\n",
       "        text-align: right;\n",
       "    }\n",
       "</style>\n",
       "<table border=\"1\" class=\"dataframe\">\n",
       "  <thead>\n",
       "    <tr style=\"text-align: right;\">\n",
       "      <th></th>\n",
       "      <th>AU17</th>\n",
       "      <th>AU1</th>\n",
       "      <th>AU2</th>\n",
       "      <th>AU25</th>\n",
       "      <th>AU27</th>\n",
       "      <th>AU4</th>\n",
       "      <th>AU7</th>\n",
       "      <th>AU23</th>\n",
       "      <th>AU24</th>\n",
       "      <th>AU6</th>\n",
       "      <th>AU12</th>\n",
       "      <th>AU15</th>\n",
       "      <th>AU14</th>\n",
       "      <th>AU11</th>\n",
       "      <th>AU26</th>\n",
       "    </tr>\n",
       "  </thead>\n",
       "  <tbody>\n",
       "    <tr>\n",
       "      <th>0</th>\n",
       "      <td>1</td>\n",
       "      <td>0</td>\n",
       "      <td>0</td>\n",
       "      <td>0</td>\n",
       "      <td>0</td>\n",
       "      <td>0</td>\n",
       "      <td>0</td>\n",
       "      <td>0</td>\n",
       "      <td>0</td>\n",
       "      <td>0</td>\n",
       "      <td>0</td>\n",
       "      <td>0</td>\n",
       "      <td>0</td>\n",
       "      <td>0</td>\n",
       "      <td>0</td>\n",
       "    </tr>\n",
       "    <tr>\n",
       "      <th>1</th>\n",
       "      <td>0</td>\n",
       "      <td>1</td>\n",
       "      <td>1</td>\n",
       "      <td>1</td>\n",
       "      <td>0</td>\n",
       "      <td>0</td>\n",
       "      <td>0</td>\n",
       "      <td>0</td>\n",
       "      <td>0</td>\n",
       "      <td>0</td>\n",
       "      <td>0</td>\n",
       "      <td>0</td>\n",
       "      <td>0</td>\n",
       "      <td>0</td>\n",
       "      <td>0</td>\n",
       "    </tr>\n",
       "    <tr>\n",
       "      <th>2</th>\n",
       "      <td>0</td>\n",
       "      <td>1</td>\n",
       "      <td>1</td>\n",
       "      <td>1</td>\n",
       "      <td>1</td>\n",
       "      <td>0</td>\n",
       "      <td>0</td>\n",
       "      <td>0</td>\n",
       "      <td>0</td>\n",
       "      <td>0</td>\n",
       "      <td>0</td>\n",
       "      <td>0</td>\n",
       "      <td>0</td>\n",
       "      <td>0</td>\n",
       "      <td>0</td>\n",
       "    </tr>\n",
       "    <tr>\n",
       "      <th>3</th>\n",
       "      <td>1</td>\n",
       "      <td>0</td>\n",
       "      <td>0</td>\n",
       "      <td>0</td>\n",
       "      <td>0</td>\n",
       "      <td>1</td>\n",
       "      <td>0</td>\n",
       "      <td>0</td>\n",
       "      <td>0</td>\n",
       "      <td>0</td>\n",
       "      <td>0</td>\n",
       "      <td>0</td>\n",
       "      <td>0</td>\n",
       "      <td>0</td>\n",
       "      <td>0</td>\n",
       "    </tr>\n",
       "    <tr>\n",
       "      <th>4</th>\n",
       "      <td>1</td>\n",
       "      <td>0</td>\n",
       "      <td>0</td>\n",
       "      <td>0</td>\n",
       "      <td>0</td>\n",
       "      <td>1</td>\n",
       "      <td>1</td>\n",
       "      <td>1</td>\n",
       "      <td>1</td>\n",
       "      <td>0</td>\n",
       "      <td>0</td>\n",
       "      <td>0</td>\n",
       "      <td>0</td>\n",
       "      <td>0</td>\n",
       "      <td>0</td>\n",
       "    </tr>\n",
       "    <tr>\n",
       "      <th>...</th>\n",
       "      <td>...</td>\n",
       "      <td>...</td>\n",
       "      <td>...</td>\n",
       "      <td>...</td>\n",
       "      <td>...</td>\n",
       "      <td>...</td>\n",
       "      <td>...</td>\n",
       "      <td>...</td>\n",
       "      <td>...</td>\n",
       "      <td>...</td>\n",
       "      <td>...</td>\n",
       "      <td>...</td>\n",
       "      <td>...</td>\n",
       "      <td>...</td>\n",
       "      <td>...</td>\n",
       "    </tr>\n",
       "    <tr>\n",
       "      <th>555</th>\n",
       "      <td>0</td>\n",
       "      <td>1</td>\n",
       "      <td>1</td>\n",
       "      <td>1</td>\n",
       "      <td>0</td>\n",
       "      <td>1</td>\n",
       "      <td>0</td>\n",
       "      <td>0</td>\n",
       "      <td>0</td>\n",
       "      <td>0</td>\n",
       "      <td>0</td>\n",
       "      <td>0</td>\n",
       "      <td>0</td>\n",
       "      <td>0</td>\n",
       "      <td>0</td>\n",
       "    </tr>\n",
       "    <tr>\n",
       "      <th>556</th>\n",
       "      <td>1</td>\n",
       "      <td>1</td>\n",
       "      <td>1</td>\n",
       "      <td>0</td>\n",
       "      <td>0</td>\n",
       "      <td>1</td>\n",
       "      <td>0</td>\n",
       "      <td>0</td>\n",
       "      <td>0</td>\n",
       "      <td>0</td>\n",
       "      <td>0</td>\n",
       "      <td>1</td>\n",
       "      <td>0</td>\n",
       "      <td>0</td>\n",
       "      <td>1</td>\n",
       "    </tr>\n",
       "    <tr>\n",
       "      <th>557</th>\n",
       "      <td>0</td>\n",
       "      <td>0</td>\n",
       "      <td>0</td>\n",
       "      <td>0</td>\n",
       "      <td>0</td>\n",
       "      <td>0</td>\n",
       "      <td>0</td>\n",
       "      <td>0</td>\n",
       "      <td>0</td>\n",
       "      <td>0</td>\n",
       "      <td>0</td>\n",
       "      <td>0</td>\n",
       "      <td>1</td>\n",
       "      <td>0</td>\n",
       "      <td>0</td>\n",
       "    </tr>\n",
       "    <tr>\n",
       "      <th>558</th>\n",
       "      <td>1</td>\n",
       "      <td>0</td>\n",
       "      <td>0</td>\n",
       "      <td>0</td>\n",
       "      <td>0</td>\n",
       "      <td>1</td>\n",
       "      <td>0</td>\n",
       "      <td>1</td>\n",
       "      <td>0</td>\n",
       "      <td>0</td>\n",
       "      <td>0</td>\n",
       "      <td>0</td>\n",
       "      <td>0</td>\n",
       "      <td>0</td>\n",
       "      <td>0</td>\n",
       "    </tr>\n",
       "    <tr>\n",
       "      <th>559</th>\n",
       "      <td>0</td>\n",
       "      <td>1</td>\n",
       "      <td>1</td>\n",
       "      <td>1</td>\n",
       "      <td>0</td>\n",
       "      <td>1</td>\n",
       "      <td>0</td>\n",
       "      <td>0</td>\n",
       "      <td>0</td>\n",
       "      <td>0</td>\n",
       "      <td>0</td>\n",
       "      <td>0</td>\n",
       "      <td>1</td>\n",
       "      <td>0</td>\n",
       "      <td>0</td>\n",
       "    </tr>\n",
       "  </tbody>\n",
       "</table>\n",
       "<p>560 rows × 15 columns</p>\n",
       "</div>"
      ],
      "text/plain": [
       "     AU17  AU1  AU2  AU25  AU27  AU4  ...  AU6  AU12  AU15  AU14  AU11  AU26\n",
       "0       1    0    0     0     0    0  ...    0     0     0     0     0     0\n",
       "1       0    1    1     1     0    0  ...    0     0     0     0     0     0\n",
       "2       0    1    1     1     1    0  ...    0     0     0     0     0     0\n",
       "3       1    0    0     0     0    1  ...    0     0     0     0     0     0\n",
       "4       1    0    0     0     0    1  ...    0     0     0     0     0     0\n",
       "..    ...  ...  ...   ...   ...  ...  ...  ...   ...   ...   ...   ...   ...\n",
       "555     0    1    1     1     0    1  ...    0     0     0     0     0     0\n",
       "556     1    1    1     0     0    1  ...    0     0     1     0     0     1\n",
       "557     0    0    0     0     0    0  ...    0     0     0     1     0     0\n",
       "558     1    0    0     0     0    1  ...    0     0     0     0     0     0\n",
       "559     0    1    1     1     0    1  ...    0     0     0     1     0     0\n",
       "\n",
       "[560 rows x 15 columns]"
      ]
     },
     "execution_count": 601,
     "metadata": {},
     "output_type": "execute_result"
    }
   ],
   "source": [
    "facs_code_list = []\n",
    "facs_code_df = df[df.columns[5:20]]\n",
    "for i in range(df.shape[0]):\n",
    "    facs_code_row = df.iloc[i, 5:20].tolist()\n",
    "    facs_code_list.append(facs_code_row)\n",
    "facs_list = np.array(facs_code_list)\n",
    "facs_code_df"
   ]
  },
  {
   "cell_type": "markdown",
   "metadata": {},
   "source": [
    "## [4] TRAIN TEST SPLIT"
   ]
  },
  {
   "cell_type": "code",
   "execution_count": 602,
   "metadata": {},
   "outputs": [],
   "source": [
    "from sklearn.model_selection import train_test_split\n",
    "from tensorflow.keras.preprocessing.image import ImageDataGenerator"
   ]
  },
  {
   "cell_type": "markdown",
   "metadata": {},
   "source": [
    "MIGHT RESAMPLE"
   ]
  },
  {
   "cell_type": "markdown",
   "metadata": {},
   "source": [
    "SPLIT TRAIN, VAL, TEST SET"
   ]
  },
  {
   "cell_type": "code",
   "execution_count": 603,
   "metadata": {},
   "outputs": [
    {
     "name": "stdout",
     "output_type": "stream",
     "text": [
      "Train\n",
      "392 392 392 \n",
      "\n",
      "Val\n",
      "84 84 84 \n",
      "\n",
      "Test\n",
      "84 84 84\n"
     ]
    }
   ],
   "source": [
    "# Split data into training, validation, and test sets\n",
    "X_train, X_temp, y_train_facs, y_temp_facs, y_train_emotion, y_temp_emotion = train_test_split(img_data, facs_list, emotions_label, test_size=0.3)\n",
    "X_val, X_test, y_val_facs, y_test_facs, y_val_emotion, y_test_emotion = train_test_split(X_temp, y_temp_facs, y_temp_emotion, test_size=0.5)\n",
    "\n",
    "# TRAIN (70)\n",
    "print(\"Train\")\n",
    "print(len(X_train), len(y_train_facs), len(y_train_emotion), \"\\n\")\n",
    "\n",
    "# VAl (15)\n",
    "print(\"Val\")\n",
    "print(len(X_val),  len(y_val_facs), len(y_val_emotion), \"\\n\")\n",
    "\n",
    "# TEST (15)\n",
    "print(\"Test\")\n",
    "print(len(X_test), len(y_test_facs), len(y_test_emotion))"
   ]
  },
  {
   "cell_type": "markdown",
   "metadata": {},
   "source": [
    "DATA AUGMENTATION"
   ]
  },
  {
   "cell_type": "code",
   "execution_count": 604,
   "metadata": {},
   "outputs": [],
   "source": [
    "# Initialize the ImageDataGenerator with augmentation parameters\n",
    "data_gen = ImageDataGenerator(\n",
    "    rotation_range=20,\n",
    "    width_shift_range=0.2,\n",
    "    height_shift_range=0.2,\n",
    "    shear_range=0.2,\n",
    "    zoom_range=0.2,\n",
    "    horizontal_flip=True,\n",
    "    fill_mode='nearest'\n",
    ")\n",
    "\n",
    "# Custom generator\n",
    "def custom_generator(X_train, y_facs_code, y_emotion_label, batch_size=32):\n",
    "    gen = data_gen.flow(X_train, batch_size=batch_size, shuffle=False)\n",
    "    while True:\n",
    "        X_batch = next(gen)\n",
    "        idx = (gen.batch_index - 1) * batch_size\n",
    "        idx = idx if idx < X_train.shape[0] else X_train.shape[0] - batch_size\n",
    "        y_batch_facs = y_facs_code[idx: idx + batch_size]\n",
    "        y_batch_emotion = y_emotion_label[idx: idx + batch_size]\n",
    "        yield X_batch, {'facs_output': y_batch_facs, 'emotion_output': y_batch_emotion}\n",
    "\n",
    "train_generator = custom_generator(X_train, y_train_facs, y_train_emotion)"
   ]
  },
  {
   "cell_type": "markdown",
   "metadata": {},
   "source": [
    "## [5] GET BASELINE MODEL"
   ]
  },
  {
   "cell_type": "code",
   "execution_count": 605,
   "metadata": {},
   "outputs": [],
   "source": [
    "from tensorflow.keras.models import Model\n",
    "from tensorflow.keras.layers import Input, Conv2D, MaxPooling2D, Flatten, Dense, BatchNormalization, Dropout"
   ]
  },
  {
   "cell_type": "markdown",
   "metadata": {},
   "source": [
    "5.1 Design Model Structure"
   ]
  },
  {
   "cell_type": "code",
   "execution_count": 606,
   "metadata": {},
   "outputs": [],
   "source": [
    "# input_layer = Input(shape=(48, 48, 1)) # INPUT WILL BE IMAGE WITH DESIGNED DIMENSIONS\n",
    "# # Example CNN layers\n",
    "# x = Conv2D(32, (3, 3), activation='relu')(input_layer)\n",
    "# # x = BatchNormalization()(x)  # Adding batch normalization\n",
    "# x = MaxPooling2D((2, 2))(x)\n",
    "# # x = Dropout(0.5)(x)  # Adding dropout\n",
    "# x = Flatten()(x)\n",
    "\n",
    "# # FACS codes output\n",
    "# facs_output = Dense(15, activation='sigmoid', name='facs_output')(x) # 15 FACS codes\n",
    "\n",
    "# # Emotion label output\n",
    "# emotion_output = Dense(3, activation='softmax', name='emotion_output')(x) # 3 emotion labels\n",
    "\n",
    "# # Create the model\n",
    "# model = Model(inputs=input_layer, outputs=[facs_output, emotion_output])\n",
    "\n",
    "# model.compile(optimizer='adam', \n",
    "#               loss={'facs_output': 'binary_crossentropy', 'emotion_output': 'categorical_crossentropy'}, \n",
    "#               metrics=['accuracy'])"
   ]
  },
  {
   "cell_type": "code",
   "execution_count": 607,
   "metadata": {},
   "outputs": [],
   "source": [
    "input_layer = Input(shape=(48, 48, 1)) # INPUT WILL BE IMAGE WITH DESIGNED DIMENSIONS\n",
    "\n",
    "# Adding more CNN layers\n",
    "x = Conv2D(32, (3, 3), activation='relu')(input_layer)\n",
    "x = Conv2D(64, (3, 3), activation='relu')(x)\n",
    "x = MaxPooling2D((2, 2))(x)\n",
    "x = Conv2D(128, (3, 3), activation='relu')(x)\n",
    "x = Conv2D(256, (3, 3), activation='relu')(x)  # New Conv layer\n",
    "x = MaxPooling2D((2, 2))(x)\n",
    "x = Conv2D(512, (3, 3), activation='relu')(x)  # New Conv layer\n",
    "x = MaxPooling2D((2, 2))(x)\n",
    "\n",
    "# Adding batch normalization and dropout for regularization\n",
    "x = BatchNormalization()(x)\n",
    "x = Dropout(0.5)(x)\n",
    "\n",
    "\n",
    "# FACS Branch\n",
    "facs_branch = Flatten()(x)\n",
    "facs_branch = Dense(128, activation='relu')(facs_branch)\n",
    "facs_branch = Dropout(0.5)(facs_branch)\n",
    "facs_output = Dense(15, activation='sigmoid', name='facs_output')(facs_branch)\n",
    "\n",
    "# Emotion Branch\n",
    "emotion_branch = Flatten()(x)\n",
    "emotion_branch = Dense(64, activation='relu')(emotion_branch)\n",
    "emotion_branch = Dropout(0.5)(emotion_branch)\n",
    "emotion_output = Dense(3, activation='softmax', name='emotion_output')(emotion_branch)\n",
    "\n",
    "# Create the model\n",
    "model = Model(inputs=input_layer, outputs=[facs_output, emotion_output])\n",
    "\n",
    "model.compile(optimizer='adam', \n",
    "              loss={'facs_output': 'binary_crossentropy', 'emotion_output': 'categorical_crossentropy'}, \n",
    "              metrics=['accuracy'])"
   ]
  },
  {
   "cell_type": "code",
   "execution_count": 608,
   "metadata": {},
   "outputs": [
    {
     "data": {
      "image/png": "[encoded data removed]",
      "text/plain": [
       "<IPython.core.display.Image object>"
      ]
     },
     "execution_count": 608,
     "metadata": {},
     "output_type": "execute_result"
    }
   ],
   "source": [
    "from tensorflow.keras.utils import plot_model\n",
    "plot_model(model)"
   ]
  },
  {
   "cell_type": "code",
   "execution_count": 609,
   "metadata": {},
   "outputs": [
    {
     "name": "stdout",
     "output_type": "stream",
     "text": [
      "Model: \"model_13\"\n",
      "__________________________________________________________________________________________________\n",
      " Layer (type)                Output Shape                 Param #   Connected to                  \n",
      "==================================================================================================\n",
      " input_21 (InputLayer)       [(None, 48, 48, 1)]          0         []                            \n",
      "                                                                                                  \n",
      " conv2d_80 (Conv2D)          (None, 46, 46, 32)           320       ['input_21[0][0]']            \n",
      "                                                                                                  \n",
      " conv2d_81 (Conv2D)          (None, 44, 44, 64)           18496     ['conv2d_80[0][0]']           \n",
      "                                                                                                  \n",
      " max_pooling2d_49 (MaxPooli  (None, 22, 22, 64)           0         ['conv2d_81[0][0]']           \n",
      " ng2D)                                                                                            \n",
      "                                                                                                  \n",
      " conv2d_82 (Conv2D)          (None, 20, 20, 128)          73856     ['max_pooling2d_49[0][0]']    \n",
      "                                                                                                  \n",
      " conv2d_83 (Conv2D)          (None, 18, 18, 256)          295168    ['conv2d_82[0][0]']           \n",
      "                                                                                                  \n",
      " max_pooling2d_50 (MaxPooli  (None, 9, 9, 256)            0         ['conv2d_83[0][0]']           \n",
      " ng2D)                                                                                            \n",
      "                                                                                                  \n",
      " conv2d_84 (Conv2D)          (None, 7, 7, 512)            1180160   ['max_pooling2d_50[0][0]']    \n",
      "                                                                                                  \n",
      " max_pooling2d_51 (MaxPooli  (None, 3, 3, 512)            0         ['conv2d_84[0][0]']           \n",
      " ng2D)                                                                                            \n",
      "                                                                                                  \n",
      " batch_normalization_12 (Ba  (None, 3, 3, 512)            2048      ['max_pooling2d_51[0][0]']    \n",
      " tchNormalization)                                                                                \n",
      "                                                                                                  \n",
      " dropout_24 (Dropout)        (None, 3, 3, 512)            0         ['batch_normalization_12[0][0]\n",
      "                                                                    ']                            \n",
      "                                                                                                  \n",
      " flatten_19 (Flatten)        (None, 4608)                 0         ['dropout_24[0][0]']          \n",
      "                                                                                                  \n",
      " flatten_20 (Flatten)        (None, 4608)                 0         ['dropout_24[0][0]']          \n",
      "                                                                                                  \n",
      " dense_12 (Dense)            (None, 128)                  589952    ['flatten_19[0][0]']          \n",
      "                                                                                                  \n",
      " dense_13 (Dense)            (None, 64)                   294976    ['flatten_20[0][0]']          \n",
      "                                                                                                  \n",
      " dropout_25 (Dropout)        (None, 128)                  0         ['dense_12[0][0]']            \n",
      "                                                                                                  \n",
      " dropout_26 (Dropout)        (None, 64)                   0         ['dense_13[0][0]']            \n",
      "                                                                                                  \n",
      " facs_output (Dense)         (None, 15)                   1935      ['dropout_25[0][0]']          \n",
      "                                                                                                  \n",
      " emotion_output (Dense)      (None, 3)                    195       ['dropout_26[0][0]']          \n",
      "                                                                                                  \n",
      "==================================================================================================\n",
      "Total params: 2457106 (9.37 MB)\n",
      "Trainable params: 2456082 (9.37 MB)\n",
      "Non-trainable params: 1024 (4.00 KB)\n",
      "__________________________________________________________________________________________________\n"
     ]
    }
   ],
   "source": [
    "model.summary()"
   ]
  },
  {
   "cell_type": "code",
   "execution_count": 610,
   "metadata": {},
   "outputs": [
    {
     "name": "stdout",
     "output_type": "stream",
     "text": [
      "Epoch 1/128\n"
     ]
    },
    {
     "name": "stderr",
     "output_type": "stream",
     "text": [
      "2023-11-19 19:21:15.958378: I tensorflow/core/grappler/optimizers/custom_graph_optimizer_registry.cc:114] Plugin optimizer for device_type GPU is enabled.\n"
     ]
    },
    {
     "name": "stdout",
     "output_type": "stream",
     "text": [
      "13/13 [==============================] - ETA: 0s - loss: 1.8810 - facs_output_loss: 0.5938 - emotion_output_loss: 1.2873 - facs_output_accuracy: 0.1556 - emotion_output_accuracy: 0.4388"
     ]
    },
    {
     "name": "stderr",
     "output_type": "stream",
     "text": [
      "2023-11-19 19:21:26.772862: I tensorflow/core/grappler/optimizers/custom_graph_optimizer_registry.cc:114] Plugin optimizer for device_type GPU is enabled.\n"
     ]
    },
    {
     "name": "stdout",
     "output_type": "stream",
     "text": [
      "13/13 [==============================] - 16s 841ms/step - loss: 1.8810 - facs_output_loss: 0.5938 - emotion_output_loss: 1.2873 - facs_output_accuracy: 0.1556 - emotion_output_accuracy: 0.4388 - val_loss: 1.7045 - val_facs_output_loss: 0.6555 - val_emotion_output_loss: 1.0490 - val_facs_output_accuracy: 0.2381 - val_emotion_output_accuracy: 0.5238\n",
      "Epoch 2/128\n",
      "13/13 [==============================] - 2s 183ms/step - loss: 1.4767 - facs_output_loss: 0.4986 - emotion_output_loss: 0.9782 - facs_output_accuracy: 0.2832 - emotion_output_accuracy: 0.5638 - val_loss: 1.6328 - val_facs_output_loss: 0.6106 - val_emotion_output_loss: 1.0222 - val_facs_output_accuracy: 0.2381 - val_emotion_output_accuracy: 0.5238\n",
      "Epoch 3/128\n",
      "13/13 [==============================] - 1s 94ms/step - loss: 1.4335 - facs_output_loss: 0.4812 - emotion_output_loss: 0.9523 - facs_output_accuracy: 0.3087 - emotion_output_accuracy: 0.6199 - val_loss: 1.6057 - val_facs_output_loss: 0.5918 - val_emotion_output_loss: 1.0138 - val_facs_output_accuracy: 0.2381 - val_emotion_output_accuracy: 0.5238\n",
      "Epoch 4/128\n",
      "13/13 [==============================] - 1s 100ms/step - loss: 1.2953 - facs_output_loss: 0.4542 - emotion_output_loss: 0.8411 - facs_output_accuracy: 0.3622 - emotion_output_accuracy: 0.6531 - val_loss: 1.5801 - val_facs_output_loss: 0.5720 - val_emotion_output_loss: 1.0081 - val_facs_output_accuracy: 0.2381 - val_emotion_output_accuracy: 0.5238\n",
      "Epoch 5/128\n",
      "13/13 [==============================] - 1s 93ms/step - loss: 1.2084 - facs_output_loss: 0.4342 - emotion_output_loss: 0.7742 - facs_output_accuracy: 0.3852 - emotion_output_accuracy: 0.7015 - val_loss: 1.5506 - val_facs_output_loss: 0.5548 - val_emotion_output_loss: 0.9958 - val_facs_output_accuracy: 0.2381 - val_emotion_output_accuracy: 0.5238\n",
      "Epoch 6/128\n",
      "13/13 [==============================] - 1s 92ms/step - loss: 1.1636 - facs_output_loss: 0.4127 - emotion_output_loss: 0.7509 - facs_output_accuracy: 0.3954 - emotion_output_accuracy: 0.7143 - val_loss: 1.5058 - val_facs_output_loss: 0.5368 - val_emotion_output_loss: 0.9689 - val_facs_output_accuracy: 0.2381 - val_emotion_output_accuracy: 0.5238\n",
      "Epoch 7/128\n",
      "13/13 [==============================] - 1s 88ms/step - loss: 1.0663 - facs_output_loss: 0.3969 - emotion_output_loss: 0.6693 - facs_output_accuracy: 0.3724 - emotion_output_accuracy: 0.7449 - val_loss: 1.4952 - val_facs_output_loss: 0.5384 - val_emotion_output_loss: 0.9568 - val_facs_output_accuracy: 0.2381 - val_emotion_output_accuracy: 0.5238\n",
      "Epoch 8/128\n",
      "13/13 [==============================] - 1s 95ms/step - loss: 0.9947 - facs_output_loss: 0.4121 - emotion_output_loss: 0.5826 - facs_output_accuracy: 0.3954 - emotion_output_accuracy: 0.7806 - val_loss: 1.4858 - val_facs_output_loss: 0.5355 - val_emotion_output_loss: 0.9503 - val_facs_output_accuracy: 0.2381 - val_emotion_output_accuracy: 0.5238\n",
      "Epoch 9/128\n",
      "13/13 [==============================] - 1s 91ms/step - loss: 0.9632 - facs_output_loss: 0.3925 - emotion_output_loss: 0.5707 - facs_output_accuracy: 0.3189 - emotion_output_accuracy: 0.7832 - val_loss: 1.4237 - val_facs_output_loss: 0.5191 - val_emotion_output_loss: 0.9047 - val_facs_output_accuracy: 0.2381 - val_emotion_output_accuracy: 0.5238\n",
      "Epoch 10/128\n",
      "13/13 [==============================] - 1s 86ms/step - loss: 0.9877 - facs_output_loss: 0.3872 - emotion_output_loss: 0.6005 - facs_output_accuracy: 0.3571 - emotion_output_accuracy: 0.7806 - val_loss: 1.3637 - val_facs_output_loss: 0.4982 - val_emotion_output_loss: 0.8655 - val_facs_output_accuracy: 0.2381 - val_emotion_output_accuracy: 0.5714\n",
      "Epoch 11/128\n",
      "13/13 [==============================] - 1s 89ms/step - loss: 0.8962 - facs_output_loss: 0.4056 - emotion_output_loss: 0.4905 - facs_output_accuracy: 0.3418 - emotion_output_accuracy: 0.8291 - val_loss: 1.3170 - val_facs_output_loss: 0.4922 - val_emotion_output_loss: 0.8248 - val_facs_output_accuracy: 0.2381 - val_emotion_output_accuracy: 0.5476\n",
      "Epoch 12/128\n",
      "13/13 [==============================] - 1s 91ms/step - loss: 0.9274 - facs_output_loss: 0.4175 - emotion_output_loss: 0.5099 - facs_output_accuracy: 0.3622 - emotion_output_accuracy: 0.8316 - val_loss: 1.3392 - val_facs_output_loss: 0.4751 - val_emotion_output_loss: 0.8641 - val_facs_output_accuracy: 0.2381 - val_emotion_output_accuracy: 0.5238\n",
      "Epoch 13/128\n",
      "13/13 [==============================] - 1s 88ms/step - loss: 0.6916 - facs_output_loss: 0.3702 - emotion_output_loss: 0.3214 - facs_output_accuracy: 0.3597 - emotion_output_accuracy: 0.8801 - val_loss: 1.2972 - val_facs_output_loss: 0.4705 - val_emotion_output_loss: 0.8267 - val_facs_output_accuracy: 0.2381 - val_emotion_output_accuracy: 0.5238\n",
      "Epoch 14/128\n",
      "13/13 [==============================] - 1s 90ms/step - loss: 0.6623 - facs_output_loss: 0.3604 - emotion_output_loss: 0.3019 - facs_output_accuracy: 0.3980 - emotion_output_accuracy: 0.8980 - val_loss: 1.2481 - val_facs_output_loss: 0.4607 - val_emotion_output_loss: 0.7873 - val_facs_output_accuracy: 0.2381 - val_emotion_output_accuracy: 0.5714\n",
      "Epoch 15/128\n",
      "13/13 [==============================] - 1s 86ms/step - loss: 0.6637 - facs_output_loss: 0.3505 - emotion_output_loss: 0.3132 - facs_output_accuracy: 0.4337 - emotion_output_accuracy: 0.9005 - val_loss: 1.3964 - val_facs_output_loss: 0.4710 - val_emotion_output_loss: 0.9254 - val_facs_output_accuracy: 0.2500 - val_emotion_output_accuracy: 0.5238\n",
      "Epoch 16/128\n",
      "13/13 [==============================] - 1s 88ms/step - loss: 0.6182 - facs_output_loss: 0.3588 - emotion_output_loss: 0.2594 - facs_output_accuracy: 0.3929 - emotion_output_accuracy: 0.9005 - val_loss: 1.2659 - val_facs_output_loss: 0.4634 - val_emotion_output_loss: 0.8025 - val_facs_output_accuracy: 0.2500 - val_emotion_output_accuracy: 0.6429\n",
      "Epoch 17/128\n",
      "13/13 [==============================] - 1s 89ms/step - loss: 0.6229 - facs_output_loss: 0.3753 - emotion_output_loss: 0.2477 - facs_output_accuracy: 0.4311 - emotion_output_accuracy: 0.9184 - val_loss: 1.0257 - val_facs_output_loss: 0.4274 - val_emotion_output_loss: 0.5983 - val_facs_output_accuracy: 0.2500 - val_emotion_output_accuracy: 0.7381\n",
      "Epoch 18/128\n",
      "13/13 [==============================] - 1s 92ms/step - loss: 0.6211 - facs_output_loss: 0.3654 - emotion_output_loss: 0.2557 - facs_output_accuracy: 0.3495 - emotion_output_accuracy: 0.9107 - val_loss: 1.0256 - val_facs_output_loss: 0.4304 - val_emotion_output_loss: 0.5952 - val_facs_output_accuracy: 0.2500 - val_emotion_output_accuracy: 0.7143\n",
      "Epoch 19/128\n",
      "13/13 [==============================] - 1s 93ms/step - loss: 0.6902 - facs_output_loss: 0.3766 - emotion_output_loss: 0.3136 - facs_output_accuracy: 0.3827 - emotion_output_accuracy: 0.9031 - val_loss: 1.0492 - val_facs_output_loss: 0.4545 - val_emotion_output_loss: 0.5947 - val_facs_output_accuracy: 0.2381 - val_emotion_output_accuracy: 0.8095\n",
      "Epoch 20/128\n",
      "13/13 [==============================] - 1s 87ms/step - loss: 0.6837 - facs_output_loss: 0.3838 - emotion_output_loss: 0.3000 - facs_output_accuracy: 0.3444 - emotion_output_accuracy: 0.9005 - val_loss: 0.9376 - val_facs_output_loss: 0.4382 - val_emotion_output_loss: 0.4994 - val_facs_output_accuracy: 0.2381 - val_emotion_output_accuracy: 0.8214\n",
      "Epoch 21/128\n",
      "13/13 [==============================] - 1s 87ms/step - loss: 0.6170 - facs_output_loss: 0.4091 - emotion_output_loss: 0.2079 - facs_output_accuracy: 0.4209 - emotion_output_accuracy: 0.9235 - val_loss: 1.2139 - val_facs_output_loss: 0.4616 - val_emotion_output_loss: 0.7522 - val_facs_output_accuracy: 0.2262 - val_emotion_output_accuracy: 0.6786\n",
      "Epoch 22/128\n",
      "13/13 [==============================] - 1s 88ms/step - loss: 0.4959 - facs_output_loss: 0.3454 - emotion_output_loss: 0.1505 - facs_output_accuracy: 0.3750 - emotion_output_accuracy: 0.9515 - val_loss: 1.2658 - val_facs_output_loss: 0.4362 - val_emotion_output_loss: 0.8296 - val_facs_output_accuracy: 0.1548 - val_emotion_output_accuracy: 0.7024\n",
      "Epoch 23/128\n",
      "13/13 [==============================] - 1s 86ms/step - loss: 0.4401 - facs_output_loss: 0.3577 - emotion_output_loss: 0.0823 - facs_output_accuracy: 0.4184 - emotion_output_accuracy: 0.9566 - val_loss: 1.6116 - val_facs_output_loss: 0.4968 - val_emotion_output_loss: 1.1148 - val_facs_output_accuracy: 0.2143 - val_emotion_output_accuracy: 0.5357\n",
      "Epoch 24/128\n",
      "13/13 [==============================] - 1s 87ms/step - loss: 0.4502 - facs_output_loss: 0.3482 - emotion_output_loss: 0.1020 - facs_output_accuracy: 0.4337 - emotion_output_accuracy: 0.9592 - val_loss: 1.8587 - val_facs_output_loss: 0.5538 - val_emotion_output_loss: 1.3049 - val_facs_output_accuracy: 0.2143 - val_emotion_output_accuracy: 0.5357\n",
      "Epoch 25/128\n",
      "13/13 [==============================] - 1s 85ms/step - loss: 0.4779 - facs_output_loss: 0.3437 - emotion_output_loss: 0.1342 - facs_output_accuracy: 0.3878 - emotion_output_accuracy: 0.9617 - val_loss: 1.0425 - val_facs_output_loss: 0.4527 - val_emotion_output_loss: 0.5898 - val_facs_output_accuracy: 0.2500 - val_emotion_output_accuracy: 0.7500\n",
      "Epoch 26/128\n",
      "13/13 [==============================] - 1s 85ms/step - loss: 0.4192 - facs_output_loss: 0.3505 - emotion_output_loss: 0.0687 - facs_output_accuracy: 0.4464 - emotion_output_accuracy: 0.9719 - val_loss: 1.5007 - val_facs_output_loss: 0.4857 - val_emotion_output_loss: 1.0150 - val_facs_output_accuracy: 0.2381 - val_emotion_output_accuracy: 0.6310\n",
      "Epoch 27/128\n",
      "13/13 [==============================] - 1s 89ms/step - loss: 0.3896 - facs_output_loss: 0.3424 - emotion_output_loss: 0.0473 - facs_output_accuracy: 0.3954 - emotion_output_accuracy: 0.9796 - val_loss: 0.9000 - val_facs_output_loss: 0.3911 - val_emotion_output_loss: 0.5089 - val_facs_output_accuracy: 0.2381 - val_emotion_output_accuracy: 0.7738\n",
      "Epoch 28/128\n",
      "13/13 [==============================] - 1s 88ms/step - loss: 0.3570 - facs_output_loss: 0.3308 - emotion_output_loss: 0.0262 - facs_output_accuracy: 0.3801 - emotion_output_accuracy: 0.9898 - val_loss: 0.8432 - val_facs_output_loss: 0.4053 - val_emotion_output_loss: 0.4379 - val_facs_output_accuracy: 0.2619 - val_emotion_output_accuracy: 0.8333\n",
      "Epoch 29/128\n",
      "13/13 [==============================] - 1s 86ms/step - loss: 0.3850 - facs_output_loss: 0.3455 - emotion_output_loss: 0.0394 - facs_output_accuracy: 0.4082 - emotion_output_accuracy: 0.9821 - val_loss: 0.9041 - val_facs_output_loss: 0.4706 - val_emotion_output_loss: 0.4335 - val_facs_output_accuracy: 0.2381 - val_emotion_output_accuracy: 0.8571\n",
      "Epoch 30/128\n",
      "13/13 [==============================] - 1s 89ms/step - loss: 0.3871 - facs_output_loss: 0.3317 - emotion_output_loss: 0.0554 - facs_output_accuracy: 0.3954 - emotion_output_accuracy: 0.9796 - val_loss: 1.4767 - val_facs_output_loss: 0.4327 - val_emotion_output_loss: 1.0440 - val_facs_output_accuracy: 0.2381 - val_emotion_output_accuracy: 0.6905\n",
      "Epoch 31/128\n",
      "13/13 [==============================] - 1s 89ms/step - loss: 0.3955 - facs_output_loss: 0.3262 - emotion_output_loss: 0.0693 - facs_output_accuracy: 0.4286 - emotion_output_accuracy: 0.9796 - val_loss: 0.8684 - val_facs_output_loss: 0.4293 - val_emotion_output_loss: 0.4391 - val_facs_output_accuracy: 0.2619 - val_emotion_output_accuracy: 0.8452\n",
      "Epoch 32/128\n",
      "13/13 [==============================] - 1s 90ms/step - loss: 0.3705 - facs_output_loss: 0.3155 - emotion_output_loss: 0.0550 - facs_output_accuracy: 0.4082 - emotion_output_accuracy: 0.9770 - val_loss: 1.0969 - val_facs_output_loss: 0.3841 - val_emotion_output_loss: 0.7127 - val_facs_output_accuracy: 0.4048 - val_emotion_output_accuracy: 0.7976\n",
      "Epoch 33/128\n",
      "13/13 [==============================] - 1s 86ms/step - loss: 0.3440 - facs_output_loss: 0.3115 - emotion_output_loss: 0.0325 - facs_output_accuracy: 0.4209 - emotion_output_accuracy: 0.9872 - val_loss: 1.1959 - val_facs_output_loss: 0.4564 - val_emotion_output_loss: 0.7395 - val_facs_output_accuracy: 0.2500 - val_emotion_output_accuracy: 0.7738\n",
      "Epoch 34/128\n",
      "13/13 [==============================] - 1s 86ms/step - loss: 0.4014 - facs_output_loss: 0.3108 - emotion_output_loss: 0.0906 - facs_output_accuracy: 0.4388 - emotion_output_accuracy: 0.9770 - val_loss: 0.8703 - val_facs_output_loss: 0.3874 - val_emotion_output_loss: 0.4828 - val_facs_output_accuracy: 0.2262 - val_emotion_output_accuracy: 0.8690\n",
      "Epoch 35/128\n",
      "13/13 [==============================] - 1s 87ms/step - loss: 0.4217 - facs_output_loss: 0.3326 - emotion_output_loss: 0.0891 - facs_output_accuracy: 0.3673 - emotion_output_accuracy: 0.9745 - val_loss: 1.9509 - val_facs_output_loss: 0.4397 - val_emotion_output_loss: 1.5112 - val_facs_output_accuracy: 0.3690 - val_emotion_output_accuracy: 0.7381\n",
      "Epoch 36/128\n",
      "13/13 [==============================] - 1s 85ms/step - loss: 0.3472 - facs_output_loss: 0.3214 - emotion_output_loss: 0.0258 - facs_output_accuracy: 0.4541 - emotion_output_accuracy: 0.9898 - val_loss: 1.1688 - val_facs_output_loss: 0.4680 - val_emotion_output_loss: 0.7008 - val_facs_output_accuracy: 0.2738 - val_emotion_output_accuracy: 0.7976\n",
      "Epoch 37/128\n",
      "13/13 [==============================] - 1s 90ms/step - loss: 0.3465 - facs_output_loss: 0.3044 - emotion_output_loss: 0.0420 - facs_output_accuracy: 0.3801 - emotion_output_accuracy: 0.9872 - val_loss: 1.1269 - val_facs_output_loss: 0.5840 - val_emotion_output_loss: 0.5429 - val_facs_output_accuracy: 0.2857 - val_emotion_output_accuracy: 0.8690\n",
      "Epoch 38/128\n",
      "13/13 [==============================] - 1s 88ms/step - loss: 0.3612 - facs_output_loss: 0.3019 - emotion_output_loss: 0.0594 - facs_output_accuracy: 0.4260 - emotion_output_accuracy: 0.9821 - val_loss: 3.1148 - val_facs_output_loss: 0.5512 - val_emotion_output_loss: 2.5636 - val_facs_output_accuracy: 0.1905 - val_emotion_output_accuracy: 0.6071\n",
      "Epoch 39/128\n",
      "13/13 [==============================] - 1s 88ms/step - loss: 0.4029 - facs_output_loss: 0.3206 - emotion_output_loss: 0.0823 - facs_output_accuracy: 0.3954 - emotion_output_accuracy: 0.9745 - val_loss: 1.3143 - val_facs_output_loss: 0.4818 - val_emotion_output_loss: 0.8325 - val_facs_output_accuracy: 0.3095 - val_emotion_output_accuracy: 0.7857\n",
      "Epoch 40/128\n",
      "13/13 [==============================] - 1s 88ms/step - loss: 0.4409 - facs_output_loss: 0.3436 - emotion_output_loss: 0.0973 - facs_output_accuracy: 0.4056 - emotion_output_accuracy: 0.9668 - val_loss: 1.5389 - val_facs_output_loss: 0.4661 - val_emotion_output_loss: 1.0728 - val_facs_output_accuracy: 0.4881 - val_emotion_output_accuracy: 0.7976\n",
      "Epoch 41/128\n",
      "13/13 [==============================] - 1s 86ms/step - loss: 0.3549 - facs_output_loss: 0.3068 - emotion_output_loss: 0.0482 - facs_output_accuracy: 0.4490 - emotion_output_accuracy: 0.9847 - val_loss: 1.5357 - val_facs_output_loss: 0.4553 - val_emotion_output_loss: 1.0805 - val_facs_output_accuracy: 0.4405 - val_emotion_output_accuracy: 0.8095\n",
      "Epoch 42/128\n",
      "13/13 [==============================] - 1s 86ms/step - loss: 0.3622 - facs_output_loss: 0.2993 - emotion_output_loss: 0.0629 - facs_output_accuracy: 0.3954 - emotion_output_accuracy: 0.9770 - val_loss: 2.4056 - val_facs_output_loss: 0.6008 - val_emotion_output_loss: 1.8047 - val_facs_output_accuracy: 0.2500 - val_emotion_output_accuracy: 0.7619\n",
      "Epoch 43/128\n",
      "13/13 [==============================] - 1s 89ms/step - loss: 0.3392 - facs_output_loss: 0.3039 - emotion_output_loss: 0.0353 - facs_output_accuracy: 0.4490 - emotion_output_accuracy: 0.9872 - val_loss: 1.8590 - val_facs_output_loss: 0.5445 - val_emotion_output_loss: 1.3145 - val_facs_output_accuracy: 0.4643 - val_emotion_output_accuracy: 0.8095\n",
      "Epoch 44/128\n",
      "13/13 [==============================] - 1s 85ms/step - loss: 0.3274 - facs_output_loss: 0.2903 - emotion_output_loss: 0.0371 - facs_output_accuracy: 0.4362 - emotion_output_accuracy: 0.9898 - val_loss: 1.8258 - val_facs_output_loss: 0.4445 - val_emotion_output_loss: 1.3813 - val_facs_output_accuracy: 0.3929 - val_emotion_output_accuracy: 0.7738\n",
      "Epoch 45/128\n",
      "13/13 [==============================] - 1s 86ms/step - loss: 0.2906 - facs_output_loss: 0.2712 - emotion_output_loss: 0.0194 - facs_output_accuracy: 0.4337 - emotion_output_accuracy: 0.9923 - val_loss: 1.9808 - val_facs_output_loss: 0.5489 - val_emotion_output_loss: 1.4319 - val_facs_output_accuracy: 0.4286 - val_emotion_output_accuracy: 0.7738\n",
      "Epoch 46/128\n",
      "13/13 [==============================] - 1s 87ms/step - loss: 0.3381 - facs_output_loss: 0.3049 - emotion_output_loss: 0.0332 - facs_output_accuracy: 0.4056 - emotion_output_accuracy: 0.9872 - val_loss: 1.8205 - val_facs_output_loss: 0.5177 - val_emotion_output_loss: 1.3028 - val_facs_output_accuracy: 0.3571 - val_emotion_output_accuracy: 0.8452\n",
      "Epoch 47/128\n",
      "13/13 [==============================] - 1s 87ms/step - loss: 0.3031 - facs_output_loss: 0.2788 - emotion_output_loss: 0.0243 - facs_output_accuracy: 0.4133 - emotion_output_accuracy: 0.9898 - val_loss: 1.9217 - val_facs_output_loss: 0.4559 - val_emotion_output_loss: 1.4658 - val_facs_output_accuracy: 0.4167 - val_emotion_output_accuracy: 0.7976\n",
      "Epoch 48/128\n",
      "13/13 [==============================] - 1s 87ms/step - loss: 0.2945 - facs_output_loss: 0.2831 - emotion_output_loss: 0.0113 - facs_output_accuracy: 0.4184 - emotion_output_accuracy: 0.9923 - val_loss: 1.7043 - val_facs_output_loss: 0.4760 - val_emotion_output_loss: 1.2283 - val_facs_output_accuracy: 0.2619 - val_emotion_output_accuracy: 0.8214\n",
      "Epoch 49/128\n",
      "13/13 [==============================] - 1s 87ms/step - loss: 0.2731 - facs_output_loss: 0.2667 - emotion_output_loss: 0.0064 - facs_output_accuracy: 0.3929 - emotion_output_accuracy: 1.0000 - val_loss: 1.8006 - val_facs_output_loss: 0.5955 - val_emotion_output_loss: 1.2051 - val_facs_output_accuracy: 0.3214 - val_emotion_output_accuracy: 0.8333\n",
      "Epoch 50/128\n",
      "13/13 [==============================] - 1s 87ms/step - loss: 0.2967 - facs_output_loss: 0.2552 - emotion_output_loss: 0.0415 - facs_output_accuracy: 0.4796 - emotion_output_accuracy: 0.9872 - val_loss: 2.1644 - val_facs_output_loss: 0.4938 - val_emotion_output_loss: 1.6706 - val_facs_output_accuracy: 0.3571 - val_emotion_output_accuracy: 0.7976\n",
      "Epoch 51/128\n",
      "13/13 [==============================] - 1s 86ms/step - loss: 0.3268 - facs_output_loss: 0.2832 - emotion_output_loss: 0.0436 - facs_output_accuracy: 0.4056 - emotion_output_accuracy: 0.9847 - val_loss: 2.3940 - val_facs_output_loss: 0.6976 - val_emotion_output_loss: 1.6964 - val_facs_output_accuracy: 0.3690 - val_emotion_output_accuracy: 0.8095\n",
      "Epoch 52/128\n",
      "13/13 [==============================] - 1s 86ms/step - loss: 0.3098 - facs_output_loss: 0.2669 - emotion_output_loss: 0.0429 - facs_output_accuracy: 0.4031 - emotion_output_accuracy: 0.9847 - val_loss: 3.1568 - val_facs_output_loss: 0.5548 - val_emotion_output_loss: 2.6020 - val_facs_output_accuracy: 0.3690 - val_emotion_output_accuracy: 0.7619\n",
      "Epoch 53/128\n",
      "13/13 [==============================] - 1s 88ms/step - loss: 0.4324 - facs_output_loss: 0.3017 - emotion_output_loss: 0.1308 - facs_output_accuracy: 0.3699 - emotion_output_accuracy: 0.9694 - val_loss: 1.7991 - val_facs_output_loss: 0.5165 - val_emotion_output_loss: 1.2826 - val_facs_output_accuracy: 0.3333 - val_emotion_output_accuracy: 0.8214\n",
      "Epoch 54/128\n",
      "13/13 [==============================] - 1s 87ms/step - loss: 0.4054 - facs_output_loss: 0.3032 - emotion_output_loss: 0.1022 - facs_output_accuracy: 0.4872 - emotion_output_accuracy: 0.9770 - val_loss: 2.7392 - val_facs_output_loss: 0.7430 - val_emotion_output_loss: 1.9962 - val_facs_output_accuracy: 0.3452 - val_emotion_output_accuracy: 0.7738\n",
      "Epoch 55/128\n",
      "13/13 [==============================] - 1s 88ms/step - loss: 0.3638 - facs_output_loss: 0.3105 - emotion_output_loss: 0.0534 - facs_output_accuracy: 0.4158 - emotion_output_accuracy: 0.9898 - val_loss: 1.9806 - val_facs_output_loss: 0.6077 - val_emotion_output_loss: 1.3729 - val_facs_output_accuracy: 0.3810 - val_emotion_output_accuracy: 0.8452\n",
      "Epoch 56/128\n",
      "13/13 [==============================] - 1s 88ms/step - loss: 0.3585 - facs_output_loss: 0.2887 - emotion_output_loss: 0.0698 - facs_output_accuracy: 0.4592 - emotion_output_accuracy: 0.9821 - val_loss: 2.7149 - val_facs_output_loss: 1.2867 - val_emotion_output_loss: 1.4281 - val_facs_output_accuracy: 0.2619 - val_emotion_output_accuracy: 0.8214\n",
      "Epoch 57/128\n",
      "13/13 [==============================] - 1s 89ms/step - loss: 0.3330 - facs_output_loss: 0.2850 - emotion_output_loss: 0.0479 - facs_output_accuracy: 0.4286 - emotion_output_accuracy: 0.9796 - val_loss: 2.6727 - val_facs_output_loss: 1.2819 - val_emotion_output_loss: 1.3908 - val_facs_output_accuracy: 0.1786 - val_emotion_output_accuracy: 0.8333\n",
      "Epoch 58/128\n",
      "13/13 [==============================] - 1s 86ms/step - loss: 0.3508 - facs_output_loss: 0.3032 - emotion_output_loss: 0.0477 - facs_output_accuracy: 0.4311 - emotion_output_accuracy: 0.9821 - val_loss: 2.2922 - val_facs_output_loss: 0.8409 - val_emotion_output_loss: 1.4513 - val_facs_output_accuracy: 0.3214 - val_emotion_output_accuracy: 0.8571\n",
      "Epoch 59/128\n",
      "13/13 [==============================] - 1s 86ms/step - loss: 0.3526 - facs_output_loss: 0.2706 - emotion_output_loss: 0.0820 - facs_output_accuracy: 0.4209 - emotion_output_accuracy: 0.9847 - val_loss: 2.1481 - val_facs_output_loss: 0.6428 - val_emotion_output_loss: 1.5054 - val_facs_output_accuracy: 0.3214 - val_emotion_output_accuracy: 0.8333\n",
      "Epoch 60/128\n",
      "13/13 [==============================] - 1s 88ms/step - loss: 0.3114 - facs_output_loss: 0.2646 - emotion_output_loss: 0.0468 - facs_output_accuracy: 0.4158 - emotion_output_accuracy: 0.9847 - val_loss: 3.6982 - val_facs_output_loss: 0.6278 - val_emotion_output_loss: 3.0704 - val_facs_output_accuracy: 0.3690 - val_emotion_output_accuracy: 0.7262\n",
      "Epoch 61/128\n",
      "13/13 [==============================] - 1s 89ms/step - loss: 0.2920 - facs_output_loss: 0.2796 - emotion_output_loss: 0.0124 - facs_output_accuracy: 0.3929 - emotion_output_accuracy: 0.9949 - val_loss: 2.2670 - val_facs_output_loss: 0.6823 - val_emotion_output_loss: 1.5847 - val_facs_output_accuracy: 0.2262 - val_emotion_output_accuracy: 0.8095\n",
      "Epoch 62/128\n",
      "13/13 [==============================] - 1s 88ms/step - loss: 0.2611 - facs_output_loss: 0.2544 - emotion_output_loss: 0.0067 - facs_output_accuracy: 0.4388 - emotion_output_accuracy: 0.9949 - val_loss: 2.1670 - val_facs_output_loss: 0.7686 - val_emotion_output_loss: 1.3984 - val_facs_output_accuracy: 0.2738 - val_emotion_output_accuracy: 0.8333\n",
      "Epoch 63/128\n",
      "13/13 [==============================] - 1s 88ms/step - loss: 0.2813 - facs_output_loss: 0.2401 - emotion_output_loss: 0.0412 - facs_output_accuracy: 0.4209 - emotion_output_accuracy: 0.9872 - val_loss: 5.9081 - val_facs_output_loss: 0.8097 - val_emotion_output_loss: 5.0985 - val_facs_output_accuracy: 0.1786 - val_emotion_output_accuracy: 0.6071\n",
      "Epoch 64/128\n",
      "13/13 [==============================] - 1s 88ms/step - loss: 0.2582 - facs_output_loss: 0.2509 - emotion_output_loss: 0.0074 - facs_output_accuracy: 0.3724 - emotion_output_accuracy: 0.9949 - val_loss: 2.2011 - val_facs_output_loss: 0.6410 - val_emotion_output_loss: 1.5601 - val_facs_output_accuracy: 0.2500 - val_emotion_output_accuracy: 0.8333\n",
      "Epoch 65/128\n",
      "13/13 [==============================] - 1s 88ms/step - loss: 0.2295 - facs_output_loss: 0.2241 - emotion_output_loss: 0.0055 - facs_output_accuracy: 0.4796 - emotion_output_accuracy: 0.9974 - val_loss: 2.3690 - val_facs_output_loss: 0.6701 - val_emotion_output_loss: 1.6989 - val_facs_output_accuracy: 0.2857 - val_emotion_output_accuracy: 0.8452\n",
      "Epoch 66/128\n",
      "13/13 [==============================] - 1s 88ms/step - loss: 0.2471 - facs_output_loss: 0.2379 - emotion_output_loss: 0.0092 - facs_output_accuracy: 0.4541 - emotion_output_accuracy: 0.9974 - val_loss: 2.2345 - val_facs_output_loss: 0.5660 - val_emotion_output_loss: 1.6684 - val_facs_output_accuracy: 0.3333 - val_emotion_output_accuracy: 0.8452\n",
      "Epoch 67/128\n",
      "13/13 [==============================] - 1s 88ms/step - loss: 0.2029 - facs_output_loss: 0.2025 - emotion_output_loss: 4.2296e-04 - facs_output_accuracy: 0.4592 - emotion_output_accuracy: 1.0000 - val_loss: 2.2992 - val_facs_output_loss: 0.6147 - val_emotion_output_loss: 1.6845 - val_facs_output_accuracy: 0.2976 - val_emotion_output_accuracy: 0.8571\n",
      "Epoch 68/128\n",
      "13/13 [==============================] - 1s 86ms/step - loss: 0.1888 - facs_output_loss: 0.1884 - emotion_output_loss: 3.3464e-04 - facs_output_accuracy: 0.4235 - emotion_output_accuracy: 1.0000 - val_loss: 3.0520 - val_facs_output_loss: 0.6939 - val_emotion_output_loss: 2.3581 - val_facs_output_accuracy: 0.2381 - val_emotion_output_accuracy: 0.8095\n",
      "Epoch 69/128\n",
      "13/13 [==============================] - 1s 88ms/step - loss: 0.2087 - facs_output_loss: 0.2038 - emotion_output_loss: 0.0049 - facs_output_accuracy: 0.4541 - emotion_output_accuracy: 0.9974 - val_loss: 3.1336 - val_facs_output_loss: 0.7004 - val_emotion_output_loss: 2.4332 - val_facs_output_accuracy: 0.3690 - val_emotion_output_accuracy: 0.8333\n",
      "Epoch 70/128\n",
      "13/13 [==============================] - 1s 99ms/step - loss: 0.1972 - facs_output_loss: 0.1964 - emotion_output_loss: 7.7198e-04 - facs_output_accuracy: 0.4413 - emotion_output_accuracy: 1.0000 - val_loss: 2.7240 - val_facs_output_loss: 0.6399 - val_emotion_output_loss: 2.0841 - val_facs_output_accuracy: 0.3333 - val_emotion_output_accuracy: 0.8452\n",
      "Epoch 71/128\n",
      "13/13 [==============================] - 1s 96ms/step - loss: 0.2053 - facs_output_loss: 0.1926 - emotion_output_loss: 0.0127 - facs_output_accuracy: 0.4005 - emotion_output_accuracy: 0.9974 - val_loss: 2.3799 - val_facs_output_loss: 0.6070 - val_emotion_output_loss: 1.7729 - val_facs_output_accuracy: 0.3452 - val_emotion_output_accuracy: 0.8452\n",
      "Epoch 72/128\n",
      "13/13 [==============================] - 1s 85ms/step - loss: 0.2099 - facs_output_loss: 0.2014 - emotion_output_loss: 0.0086 - facs_output_accuracy: 0.4413 - emotion_output_accuracy: 0.9949 - val_loss: 2.8164 - val_facs_output_loss: 0.5561 - val_emotion_output_loss: 2.2603 - val_facs_output_accuracy: 0.3452 - val_emotion_output_accuracy: 0.8214\n",
      "Epoch 73/128\n",
      "13/13 [==============================] - 1s 84ms/step - loss: 0.2092 - facs_output_loss: 0.1991 - emotion_output_loss: 0.0101 - facs_output_accuracy: 0.4668 - emotion_output_accuracy: 0.9974 - val_loss: 2.5034 - val_facs_output_loss: 0.7060 - val_emotion_output_loss: 1.7974 - val_facs_output_accuracy: 0.2976 - val_emotion_output_accuracy: 0.8690\n",
      "Epoch 74/128\n",
      "13/13 [==============================] - 1s 84ms/step - loss: 0.2214 - facs_output_loss: 0.2053 - emotion_output_loss: 0.0161 - facs_output_accuracy: 0.4209 - emotion_output_accuracy: 0.9949 - val_loss: 2.6398 - val_facs_output_loss: 0.5643 - val_emotion_output_loss: 2.0755 - val_facs_output_accuracy: 0.3810 - val_emotion_output_accuracy: 0.8333\n",
      "Epoch 75/128\n",
      "13/13 [==============================] - 1s 84ms/step - loss: 0.1986 - facs_output_loss: 0.1946 - emotion_output_loss: 0.0041 - facs_output_accuracy: 0.4260 - emotion_output_accuracy: 0.9974 - val_loss: 3.3152 - val_facs_output_loss: 0.7095 - val_emotion_output_loss: 2.6057 - val_facs_output_accuracy: 0.3095 - val_emotion_output_accuracy: 0.7619\n",
      "Epoch 76/128\n",
      "13/13 [==============================] - 1s 85ms/step - loss: 0.2089 - facs_output_loss: 0.1848 - emotion_output_loss: 0.0240 - facs_output_accuracy: 0.4668 - emotion_output_accuracy: 0.9949 - val_loss: 3.3666 - val_facs_output_loss: 0.7395 - val_emotion_output_loss: 2.6271 - val_facs_output_accuracy: 0.2738 - val_emotion_output_accuracy: 0.7738\n",
      "Epoch 77/128\n",
      "13/13 [==============================] - 1s 86ms/step - loss: 0.2007 - facs_output_loss: 0.1775 - emotion_output_loss: 0.0232 - facs_output_accuracy: 0.4235 - emotion_output_accuracy: 0.9974 - val_loss: 3.2948 - val_facs_output_loss: 0.5867 - val_emotion_output_loss: 2.7081 - val_facs_output_accuracy: 0.2619 - val_emotion_output_accuracy: 0.7976\n",
      "Epoch 78/128\n",
      "13/13 [==============================] - 1s 84ms/step - loss: 0.1777 - facs_output_loss: 0.1722 - emotion_output_loss: 0.0055 - facs_output_accuracy: 0.4311 - emotion_output_accuracy: 0.9974 - val_loss: 3.9791 - val_facs_output_loss: 0.7897 - val_emotion_output_loss: 3.1894 - val_facs_output_accuracy: 0.2262 - val_emotion_output_accuracy: 0.7738\n",
      "Epoch 79/128\n",
      "13/13 [==============================] - 1s 86ms/step - loss: 0.1881 - facs_output_loss: 0.1755 - emotion_output_loss: 0.0125 - facs_output_accuracy: 0.3878 - emotion_output_accuracy: 0.9974 - val_loss: 3.4534 - val_facs_output_loss: 0.7607 - val_emotion_output_loss: 2.6926 - val_facs_output_accuracy: 0.4048 - val_emotion_output_accuracy: 0.8333\n",
      "Epoch 80/128\n",
      "13/13 [==============================] - 1s 86ms/step - loss: 0.1768 - facs_output_loss: 0.1762 - emotion_output_loss: 6.1811e-04 - facs_output_accuracy: 0.4847 - emotion_output_accuracy: 1.0000 - val_loss: 3.3313 - val_facs_output_loss: 0.6029 - val_emotion_output_loss: 2.7283 - val_facs_output_accuracy: 0.3929 - val_emotion_output_accuracy: 0.8452\n",
      "Epoch 81/128\n",
      "13/13 [==============================] - 1s 83ms/step - loss: 0.1939 - facs_output_loss: 0.1760 - emotion_output_loss: 0.0179 - facs_output_accuracy: 0.4158 - emotion_output_accuracy: 0.9949 - val_loss: 3.1363 - val_facs_output_loss: 0.6290 - val_emotion_output_loss: 2.5073 - val_facs_output_accuracy: 0.3333 - val_emotion_output_accuracy: 0.8214\n",
      "Epoch 82/128\n",
      "13/13 [==============================] - 1s 84ms/step - loss: 0.2333 - facs_output_loss: 0.2086 - emotion_output_loss: 0.0247 - facs_output_accuracy: 0.4694 - emotion_output_accuracy: 0.9923 - val_loss: 2.9928 - val_facs_output_loss: 0.7258 - val_emotion_output_loss: 2.2670 - val_facs_output_accuracy: 0.3929 - val_emotion_output_accuracy: 0.7976\n",
      "Epoch 83/128\n",
      "13/13 [==============================] - 1s 84ms/step - loss: 0.4060 - facs_output_loss: 0.2446 - emotion_output_loss: 0.1614 - facs_output_accuracy: 0.4541 - emotion_output_accuracy: 0.9796 - val_loss: 3.6636 - val_facs_output_loss: 0.8723 - val_emotion_output_loss: 2.7913 - val_facs_output_accuracy: 0.1429 - val_emotion_output_accuracy: 0.7857\n",
      "Epoch 84/128\n",
      "13/13 [==============================] - 1s 87ms/step - loss: 0.3792 - facs_output_loss: 0.2764 - emotion_output_loss: 0.1028 - facs_output_accuracy: 0.4133 - emotion_output_accuracy: 0.9719 - val_loss: 3.0239 - val_facs_output_loss: 0.8012 - val_emotion_output_loss: 2.2227 - val_facs_output_accuracy: 0.1905 - val_emotion_output_accuracy: 0.7381\n",
      "Epoch 85/128\n",
      "13/13 [==============================] - 1s 88ms/step - loss: 0.4367 - facs_output_loss: 0.2532 - emotion_output_loss: 0.1835 - facs_output_accuracy: 0.4541 - emotion_output_accuracy: 0.9770 - val_loss: 3.1126 - val_facs_output_loss: 0.7426 - val_emotion_output_loss: 2.3700 - val_facs_output_accuracy: 0.4048 - val_emotion_output_accuracy: 0.8214\n",
      "Epoch 86/128\n",
      "13/13 [==============================] - 1s 90ms/step - loss: 0.4002 - facs_output_loss: 0.2649 - emotion_output_loss: 0.1353 - facs_output_accuracy: 0.4133 - emotion_output_accuracy: 0.9592 - val_loss: 8.3110 - val_facs_output_loss: 3.8148 - val_emotion_output_loss: 4.4961 - val_facs_output_accuracy: 0.0595 - val_emotion_output_accuracy: 0.6786\n",
      "Epoch 87/128\n",
      "13/13 [==============================] - 1s 89ms/step - loss: 0.3513 - facs_output_loss: 0.2875 - emotion_output_loss: 0.0638 - facs_output_accuracy: 0.3980 - emotion_output_accuracy: 0.9872 - val_loss: 5.9795 - val_facs_output_loss: 3.3645 - val_emotion_output_loss: 2.6150 - val_facs_output_accuracy: 0.1190 - val_emotion_output_accuracy: 0.7976\n",
      "Epoch 88/128\n",
      "13/13 [==============================] - 1s 87ms/step - loss: 0.2933 - facs_output_loss: 0.2561 - emotion_output_loss: 0.0372 - facs_output_accuracy: 0.4541 - emotion_output_accuracy: 0.9872 - val_loss: 4.1314 - val_facs_output_loss: 1.3326 - val_emotion_output_loss: 2.7987 - val_facs_output_accuracy: 0.1905 - val_emotion_output_accuracy: 0.7619\n",
      "Epoch 89/128\n",
      "13/13 [==============================] - 1s 85ms/step - loss: 0.2894 - facs_output_loss: 0.2352 - emotion_output_loss: 0.0543 - facs_output_accuracy: 0.4821 - emotion_output_accuracy: 0.9872 - val_loss: 4.1189 - val_facs_output_loss: 1.1150 - val_emotion_output_loss: 3.0039 - val_facs_output_accuracy: 0.1905 - val_emotion_output_accuracy: 0.8095\n",
      "Epoch 90/128\n",
      "13/13 [==============================] - 1s 88ms/step - loss: 0.3532 - facs_output_loss: 0.2319 - emotion_output_loss: 0.1213 - facs_output_accuracy: 0.3597 - emotion_output_accuracy: 0.9770 - val_loss: 2.9068 - val_facs_output_loss: 0.9132 - val_emotion_output_loss: 1.9936 - val_facs_output_accuracy: 0.1548 - val_emotion_output_accuracy: 0.8214\n",
      "Epoch 91/128\n",
      "13/13 [==============================] - 1s 89ms/step - loss: 0.2529 - facs_output_loss: 0.2153 - emotion_output_loss: 0.0376 - facs_output_accuracy: 0.4311 - emotion_output_accuracy: 0.9949 - val_loss: 5.9193 - val_facs_output_loss: 1.1225 - val_emotion_output_loss: 4.7968 - val_facs_output_accuracy: 0.1190 - val_emotion_output_accuracy: 0.7143\n",
      "Epoch 92/128\n",
      "13/13 [==============================] - 1s 86ms/step - loss: 0.2718 - facs_output_loss: 0.2194 - emotion_output_loss: 0.0524 - facs_output_accuracy: 0.4311 - emotion_output_accuracy: 0.9898 - val_loss: 3.7313 - val_facs_output_loss: 0.9965 - val_emotion_output_loss: 2.7349 - val_facs_output_accuracy: 0.2381 - val_emotion_output_accuracy: 0.8095\n",
      "Epoch 93/128\n",
      "13/13 [==============================] - 1s 89ms/step - loss: 0.2346 - facs_output_loss: 0.1988 - emotion_output_loss: 0.0358 - facs_output_accuracy: 0.4337 - emotion_output_accuracy: 0.9898 - val_loss: 3.5361 - val_facs_output_loss: 0.8548 - val_emotion_output_loss: 2.6812 - val_facs_output_accuracy: 0.2262 - val_emotion_output_accuracy: 0.8095\n",
      "Epoch 94/128\n",
      "13/13 [==============================] - 1s 86ms/step - loss: 0.2184 - facs_output_loss: 0.1884 - emotion_output_loss: 0.0301 - facs_output_accuracy: 0.4184 - emotion_output_accuracy: 0.9923 - val_loss: 3.6111 - val_facs_output_loss: 0.9901 - val_emotion_output_loss: 2.6210 - val_facs_output_accuracy: 0.2619 - val_emotion_output_accuracy: 0.8214\n",
      "Epoch 95/128\n",
      "13/13 [==============================] - 1s 89ms/step - loss: 0.5278 - facs_output_loss: 0.2994 - emotion_output_loss: 0.2284 - facs_output_accuracy: 0.3878 - emotion_output_accuracy: 0.9643 - val_loss: 3.5424 - val_facs_output_loss: 0.8287 - val_emotion_output_loss: 2.7137 - val_facs_output_accuracy: 0.3452 - val_emotion_output_accuracy: 0.8333\n",
      "Epoch 96/128\n",
      "13/13 [==============================] - 1s 86ms/step - loss: 0.4953 - facs_output_loss: 0.3182 - emotion_output_loss: 0.1771 - facs_output_accuracy: 0.3827 - emotion_output_accuracy: 0.9617 - val_loss: 4.1780 - val_facs_output_loss: 1.1375 - val_emotion_output_loss: 3.0405 - val_facs_output_accuracy: 0.2500 - val_emotion_output_accuracy: 0.7976\n",
      "Epoch 97/128\n",
      "13/13 [==============================] - 1s 88ms/step - loss: 0.4542 - facs_output_loss: 0.3457 - emotion_output_loss: 0.1085 - facs_output_accuracy: 0.3520 - emotion_output_accuracy: 0.9770 - val_loss: 3.7711 - val_facs_output_loss: 0.9834 - val_emotion_output_loss: 2.7877 - val_facs_output_accuracy: 0.3810 - val_emotion_output_accuracy: 0.7857\n",
      "Epoch 98/128\n",
      "13/13 [==============================] - 1s 87ms/step - loss: 0.4108 - facs_output_loss: 0.2930 - emotion_output_loss: 0.1178 - facs_output_accuracy: 0.4031 - emotion_output_accuracy: 0.9796 - val_loss: 4.5010 - val_facs_output_loss: 0.9370 - val_emotion_output_loss: 3.5640 - val_facs_output_accuracy: 0.4643 - val_emotion_output_accuracy: 0.7976\n",
      "Epoch 99/128\n",
      "13/13 [==============================] - 1s 87ms/step - loss: 0.3005 - facs_output_loss: 0.2727 - emotion_output_loss: 0.0278 - facs_output_accuracy: 0.3597 - emotion_output_accuracy: 0.9923 - val_loss: 4.1456 - val_facs_output_loss: 1.3636 - val_emotion_output_loss: 2.7820 - val_facs_output_accuracy: 0.5000 - val_emotion_output_accuracy: 0.8214\n",
      "Epoch 100/128\n",
      "13/13 [==============================] - 1s 91ms/step - loss: 0.2684 - facs_output_loss: 0.2366 - emotion_output_loss: 0.0318 - facs_output_accuracy: 0.4566 - emotion_output_accuracy: 0.9898 - val_loss: 3.8972 - val_facs_output_loss: 0.9035 - val_emotion_output_loss: 2.9937 - val_facs_output_accuracy: 0.4643 - val_emotion_output_accuracy: 0.7857\n",
      "Epoch 101/128\n",
      "13/13 [==============================] - 1s 90ms/step - loss: 0.3971 - facs_output_loss: 0.2539 - emotion_output_loss: 0.1432 - facs_output_accuracy: 0.4082 - emotion_output_accuracy: 0.9745 - val_loss: 3.8877 - val_facs_output_loss: 1.1335 - val_emotion_output_loss: 2.7542 - val_facs_output_accuracy: 0.3690 - val_emotion_output_accuracy: 0.8095\n",
      "Epoch 102/128\n",
      "13/13 [==============================] - 1s 94ms/step - loss: 0.3443 - facs_output_loss: 0.2881 - emotion_output_loss: 0.0562 - facs_output_accuracy: 0.3929 - emotion_output_accuracy: 0.9745 - val_loss: 3.9390 - val_facs_output_loss: 1.0607 - val_emotion_output_loss: 2.8784 - val_facs_output_accuracy: 0.3214 - val_emotion_output_accuracy: 0.7976\n",
      "Epoch 103/128\n",
      "13/13 [==============================] - 1s 91ms/step - loss: 0.3357 - facs_output_loss: 0.2729 - emotion_output_loss: 0.0628 - facs_output_accuracy: 0.4566 - emotion_output_accuracy: 0.9770 - val_loss: 4.6817 - val_facs_output_loss: 0.7856 - val_emotion_output_loss: 3.8961 - val_facs_output_accuracy: 0.3452 - val_emotion_output_accuracy: 0.7857\n",
      "Epoch 104/128\n",
      "13/13 [==============================] - 1s 93ms/step - loss: 0.6034 - facs_output_loss: 0.2694 - emotion_output_loss: 0.3339 - facs_output_accuracy: 0.4005 - emotion_output_accuracy: 0.9592 - val_loss: 4.3370 - val_facs_output_loss: 0.7395 - val_emotion_output_loss: 3.5975 - val_facs_output_accuracy: 0.4524 - val_emotion_output_accuracy: 0.8452\n",
      "Epoch 105/128\n",
      "13/13 [==============================] - 1s 87ms/step - loss: 0.3402 - facs_output_loss: 0.2952 - emotion_output_loss: 0.0451 - facs_output_accuracy: 0.3648 - emotion_output_accuracy: 0.9847 - val_loss: 3.5056 - val_facs_output_loss: 0.8709 - val_emotion_output_loss: 2.6347 - val_facs_output_accuracy: 0.4524 - val_emotion_output_accuracy: 0.7738\n",
      "Epoch 106/128\n",
      "13/13 [==============================] - 1s 90ms/step - loss: 0.3833 - facs_output_loss: 0.2661 - emotion_output_loss: 0.1173 - facs_output_accuracy: 0.4235 - emotion_output_accuracy: 0.9796 - val_loss: 14.1887 - val_facs_output_loss: 1.2361 - val_emotion_output_loss: 12.9526 - val_facs_output_accuracy: 0.4286 - val_emotion_output_accuracy: 0.4643\n",
      "Epoch 107/128\n",
      "13/13 [==============================] - 1s 101ms/step - loss: 0.4692 - facs_output_loss: 0.2566 - emotion_output_loss: 0.2126 - facs_output_accuracy: 0.4056 - emotion_output_accuracy: 0.9745 - val_loss: 3.1828 - val_facs_output_loss: 0.7752 - val_emotion_output_loss: 2.4076 - val_facs_output_accuracy: 0.4762 - val_emotion_output_accuracy: 0.7976\n",
      "Epoch 108/128\n",
      "13/13 [==============================] - 1s 95ms/step - loss: 0.2804 - facs_output_loss: 0.2452 - emotion_output_loss: 0.0352 - facs_output_accuracy: 0.3776 - emotion_output_accuracy: 0.9872 - val_loss: 3.6850 - val_facs_output_loss: 0.7170 - val_emotion_output_loss: 2.9681 - val_facs_output_accuracy: 0.4524 - val_emotion_output_accuracy: 0.8095\n",
      "Epoch 109/128\n",
      "13/13 [==============================] - 1s 94ms/step - loss: 0.2733 - facs_output_loss: 0.2353 - emotion_output_loss: 0.0380 - facs_output_accuracy: 0.4490 - emotion_output_accuracy: 0.9974 - val_loss: 4.4501 - val_facs_output_loss: 0.7852 - val_emotion_output_loss: 3.6649 - val_facs_output_accuracy: 0.3095 - val_emotion_output_accuracy: 0.7738\n",
      "Epoch 110/128\n",
      "13/13 [==============================] - 1s 89ms/step - loss: 0.2249 - facs_output_loss: 0.1985 - emotion_output_loss: 0.0264 - facs_output_accuracy: 0.4133 - emotion_output_accuracy: 0.9923 - val_loss: 4.2223 - val_facs_output_loss: 0.8693 - val_emotion_output_loss: 3.3530 - val_facs_output_accuracy: 0.3690 - val_emotion_output_accuracy: 0.7976\n",
      "Epoch 111/128\n",
      "13/13 [==============================] - 1s 93ms/step - loss: 0.2052 - facs_output_loss: 0.2047 - emotion_output_loss: 5.4452e-04 - facs_output_accuracy: 0.4286 - emotion_output_accuracy: 1.0000 - val_loss: 6.0913 - val_facs_output_loss: 1.0601 - val_emotion_output_loss: 5.0311 - val_facs_output_accuracy: 0.2500 - val_emotion_output_accuracy: 0.7738\n",
      "Epoch 112/128\n",
      "13/13 [==============================] - 1s 90ms/step - loss: 0.1868 - facs_output_loss: 0.1821 - emotion_output_loss: 0.0047 - facs_output_accuracy: 0.4056 - emotion_output_accuracy: 0.9974 - val_loss: 4.0822 - val_facs_output_loss: 0.7223 - val_emotion_output_loss: 3.3599 - val_facs_output_accuracy: 0.2976 - val_emotion_output_accuracy: 0.8095\n",
      "Epoch 113/128\n",
      "13/13 [==============================] - 1s 88ms/step - loss: 0.1899 - facs_output_loss: 0.1869 - emotion_output_loss: 0.0031 - facs_output_accuracy: 0.4464 - emotion_output_accuracy: 0.9974 - val_loss: 4.1988 - val_facs_output_loss: 0.7679 - val_emotion_output_loss: 3.4309 - val_facs_output_accuracy: 0.2976 - val_emotion_output_accuracy: 0.8214\n",
      "Epoch 114/128\n",
      "13/13 [==============================] - 1s 89ms/step - loss: 0.1749 - facs_output_loss: 0.1726 - emotion_output_loss: 0.0024 - facs_output_accuracy: 0.4592 - emotion_output_accuracy: 1.0000 - val_loss: 4.4225 - val_facs_output_loss: 0.7807 - val_emotion_output_loss: 3.6418 - val_facs_output_accuracy: 0.2976 - val_emotion_output_accuracy: 0.8095\n",
      "Epoch 115/128\n",
      "13/13 [==============================] - 1s 98ms/step - loss: 0.1870 - facs_output_loss: 0.1848 - emotion_output_loss: 0.0022 - facs_output_accuracy: 0.4617 - emotion_output_accuracy: 0.9974 - val_loss: 4.2673 - val_facs_output_loss: 0.7193 - val_emotion_output_loss: 3.5480 - val_facs_output_accuracy: 0.2738 - val_emotion_output_accuracy: 0.8095\n",
      "Epoch 116/128\n",
      "13/13 [==============================] - 1s 90ms/step - loss: 0.1894 - facs_output_loss: 0.1680 - emotion_output_loss: 0.0214 - facs_output_accuracy: 0.4082 - emotion_output_accuracy: 0.9949 - val_loss: 3.5679 - val_facs_output_loss: 0.6315 - val_emotion_output_loss: 2.9365 - val_facs_output_accuracy: 0.3452 - val_emotion_output_accuracy: 0.8214\n",
      "Epoch 117/128\n",
      "13/13 [==============================] - 1s 91ms/step - loss: 0.1624 - facs_output_loss: 0.1624 - emotion_output_loss: 2.7990e-05 - facs_output_accuracy: 0.4719 - emotion_output_accuracy: 1.0000 - val_loss: 3.4756 - val_facs_output_loss: 0.6530 - val_emotion_output_loss: 2.8226 - val_facs_output_accuracy: 0.3810 - val_emotion_output_accuracy: 0.8333\n",
      "Epoch 118/128\n",
      "13/13 [==============================] - 1s 90ms/step - loss: 0.1705 - facs_output_loss: 0.1702 - emotion_output_loss: 3.7037e-04 - facs_output_accuracy: 0.4337 - emotion_output_accuracy: 1.0000 - val_loss: 3.6606 - val_facs_output_loss: 0.6646 - val_emotion_output_loss: 2.9961 - val_facs_output_accuracy: 0.2976 - val_emotion_output_accuracy: 0.8333\n",
      "Epoch 119/128\n",
      "13/13 [==============================] - 1s 90ms/step - loss: 0.1503 - facs_output_loss: 0.1500 - emotion_output_loss: 2.4022e-04 - facs_output_accuracy: 0.4184 - emotion_output_accuracy: 1.0000 - val_loss: 3.7162 - val_facs_output_loss: 0.6955 - val_emotion_output_loss: 3.0206 - val_facs_output_accuracy: 0.3810 - val_emotion_output_accuracy: 0.8214\n",
      "Epoch 120/128\n",
      "13/13 [==============================] - 1s 96ms/step - loss: 0.1465 - facs_output_loss: 0.1462 - emotion_output_loss: 2.7006e-04 - facs_output_accuracy: 0.4260 - emotion_output_accuracy: 1.0000 - val_loss: 3.7458 - val_facs_output_loss: 0.6783 - val_emotion_output_loss: 3.0675 - val_facs_output_accuracy: 0.3929 - val_emotion_output_accuracy: 0.8333\n",
      "Epoch 121/128\n",
      "13/13 [==============================] - 1s 90ms/step - loss: 0.1374 - facs_output_loss: 0.1339 - emotion_output_loss: 0.0035 - facs_output_accuracy: 0.4235 - emotion_output_accuracy: 0.9974 - val_loss: 3.4142 - val_facs_output_loss: 0.6787 - val_emotion_output_loss: 2.7355 - val_facs_output_accuracy: 0.3333 - val_emotion_output_accuracy: 0.8214\n",
      "Epoch 122/128\n",
      "13/13 [==============================] - 1s 85ms/step - loss: 0.1862 - facs_output_loss: 0.1518 - emotion_output_loss: 0.0345 - facs_output_accuracy: 0.4056 - emotion_output_accuracy: 0.9974 - val_loss: 3.9125 - val_facs_output_loss: 0.6880 - val_emotion_output_loss: 3.2245 - val_facs_output_accuracy: 0.3333 - val_emotion_output_accuracy: 0.8095\n",
      "Epoch 123/128\n",
      "13/13 [==============================] - 1s 90ms/step - loss: 0.1490 - facs_output_loss: 0.1463 - emotion_output_loss: 0.0027 - facs_output_accuracy: 0.4158 - emotion_output_accuracy: 1.0000 - val_loss: 4.5367 - val_facs_output_loss: 0.7299 - val_emotion_output_loss: 3.8068 - val_facs_output_accuracy: 0.3690 - val_emotion_output_accuracy: 0.7857\n",
      "Epoch 124/128\n",
      "13/13 [==============================] - 1s 110ms/step - loss: 0.1365 - facs_output_loss: 0.1364 - emotion_output_loss: 7.4473e-05 - facs_output_accuracy: 0.4515 - emotion_output_accuracy: 1.0000 - val_loss: 3.3953 - val_facs_output_loss: 0.6491 - val_emotion_output_loss: 2.7462 - val_facs_output_accuracy: 0.4167 - val_emotion_output_accuracy: 0.8333\n",
      "Epoch 125/128\n",
      "13/13 [==============================] - 1s 101ms/step - loss: 0.1340 - facs_output_loss: 0.1339 - emotion_output_loss: 4.8996e-05 - facs_output_accuracy: 0.4439 - emotion_output_accuracy: 1.0000 - val_loss: 3.2615 - val_facs_output_loss: 0.6166 - val_emotion_output_loss: 2.6449 - val_facs_output_accuracy: 0.3690 - val_emotion_output_accuracy: 0.8571\n",
      "Epoch 126/128\n",
      "13/13 [==============================] - 1s 100ms/step - loss: 0.1168 - facs_output_loss: 0.1168 - emotion_output_loss: 5.5704e-06 - facs_output_accuracy: 0.4719 - emotion_output_accuracy: 1.0000 - val_loss: 3.5037 - val_facs_output_loss: 0.6633 - val_emotion_output_loss: 2.8405 - val_facs_output_accuracy: 0.4524 - val_emotion_output_accuracy: 0.8214\n",
      "Epoch 127/128\n",
      "13/13 [==============================] - 1s 97ms/step - loss: 0.1167 - facs_output_loss: 0.1166 - emotion_output_loss: 1.8454e-04 - facs_output_accuracy: 0.4439 - emotion_output_accuracy: 1.0000 - val_loss: 9.4487 - val_facs_output_loss: 1.9641 - val_emotion_output_loss: 7.4846 - val_facs_output_accuracy: 0.3452 - val_emotion_output_accuracy: 0.6786\n",
      "Epoch 128/128\n",
      "13/13 [==============================] - 1s 95ms/step - loss: 0.1244 - facs_output_loss: 0.1241 - emotion_output_loss: 3.1368e-04 - facs_output_accuracy: 0.4439 - emotion_output_accuracy: 1.0000 - val_loss: 15.4183 - val_facs_output_loss: 2.7926 - val_emotion_output_loss: 12.6257 - val_facs_output_accuracy: 0.3452 - val_emotion_output_accuracy: 0.6190\n"
     ]
    }
   ],
   "source": [
    "# Assuming 'model' is already defined as per your previous code\n",
    "\n",
    "# Change in training configuration\n",
    "epochs = 128\n",
    "batch_size = 32\n",
    "\n",
    "# Training the model with the updated configuration\n",
    "history = model.fit(X_train, {'facs_output': y_train_facs, 'emotion_output': y_train_emotion}, \n",
    "                    validation_data=(X_val, {'facs_output': y_val_facs, 'emotion_output': y_val_emotion}), \n",
    "                    epochs=epochs, batch_size=batch_size)\n",
    "\n",
    "\n",
    "# history = model.fit(train_generator, \n",
    "#                     validation_data=(X_val, {'facs_output': y_val_facs, 'emotion_output': y_val_emotion}), \n",
    "#                     epochs=100, batch_size=32)"
   ]
  },
  {
   "cell_type": "code",
   "execution_count": 611,
   "metadata": {},
   "outputs": [
    {
     "name": "stdout",
     "output_type": "stream",
     "text": [
      "3/3 [==============================] - 0s 64ms/step - loss: 10.8642 - facs_output_loss: 2.7744 - emotion_output_loss: 8.0898 - facs_output_accuracy: 0.2976 - emotion_output_accuracy: 0.6548\n"
     ]
    }
   ],
   "source": [
    "# Evaluate the model on the test set\n",
    "evaluation = model.evaluate(X_test, {'facs_output': y_test_facs, 'emotion_output': y_test_emotion})\n",
    "\n",
    "# Unpacking the evaluation results\n",
    "total_loss = evaluation[0] # Total loss\n",
    "loss_facs = evaluation[1] # Loss for FACS output\n",
    "loss_emotion = evaluation[2] # Loss for emotion output\n",
    "accuracy_facs = evaluation[3] # Accuracy for FACS output\n",
    "accuracy_emotion = evaluation[4] # Accuracy for emotion output"
   ]
  },
  {
   "cell_type": "code",
   "execution_count": 612,
   "metadata": {},
   "outputs": [
    {
     "name": "stderr",
     "output_type": "stream",
     "text": [
      "2023-11-19 19:23:59.125134: I tensorflow/core/grappler/optimizers/custom_graph_optimizer_registry.cc:114] Plugin optimizer for device_type GPU is enabled.\n"
     ]
    },
    {
     "name": "stdout",
     "output_type": "stream",
     "text": [
      "3/3 [==============================] - 1s 262ms/step\n"
     ]
    }
   ],
   "source": [
    "predictions = model.predict(X_test)"
   ]
  },
  {
   "cell_type": "code",
   "execution_count": 613,
   "metadata": {},
   "outputs": [],
   "source": [
    "facs_predictions, emotion_predictions = predictions\n",
    "# Processing FACS predictions: Convert probabilities to binary values\n",
    "facs_pred_binary = (facs_predictions > 0.5).astype(int)\n",
    "\n",
    "# Processing Emotion predictions: Convert probabilities to class labels\n",
    "emotion_pred_labels = np.argmax(emotion_predictions, axis=1)"
   ]
  },
  {
   "cell_type": "code",
   "execution_count": 614,
   "metadata": {},
   "outputs": [
    {
     "data": {
      "text/plain": [
       "array([[0, 0, 0, ..., 0, 0, 0],\n",
       "       [0, 0, 0, ..., 0, 0, 0],\n",
       "       [0, 0, 0, ..., 0, 0, 0],\n",
       "       ...,\n",
       "       [0, 1, 0, ..., 0, 0, 0],\n",
       "       [0, 0, 0, ..., 0, 0, 0],\n",
       "       [0, 0, 0, ..., 0, 0, 0]])"
      ]
     },
     "execution_count": 614,
     "metadata": {},
     "output_type": "execute_result"
    }
   ],
   "source": [
    "facs_pred_binary"
   ]
  },
  {
   "cell_type": "code",
   "execution_count": 615,
   "metadata": {},
   "outputs": [
    {
     "data": {
      "text/plain": [
       "array([0, 0, 1, 0, 0, 0, 0, 0, 0, 0, 0, 0, 0, 0, 0, 0, 0, 0, 0, 0, 0, 0,\n",
       "       0, 0, 0, 0, 0, 0, 0, 0, 0, 0, 0, 0, 0, 0, 1, 0, 0, 0, 0, 0, 0, 0,\n",
       "       0, 0, 0, 0, 0, 0, 0, 0, 0, 0, 0, 0, 0, 0, 0, 0, 0, 0, 0, 2, 0, 0,\n",
       "       0, 1, 0, 0, 0, 1, 0, 0, 0, 2, 0, 0, 0, 0, 1, 0, 0, 0])"
      ]
     },
     "execution_count": 615,
     "metadata": {},
     "output_type": "execute_result"
    }
   ],
   "source": [
    "emotion_pred_labels"
   ]
  },
  {
   "cell_type": "markdown",
   "metadata": {},
   "source": [
    "## [6] HYPER TUNING"
   ]
  },
  {
   "cell_type": "code",
   "execution_count": 616,
   "metadata": {},
   "outputs": [],
   "source": [
    "names = ['negative','positive','surprise']\n",
    "\n",
    "def getLabel(id):\n",
    "    return ['negative','positive','surprise'][id]"
   ]
  },
  {
   "cell_type": "code",
   "execution_count": 617,
   "metadata": {},
   "outputs": [],
   "source": [
    "# Tune note\n",
    "    # Optimizer (Learning Rate, etc...)\n",
    "    # Image Augumentation\n",
    "    # Adjust Epoch\n"
   ]
  }
 ],
 "metadata": {
  "kernelspec": {
   "display_name": "Python 3",
   "language": "python",
   "name": "python3"
  },
  "language_info": {
   "codemirror_mode": {
    "name": "ipython",
    "version": 3
   },
   "file_extension": ".py",
   "mimetype": "text/x-python",
   "name": "python",
   "nbconvert_exporter": "python",
   "pygments_lexer": "ipython3",
   "version": "3.8.18"
  }
 },
 "nbformat": 4,
 "nbformat_minor": 2
}
